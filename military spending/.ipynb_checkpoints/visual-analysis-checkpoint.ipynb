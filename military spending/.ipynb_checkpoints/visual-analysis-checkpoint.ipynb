{
 "cells": [
  {
   "cell_type": "code",
   "execution_count": 1,
   "metadata": {
    "_cell_guid": "b1076dfc-b9ad-4769-8c92-a6c4dae69d19",
    "_uuid": "8f2839f25d086af736a60e9eeb907d3b93b6e0e5"
   },
   "outputs": [],
   "source": [
    "import numpy as np # linear algebra\n",
    "import pandas as pd # data processing\n",
    "\n",
    "import altair as alt"
   ]
  },
  {
   "cell_type": "markdown",
   "metadata": {},
   "source": [
    "Loading the dataset"
   ]
  },
  {
   "cell_type": "code",
   "execution_count": 2,
   "metadata": {
    "_cell_guid": "79c7e3d0-c299-4dcb-8224-4455121ee9b0",
    "_uuid": "d629ff2d2480ee46fbb7e2d37f6b5fab8052498a"
   },
   "outputs": [
    {
     "data": {
      "text/plain": [
       "Index(['Name', 'Code', 'Type', 'Indicator Name', '1960', '1961', '1962',\n",
       "       '1963', '1964', '1965', '1966', '1967', '1968', '1969', '1970', '1971',\n",
       "       '1972', '1973', '1974', '1975', '1976', '1977', '1978', '1979', '1980',\n",
       "       '1981', '1982', '1983', '1984', '1985', '1986', '1987', '1988', '1989',\n",
       "       '1990', '1991', '1992', '1993', '1994', '1995', '1996', '1997', '1998',\n",
       "       '1999', '2000', '2001', '2002', '2003', '2004', '2005', '2006', '2007',\n",
       "       '2008', '2009', '2010', '2011', '2012', '2013', '2014', '2015', '2016',\n",
       "       '2017', '2018'],\n",
       "      dtype='object')"
      ]
     },
     "execution_count": 2,
     "metadata": {},
     "output_type": "execute_result"
    }
   ],
   "source": [
    "data = pd.read_csv(r'Military Expenditure.csv')\n",
    "\n",
    "data.columns"
   ]
  },
  {
   "cell_type": "code",
   "execution_count": 3,
   "metadata": {},
   "outputs": [],
   "source": [
    "# Indicator Name is of no importance \n",
    "\n",
    "data = data.drop(['Indicator Name'], \n",
    "                 axis=1)"
   ]
  },
  {
   "cell_type": "markdown",
   "metadata": {},
   "source": [
    "One of the instances in the dataset contained the Military Expenditure date for all countries combined. We can extract that as a seperate series and then plot a portion of it which starts from 1990"
   ]
  },
  {
   "cell_type": "code",
   "execution_count": 4,
   "metadata": {},
   "outputs": [
    {
     "data": {
      "text/html": [
       "<div>\n",
       "<style scoped>\n",
       "    .dataframe tbody tr th:only-of-type {\n",
       "        vertical-align: middle;\n",
       "    }\n",
       "\n",
       "    .dataframe tbody tr th {\n",
       "        vertical-align: top;\n",
       "    }\n",
       "\n",
       "    .dataframe thead th {\n",
       "        text-align: right;\n",
       "    }\n",
       "</style>\n",
       "<table border=\"1\" class=\"dataframe\">\n",
       "  <thead>\n",
       "    <tr style=\"text-align: right;\">\n",
       "      <th>Year</th>\n",
       "      <th>World</th>\n",
       "      <th>Year</th>\n",
       "    </tr>\n",
       "  </thead>\n",
       "  <tbody>\n",
       "    <tr>\n",
       "      <th>1980</th>\n",
       "      <td>3.640000e+11</td>\n",
       "      <td>1980</td>\n",
       "    </tr>\n",
       "    <tr>\n",
       "      <th>1981</th>\n",
       "      <td>4.000000e+11</td>\n",
       "      <td>1981</td>\n",
       "    </tr>\n",
       "    <tr>\n",
       "      <th>1984</th>\n",
       "      <td>4.480000e+11</td>\n",
       "      <td>1984</td>\n",
       "    </tr>\n",
       "    <tr>\n",
       "      <th>1985</th>\n",
       "      <td>4.740000e+11</td>\n",
       "      <td>1985</td>\n",
       "    </tr>\n",
       "    <tr>\n",
       "      <th>1986</th>\n",
       "      <td>5.200000e+11</td>\n",
       "      <td>1986</td>\n",
       "    </tr>\n",
       "  </tbody>\n",
       "</table>\n",
       "</div>"
      ],
      "text/plain": [
       "Year         World  Year\n",
       "1980  3.640000e+11  1980\n",
       "1981  4.000000e+11  1981\n",
       "1984  4.480000e+11  1984\n",
       "1985  4.740000e+11  1985\n",
       "1986  5.200000e+11  1986"
      ]
     },
     "execution_count": 4,
     "metadata": {},
     "output_type": "execute_result"
    }
   ],
   "source": [
    "World = data[data['Name'] == 'World']\n",
    "World = World.drop(['Code', 'Type'],\n",
    "                  axis = 1)\n",
    "\n",
    "World = World.set_index('Name')\n",
    "World.index = World.index.rename('Year')\n",
    "World = World.T\n",
    "World = World.dropna()\n",
    "\n",
    "World['Year'] = World.index\n",
    "\n",
    "World[\"Year\"] = pd.to_numeric(World[\"Year\"])\n",
    "\n",
    "World.head()\n",
    "# type(World['Year'][0])"
   ]
  },
  {
   "cell_type": "code",
   "execution_count": 5,
   "metadata": {},
   "outputs": [
    {
     "data": {
      "text/plain": [
       "DataTransformerRegistry.enable('default')"
      ]
     },
     "execution_count": 5,
     "metadata": {},
     "output_type": "execute_result"
    }
   ],
   "source": [
    "alt.data_transformers.disable_max_rows()"
   ]
  },
  {
   "cell_type": "code",
   "execution_count": 6,
   "metadata": {},
   "outputs": [],
   "source": [
    "points = alt.Chart(World)\\\n",
    "            .mark_line(size = 5)\\\n",
    "            .encode(\n",
    "                        x = alt.X(\n",
    "                                    'Year:Q',\n",
    "                                    axis = alt.Axis(title = 'Year')\n",
    "                                 ),\n",
    "                        y = alt.Y(\n",
    "                                    'World:Q',\n",
    "                                    axis = alt.Axis(title = 'Amount US $')\n",
    "                                 ),\n",
    "                        color = alt.value(\"#f3a583\"),\n",
    "                        tooltip = ['Year',\n",
    "                                   'World']\n",
    "                    )\\\n",
    "            .properties(\n",
    "                            width = 720,\n",
    "                            height = 450,\n",
    "                            title = 'Annual Global Military Spending'\n",
    "                     )\\\n",
    "            .interactive()  \n",
    "\n",
    "points \n",
    "\n",
    "points.save('world.html')"
   ]
  },
  {
   "cell_type": "code",
   "execution_count": 7,
   "metadata": {},
   "outputs": [
    {
     "data": {
      "text/html": [
       "<div>\n",
       "<style scoped>\n",
       "    .dataframe tbody tr th:only-of-type {\n",
       "        vertical-align: middle;\n",
       "    }\n",
       "\n",
       "    .dataframe tbody tr th {\n",
       "        vertical-align: top;\n",
       "    }\n",
       "\n",
       "    .dataframe thead th {\n",
       "        text-align: right;\n",
       "    }\n",
       "</style>\n",
       "<table border=\"1\" class=\"dataframe\">\n",
       "  <thead>\n",
       "    <tr style=\"text-align: right;\">\n",
       "      <th>Year</th>\n",
       "      <th>Afghanistan</th>\n",
       "      <th>Angola</th>\n",
       "      <th>Albania</th>\n",
       "      <th>United Arab Emirates</th>\n",
       "      <th>Argentina</th>\n",
       "      <th>Armenia</th>\n",
       "      <th>Australia</th>\n",
       "      <th>Austria</th>\n",
       "      <th>Azerbaijan</th>\n",
       "      <th>Burundi</th>\n",
       "      <th>...</th>\n",
       "      <th>Uruguay</th>\n",
       "      <th>United States</th>\n",
       "      <th>Uzbekistan</th>\n",
       "      <th>Venezuela</th>\n",
       "      <th>Vietnam</th>\n",
       "      <th>Kosovo</th>\n",
       "      <th>Yemen, Rep.</th>\n",
       "      <th>South Africa</th>\n",
       "      <th>Zambia</th>\n",
       "      <th>Zimbabwe</th>\n",
       "    </tr>\n",
       "  </thead>\n",
       "  <tbody>\n",
       "    <tr>\n",
       "      <th>2014</th>\n",
       "      <td>268227074.2</td>\n",
       "      <td>6.841864e+09</td>\n",
       "      <td>178120368.0</td>\n",
       "      <td>2.275507e+10</td>\n",
       "      <td>4.979443e+09</td>\n",
       "      <td>457807021.8</td>\n",
       "      <td>2.578371e+10</td>\n",
       "      <td>3.305159e+09</td>\n",
       "      <td>3.427180e+09</td>\n",
       "      <td>62177294.74</td>\n",
       "      <td>...</td>\n",
       "      <td>1.034501e+09</td>\n",
       "      <td>6.100000e+11</td>\n",
       "      <td>NaN</td>\n",
       "      <td>1.554727e+09</td>\n",
       "      <td>4.255722e+09</td>\n",
       "      <td>53575787.74</td>\n",
       "      <td>1.714831e+09</td>\n",
       "      <td>3.892469e+09</td>\n",
       "      <td>443604396.0</td>\n",
       "      <td>368100000.0</td>\n",
       "    </tr>\n",
       "    <tr>\n",
       "      <th>2015</th>\n",
       "      <td>199518614.8</td>\n",
       "      <td>3.608299e+09</td>\n",
       "      <td>132350667.6</td>\n",
       "      <td>NaN</td>\n",
       "      <td>5.482617e+09</td>\n",
       "      <td>447379807.5</td>\n",
       "      <td>2.404557e+10</td>\n",
       "      <td>2.665410e+09</td>\n",
       "      <td>2.943397e+09</td>\n",
       "      <td>66164584.44</td>\n",
       "      <td>...</td>\n",
       "      <td>9.699068e+08</td>\n",
       "      <td>5.960000e+11</td>\n",
       "      <td>NaN</td>\n",
       "      <td>3.205392e+08</td>\n",
       "      <td>4.562633e+09</td>\n",
       "      <td>49984164.36</td>\n",
       "      <td>NaN</td>\n",
       "      <td>3.488868e+09</td>\n",
       "      <td>372447569.8</td>\n",
       "      <td>376677000.0</td>\n",
       "    </tr>\n",
       "    <tr>\n",
       "      <th>2016</th>\n",
       "      <td>185878310.1</td>\n",
       "      <td>2.764055e+09</td>\n",
       "      <td>130853162.6</td>\n",
       "      <td>NaN</td>\n",
       "      <td>4.509648e+09</td>\n",
       "      <td>431396218.6</td>\n",
       "      <td>2.638295e+10</td>\n",
       "      <td>2.885947e+09</td>\n",
       "      <td>1.396969e+09</td>\n",
       "      <td>66462843.08</td>\n",
       "      <td>...</td>\n",
       "      <td>9.882236e+08</td>\n",
       "      <td>6.000000e+11</td>\n",
       "      <td>NaN</td>\n",
       "      <td>2.181549e+08</td>\n",
       "      <td>5.017402e+09</td>\n",
       "      <td>51937624.42</td>\n",
       "      <td>NaN</td>\n",
       "      <td>3.169756e+09</td>\n",
       "      <td>299504759.9</td>\n",
       "      <td>358065000.0</td>\n",
       "    </tr>\n",
       "    <tr>\n",
       "      <th>2017</th>\n",
       "      <td>191407113.2</td>\n",
       "      <td>3.062873e+09</td>\n",
       "      <td>144382688.7</td>\n",
       "      <td>NaN</td>\n",
       "      <td>5.459644e+09</td>\n",
       "      <td>443610413.3</td>\n",
       "      <td>2.769111e+10</td>\n",
       "      <td>3.138359e+09</td>\n",
       "      <td>1.528860e+09</td>\n",
       "      <td>63908678.43</td>\n",
       "      <td>...</td>\n",
       "      <td>1.165710e+09</td>\n",
       "      <td>6.060000e+11</td>\n",
       "      <td>NaN</td>\n",
       "      <td>4.648218e+08</td>\n",
       "      <td>5.073854e+09</td>\n",
       "      <td>57262629.27</td>\n",
       "      <td>NaN</td>\n",
       "      <td>3.638937e+09</td>\n",
       "      <td>339664531.4</td>\n",
       "      <td>340522000.0</td>\n",
       "    </tr>\n",
       "    <tr>\n",
       "      <th>2018</th>\n",
       "      <td>198086263.3</td>\n",
       "      <td>1.983614e+09</td>\n",
       "      <td>180488725.1</td>\n",
       "      <td>NaN</td>\n",
       "      <td>4.144992e+09</td>\n",
       "      <td>608854649.9</td>\n",
       "      <td>2.671183e+10</td>\n",
       "      <td>3.367460e+09</td>\n",
       "      <td>1.708941e+09</td>\n",
       "      <td>65436595.26</td>\n",
       "      <td>...</td>\n",
       "      <td>1.168131e+09</td>\n",
       "      <td>6.490000e+11</td>\n",
       "      <td>NaN</td>\n",
       "      <td>NaN</td>\n",
       "      <td>5.500000e+09</td>\n",
       "      <td>63344074.22</td>\n",
       "      <td>NaN</td>\n",
       "      <td>3.639879e+09</td>\n",
       "      <td>378025431.0</td>\n",
       "      <td>420364000.0</td>\n",
       "    </tr>\n",
       "  </tbody>\n",
       "</table>\n",
       "<p>5 rows × 166 columns</p>\n",
       "</div>"
      ],
      "text/plain": [
       "Year  Afghanistan        Angola      Albania  United Arab Emirates  \\\n",
       "2014  268227074.2  6.841864e+09  178120368.0          2.275507e+10   \n",
       "2015  199518614.8  3.608299e+09  132350667.6                   NaN   \n",
       "2016  185878310.1  2.764055e+09  130853162.6                   NaN   \n",
       "2017  191407113.2  3.062873e+09  144382688.7                   NaN   \n",
       "2018  198086263.3  1.983614e+09  180488725.1                   NaN   \n",
       "\n",
       "Year     Argentina      Armenia     Australia       Austria    Azerbaijan  \\\n",
       "2014  4.979443e+09  457807021.8  2.578371e+10  3.305159e+09  3.427180e+09   \n",
       "2015  5.482617e+09  447379807.5  2.404557e+10  2.665410e+09  2.943397e+09   \n",
       "2016  4.509648e+09  431396218.6  2.638295e+10  2.885947e+09  1.396969e+09   \n",
       "2017  5.459644e+09  443610413.3  2.769111e+10  3.138359e+09  1.528860e+09   \n",
       "2018  4.144992e+09  608854649.9  2.671183e+10  3.367460e+09  1.708941e+09   \n",
       "\n",
       "Year      Burundi  ...       Uruguay  United States  Uzbekistan     Venezuela  \\\n",
       "2014  62177294.74  ...  1.034501e+09   6.100000e+11         NaN  1.554727e+09   \n",
       "2015  66164584.44  ...  9.699068e+08   5.960000e+11         NaN  3.205392e+08   \n",
       "2016  66462843.08  ...  9.882236e+08   6.000000e+11         NaN  2.181549e+08   \n",
       "2017  63908678.43  ...  1.165710e+09   6.060000e+11         NaN  4.648218e+08   \n",
       "2018  65436595.26  ...  1.168131e+09   6.490000e+11         NaN           NaN   \n",
       "\n",
       "Year       Vietnam       Kosovo   Yemen, Rep.  South Africa       Zambia  \\\n",
       "2014  4.255722e+09  53575787.74  1.714831e+09  3.892469e+09  443604396.0   \n",
       "2015  4.562633e+09  49984164.36           NaN  3.488868e+09  372447569.8   \n",
       "2016  5.017402e+09  51937624.42           NaN  3.169756e+09  299504759.9   \n",
       "2017  5.073854e+09  57262629.27           NaN  3.638937e+09  339664531.4   \n",
       "2018  5.500000e+09  63344074.22           NaN  3.639879e+09  378025431.0   \n",
       "\n",
       "Year     Zimbabwe  \n",
       "2014  368100000.0  \n",
       "2015  376677000.0  \n",
       "2016  358065000.0  \n",
       "2017  340522000.0  \n",
       "2018  420364000.0  \n",
       "\n",
       "[5 rows x 166 columns]"
      ]
     },
     "execution_count": 7,
     "metadata": {},
     "output_type": "execute_result"
    }
   ],
   "source": [
    "# Filter to get Country data\n",
    "\n",
    "Countries = data[data['Type']=='Country']\n",
    "Countries = Countries.drop(['Code', 'Type'], axis=1)\n",
    "Countries = Countries.set_index('Name')\n",
    "Countries.index = Countries.index.rename('Year')\n",
    "Countries = Countries.dropna(axis=0, how='all')\n",
    "Countries = Countries.T\n",
    "\n",
    "Countries.tail()"
   ]
  },
  {
   "cell_type": "code",
   "execution_count": 8,
   "metadata": {},
   "outputs": [
    {
     "data": {
      "text/html": [
       "<div>\n",
       "<style scoped>\n",
       "    .dataframe tbody tr th:only-of-type {\n",
       "        vertical-align: middle;\n",
       "    }\n",
       "\n",
       "    .dataframe tbody tr th {\n",
       "        vertical-align: top;\n",
       "    }\n",
       "\n",
       "    .dataframe thead th {\n",
       "        text-align: right;\n",
       "    }\n",
       "</style>\n",
       "<table border=\"1\" class=\"dataframe\">\n",
       "  <thead>\n",
       "    <tr style=\"text-align: right;\">\n",
       "      <th></th>\n",
       "      <th>2018 Billion $</th>\n",
       "      <th>Country</th>\n",
       "    </tr>\n",
       "    <tr>\n",
       "      <th>Country</th>\n",
       "      <th></th>\n",
       "      <th></th>\n",
       "    </tr>\n",
       "  </thead>\n",
       "  <tbody>\n",
       "    <tr>\n",
       "      <th>Iran</th>\n",
       "      <td>13.194151</td>\n",
       "      <td>Iran</td>\n",
       "    </tr>\n",
       "    <tr>\n",
       "      <th>Poland</th>\n",
       "      <td>11.596155</td>\n",
       "      <td>Poland</td>\n",
       "    </tr>\n",
       "    <tr>\n",
       "      <th>Pakistan</th>\n",
       "      <td>11.375526</td>\n",
       "      <td>Pakistan</td>\n",
       "    </tr>\n",
       "  </tbody>\n",
       "</table>\n",
       "</div>"
      ],
      "text/plain": [
       "          2018 Billion $   Country\n",
       "Country                           \n",
       "Iran           13.194151      Iran\n",
       "Poland         11.596155    Poland\n",
       "Pakistan       11.375526  Pakistan"
      ]
     },
     "execution_count": 8,
     "metadata": {},
     "output_type": "execute_result"
    }
   ],
   "source": [
    "# Get top 20 Spending Countries\n",
    "\n",
    "Top_20 = pd.DataFrame((Countries.T['2018']).sort_values(ascending=False)[:20])\n",
    "Top_20 = Top_20/1e9\n",
    "Top_20.index = Top_20.index.rename('Country')\n",
    "Top_20 = Top_20.rename(columns={'2018':'2018 Billion $'})\n",
    "\n",
    "\n",
    "Top_20['Country'] = Top_20.index\n",
    "\n",
    "Top_20['Country'] = Top_20.Country.apply(lambda x: str(x))\n",
    "\n",
    "Top_20.tail(3)"
   ]
  },
  {
   "cell_type": "code",
   "execution_count": 22,
   "metadata": {},
   "outputs": [
    {
     "data": {
      "application/vnd.vegalite.v3+json": {
       "$schema": "https://vega.github.io/schema/vega-lite/v3.4.0.json",
       "config": {
        "mark": {
         "tooltip": null
        },
        "view": {
         "height": 300,
         "width": 400
        }
       },
       "data": {
        "name": "data-03d286dd760b7df00cf7c22fb7d89877"
       },
       "datasets": {
        "data-03d286dd760b7df00cf7c22fb7d89877": [
         {
          "2018 Billion $": 649,
          "Country": "United States"
         },
         {
          "2018 Billion $": 250,
          "Country": "China"
         },
         {
          "2018 Billion $": 67.554666667,
          "Country": "Saudi Arabia"
         },
         {
          "2018 Billion $": 66.510289108,
          "Country": "India"
         },
         {
          "2018 Billion $": 63.799676593,
          "Country": "France"
         },
         {
          "2018 Billion $": 61.38754698,
          "Country": "Russian Federation"
         },
         {
          "2018 Billion $": 49.997192521,
          "Country": "United Kingdom"
         },
         {
          "2018 Billion $": 49.470627811,
          "Country": "Germany"
         },
         {
          "2018 Billion $": 46.617954864,
          "Country": "Japan"
         },
         {
          "2018 Billion $": 43.069973343,
          "Country": "South Korea"
         },
         {
          "2018 Billion $": 27.807513898,
          "Country": "Italy"
         },
         {
          "2018 Billion $": 27.766427104,
          "Country": "Brazil"
         },
         {
          "2018 Billion $": 26.711834225,
          "Country": "Australia"
         },
         {
          "2018 Billion $": 21.620598712,
          "Country": "Canada"
         },
         {
          "2018 Billion $": 18.967113031,
          "Country": "Turkey"
         },
         {
          "2018 Billion $": 18.248291491,
          "Country": "Spain"
         },
         {
          "2018 Billion $": 15.946788601,
          "Country": "Israel"
         },
         {
          "2018 Billion $": 13.194151137,
          "Country": "Iran"
         },
         {
          "2018 Billion $": 11.596155291,
          "Country": "Poland"
         },
         {
          "2018 Billion $": 11.375525626,
          "Country": "Pakistan"
         }
        ]
       },
       "encoding": {
        "color": {
         "field": "Country",
         "type": "nominal"
        },
        "tooltip": [
         {
          "field": "Country",
          "type": "nominal"
         },
         {
          "field": "2018 Billion $",
          "type": "quantitative"
         }
        ],
        "x": {
         "field": "Country",
         "type": "nominal"
        },
        "y": {
         "field": "2018 Billion $",
         "type": "quantitative"
        }
       },
       "height": 450,
       "mark": "bar",
       "selection": {
        "selector012": {
         "bind": "scales",
         "encodings": [
          "x",
          "y"
         ],
         "type": "interval"
        }
       },
       "title": "Top 20 Countries and Spendings in 2018",
       "width": 720
      },
      "image/png": "[encoded data removed]",
      "text/plain": [
       "<VegaLite 3 object>\n",
       "\n",
       "If you see this message, it means the renderer has not been properly enabled\n",
       "for the frontend that you are using. For more information, see\n",
       "https://altair-viz.github.io/user_guide/troubleshooting.html\n"
      ]
     },
     "execution_count": 22,
     "metadata": {},
     "output_type": "execute_result"
    }
   ],
   "source": [
    "points = alt.Chart(Top_20)\\\n",
    "            .mark_bar()\\\n",
    "            .encode(\n",
    "                        x = 'Country',\n",
    "                        y = '2018 Billion $',\n",
    "                        tooltip = ['Country',\n",
    "                                   '2018 Billion $'],\n",
    "                        color='Country',\n",
    "                    )\\\n",
    "            .properties(\n",
    "                            width = 720,\n",
    "                            height = 450,\n",
    "                            title = 'Top 20 Countries and Spendings in 2018'\n",
    "                     )\\\n",
    "            .interactive()  \n",
    "\n",
    "points.save('countries.html')\n",
    "\n",
    "points \n"
   ]
  },
  {
   "cell_type": "code",
   "execution_count": 10,
   "metadata": {},
   "outputs": [],
   "source": [
    "# Adjust for inflation\n",
    "\n",
    "Country_world_share = Countries.copy()\n",
    "cols = Country_world_share.columns\n",
    "\n",
    "for col in cols:\n",
    "    Country_world_share[col] = (Country_world_share[col]/ World['World'])*1e11"
   ]
  },
  {
   "cell_type": "code",
   "execution_count": 11,
   "metadata": {},
   "outputs": [],
   "source": [
    "# According to the Global Firepower Index, these 10 countries are the top 10 strongest firepowers. \n",
    "# Let's judge their military expenses in the last 3 decades.\n",
    "\n",
    "USA = Country_world_share['United States']\n",
    "CHN = Country_world_share['China']\n",
    "RUS = Country_world_share['Russian Federation']\n",
    "IND = Country_world_share['India']\n",
    "JPN = Country_world_share['Japan']\n",
    "SK = Country_world_share['South Korea']\n",
    "FRNC = Country_world_share['France']\n",
    "UK = Country_world_share['United Kingdom']\n",
    "EGY = Country_world_share['Egypt']\n",
    "BRA = Country_world_share['Brazil']\n",
    "\n",
    "GFI_10 = pd.DataFrame([USA, CHN, RUS, IND, JPN, SK, FRNC, UK, EGY,BRA])\n",
    "\n",
    "GFI_10 = GFI_10.T\n",
    "GFI_10 = GFI_10.dropna(axis=0, how='all')\n",
    "GFI_10 = GFI_10/1e9\n",
    "\n",
    "\n",
    "GFI_10.index = GFI_10.index.rename('Year')\n",
    "\n",
    "\n",
    "GFI_10['Year'] = GFI_10.index\n",
    "\n",
    "########################################\n",
    "\n",
    "USA = Countries['United States']\n",
    "CHN = Countries['China']\n",
    "RUS = Countries['Russian Federation']\n",
    "IND = Countries['India']\n",
    "JPN = Countries['Japan']\n",
    "SK = Countries['South Korea']\n",
    "FRNC = Countries['France']\n",
    "UK = Countries['United Kingdom']\n",
    "EGY = Countries['Egypt']\n",
    "BRA = Countries['Brazil']\n",
    "\n",
    "GFI_10_b4 = pd.DataFrame([USA, CHN, RUS, IND, JPN, SK, FRNC, UK, EGY,BRA])\n",
    "\n",
    "GFI_10_b4 = GFI_10_b4.T\n",
    "GFI_10_b4 = GFI_10_b4.dropna(axis=0, how='all')\n",
    "GFI_10_b4 = GFI_10_b4/1e9\n",
    "\n",
    "GFI_10_b4.index = GFI_10_b4.index.rename('Year')\n",
    "\n",
    "\n",
    "GFI_10_b4['Year'] = GFI_10_b4.index\n",
    "\n",
    "# GFI_10_b4.head(3)"
   ]
  },
  {
   "cell_type": "code",
   "execution_count": 12,
   "metadata": {},
   "outputs": [
    {
     "data": {
      "application/vnd.vegalite.v3+json": {
       "$schema": "https://vega.github.io/schema/vega-lite/v3.4.0.json",
       "config": {
        "mark": {
         "tooltip": null
        },
        "view": {
         "height": 300,
         "width": 400
        }
       },
       "data": {
        "name": "data-827f531c0b8a5a07e195f297d5726e03"
       },
       "datasets": {
        "data-827f531c0b8a5a07e195f297d5726e03": [
         {
          "Brazil": 0.620688867857143,
          "China": null,
          "Egypt": 0.3740183041208791,
          "France": 7.260217293131868,
          "India": 1.4892333843406593,
          "Japan": 2.668060876648352,
          "Russian Federation": null,
          "South Korea": 1.0935968376373624,
          "United Kingdom": 6.9679707340659345,
          "United States": 37.91208791208791,
          "Year": "1980"
         },
         {
          "Brazil": 0.62946493925,
          "China": null,
          "Egypt": 0.45428506525000006,
          "France": 5.9667701065,
          "India": 1.469751759,
          "Japan": 2.71279405625,
          "Russian Federation": null,
          "South Korea": 1.11595999,
          "United Kingdom": 6.025176784,
          "United States": 42.5,
          "Year": "1981"
         },
         {
          "Brazil": 0.44936423169642853,
          "China": null,
          "Egypt": 0.8352985515625,
          "France": 4.511684005580356,
          "India": 1.5528309037946426,
          "Japan": 2.7288120754464282,
          "Russian Federation": null,
          "South Korea": 1.0623765470982143,
          "United Kingdom": 5.074307041071428,
          "United States": 51.5625,
          "Year": "1984"
         },
         {
          "Brazil": 0.566888182278481,
          "China": null,
          "Egypt": 0.8868281483122364,
          "France": 4.3840838827004225,
          "India": 1.596418569620253,
          "Japan": 2.761129104219409,
          "Russian Federation": null,
          "South Korea": 1.030336661392405,
          "United Kingdom": 4.911636912658228,
          "United States": 54.43037974683544,
          "Year": "1985"
         },
         {
          "Brazil": 0.5304204938461539,
          "China": null,
          "Egypt": 0.9090646353846155,
          "France": 5.472103473269231,
          "India": 1.834492901153846,
          "Japan": 3.741795084807692,
          "Russian Federation": null,
          "South Korea": 1.0240946296153848,
          "United Kingdom": 5.234008651538462,
          "United States": 54.03846153846153,
          "Year": "1986"
         },
         {
          "Brazil": 0.7353188384353742,
          "China": null,
          "Egypt": 0.817297180272109,
          "France": 5.928356280272109,
          "India": 1.849899007482993,
          "Japan": 4.020797738095237,
          "Russian Federation": null,
          "South Korea": 1.027354643707483,
          "United Kingdom": 5.311507911904762,
          "United States": 48.9795918367347,
          "Year": "1987"
         },
         {
          "Brazil": 0.9368688601275916,
          "China": null,
          "Egypt": 0.7102974586921851,
          "France": 5.758367296012759,
          "India": 1.8096362285486445,
          "Japan": 4.5001758776714516,
          "Russian Federation": null,
          "South Korea": 1.2332369499202551,
          "United Kingdom": 5.47115232647528,
          "United States": 46.730462519936204,
          "Year": "1988"
         },
         {
          "Brazil": 1.3583700722480618,
          "China": 1.7679772124031008,
          "Egypt": 0.5451697365891472,
          "France": 5.475513634108527,
          "India": 1.641828980620155,
          "Japan": 4.335868766201551,
          "Russian Federation": null,
          "South Korea": 1.4680581215503876,
          "United Kingdom": 5.193596651937985,
          "United States": 47.13178294573643,
          "Year": "1989"
         },
         {
          "Brazil": 1.3194709935714286,
          "China": 1.440725938142857,
          "Egypt": 0.32294930871428573,
          "France": 6.0842669684285715,
          "India": 1.5052907785714285,
          "Japan": 4.114350240285714,
          "Russian Federation": null,
          "South Korea": 1.4443878387142859,
          "United Kingdom": 5.5633993778571424,
          "United States": 43.714285714285715,
          "Year": "1990"
         },
         {
          "Brazil": 0.977323400729927,
          "China": 1.4530863880291973,
          "Egypt": 0.19646092598540146,
          "France": 6.23395606,
          "India": 1.2587553110948906,
          "Japan": 4.786192080875913,
          "Russian Federation": null,
          "South Korea": 1.599492605547445,
          "United Kingdom": 6.1422312042335765,
          "United States": 40.87591240875913,
          "Year": "1991"
         },
         {
          "Brazil": 0.6964859786610879,
          "China": 1.7322595362622037,
          "Egypt": 0.19746443152022317,
          "France": 6.293317441283124,
          "India": 1.1273683974895397,
          "Japan": 5.020798267224547,
          "Russian Federation": null,
          "South Korea": 1.6198975168758716,
          "United Kingdom": 5.686881288005579,
          "United States": 42.53835425383543,
          "Year": "1992"
         },
         {
          "Brazil": 1.034970722303207,
          "China": 1.8334061122448981,
          "Egypt": 0.222473089212828,
          "France": 6.2085819740524775,
          "India": 1.203140317930029,
          "Japan": 6.028270586297376,
          "Russian Federation": 1.1321749384839652,
          "South Korea": 1.8042893400874636,
          "United Kingdom": 4.968787370699709,
          "United States": 43.440233236151606,
          "Year": "1993"
         },
         {
          "Brazil": 1.5239567076258993,
          "China": 1.4461275624460432,
          "Egypt": 0.2466776670503597,
          "France": 6.387411845035972,
          "India": 1.277777154820144,
          "Japan": 6.515912817697842,
          "Russian Federation": 1.9493340623021584,
          "South Korea": 1.9452180953956832,
          "United Kingdom": 4.963096998992807,
          "United States": 41.438848920863315,
          "Year": "1994"
         },
         {
          "Brazil": 1.9970599174337518,
          "China": 1.7581910179916318,
          "Egypt": 0.2718099004184101,
          "France": 6.662218967921897,
          "India": 1.3604553179916317,
          "Japan": 6.968155263179916,
          "Russian Federation": 1.777075239888424,
          "South Korea": 2.243388518688982,
          "United Kingdom": 4.776544460529986,
          "United States": 38.912133891213394,
          "Year": "1995"
         },
         {
          "Brazil": 1.9655344336592178,
          "China": 2.03397212150838,
          "Egypt": 0.29549482946927375,
          "France": 6.480927176536312,
          "India": 1.3833341810055866,
          "Japan": 6.151830262569833,
          "Russian Federation": 2.2103827726256986,
          "South Korea": 2.2917130261173186,
          "United Kingdom": 4.817171715782123,
          "United States": 37.84916201117318,
          "Year": "1996"
         },
         {
          "Brazil": 1.9515779484593838,
          "China": 2.255590368627451,
          "Egypt": 0.3175980831932773,
          "France": 5.785469465686274,
          "India": 1.6057259649859943,
          "Japan": 5.691154146778711,
          "Russian Federation": 2.4618141710084034,
          "South Korea": 2.079619682072829,
          "United Kingdom": 4.9964815634453785,
          "United States": 38.655462184873954,
          "Year": "1997"
         },
         {
          "Brazil": 2.062838656178161,
          "China": 2.518389348994253,
          "Egypt": 0.34081155258620693,
          "France": 5.753037310344828,
          "India": 1.712731439367816,
          "Japan": 5.438076529166667,
          "Russian Federation": 1.1430647127873563,
          "South Korea": 1.5025801047413792,
          "United Kingdom": 5.296880582183909,
          "United States": 39.367816091954026,
          "Year": "1998"
         },
         {
          "Brazil": 1.3916747417489421,
          "China": 2.9657745052186177,
          "Egypt": 0.34527204428772923,
          "France": 5.486211612270805,
          "India": 1.9598818703808178,
          "Japan": 6.082214175599436,
          "Russian Federation": 0.9124168139633286,
          "South Korea": 1.70595018674189,
          "United Kingdom": 5.141516644287729,
          "United States": 39.63328631875881,
          "Year": "1999"
         },
         {
          "Brazil": 1.5539770595890412,
          "China": 3.141063644794521,
          "Egypt": 0.359958675890411,
          "France": 4.632090688082191,
          "India": 1.9571937316438355,
          "Japan": 6.234201894109589,
          "Russian Federation": 1.2641375539726027,
          "South Korea": 1.8905626060273972,
          "United Kingdom": 4.82942668479452,
          "United States": 41.369863013698634,
          "Year": "2000"
         },
         {
          "Brazil": 1.4730770307277627,
          "China": 3.7567907390835575,
          "Egypt": 0.38197523315363885,
          "France": 4.484725029245283,
          "India": 1.96774155606469,
          "Japan": 5.492987497843665,
          "Russian Federation": 1.5745486987870623,
          "South Korea": 1.7441847477088948,
          "United Kingdom": 4.761715277628031,
          "United States": 42.18328840970351,
          "Year": "2001"
         },
         {
          "Brazil": 1.2050575938902743,
          "China": 4.007198958728179,
          "Egypt": 0.3619412001246883,
          "France": 4.539143881920199,
          "India": 1.8391106299251871,
          "Japan": 4.904452390274314,
          "Russian Federation": 1.7386315539900248,
          "South Korea": 1.758317121571072,
          "United Kingdom": 4.94507844426434,
          "United States": 44.51371571072319,
          "Year": "2002"
         },
         {
          "Brazil": 0.8957210121664889,
          "China": 3.748805401067236,
          "Egypt": 0.25441994642475985,
          "France": 4.900424102561366,
          "India": 1.7432216267876202,
          "Japan": 4.5342771996798295,
          "Russian Federation": 1.8114983014941304,
          "South Korea": 1.6912537109925294,
          "United Kingdom": 5.009921269050159,
          "United States": 44.29028815368196,
          "Year": "2003"
         },
         {
          "Brazil": 0.9226520363207548,
          "China": 3.8068597298113214,
          "Egypt": 0.22356071566037736,
          "France": 5.000662420849056,
          "India": 1.909298728962264,
          "Japan": 4.277340510849056,
          "Russian Federation": 1.9769258085849053,
          "South Korea": 1.6820626549999997,
          "United Kingdom": 5.091538002924528,
          "United States": 43.867924528301884,
          "Year": "2004"
         },
         {
          "Brazil": 1.181619107478261,
          "China": 3.9929462272173915,
          "Egypt": 0.23125562730434784,
          "France": 4.600762594347826,
          "India": 2.0062880804347825,
          "Japan": 3.852227246086957,
          "Russian Federation": 2.3771284586086954,
          "South Korea": 1.9269141353913044,
          "United Kingdom": 4.79578819026087,
          "United States": 43.73913043478261,
          "Year": "2005"
         },
         {
          "Brazil": 1.3785602778991597,
          "China": 4.6502090478151255,
          "Egypt": 0.2481109377310924,
          "France": 4.581182926890755,
          "India": 2.0127670552941175,
          "Japan": 3.4918145282352944,
          "Russian Federation": 2.900653917563025,
          "South Korea": 2.1157342639495798,
          "United Kingdom": 4.830502157478992,
          "United States": 44.36974789915966,
          "Year": "2006"
         },
         {
          "Brazil": 1.5519513647727272,
          "China": 5.152391077878788,
          "Egypt": 0.2505233528030303,
          "France": 4.590529306590909,
          "India": 2.140513140151515,
          "Japan": 3.0704580066666667,
          "Russian Federation": 3.2981056815151515,
          "South Korea": 2.1004643625,
          "United Kingdom": 4.998946186136364,
          "United States": 42.196969696969695,
          "Year": "2007"
         },
         {
          "Brazil": 1.6411344319463086,
          "China": 5.7961140344295305,
          "Egypt": 0.25368324496644296,
          "France": 4.430164303825503,
          "India": 2.2149246125503352,
          "Japan": 3.1115079382550337,
          "Russian Federation": 3.770723851879194,
          "South Korea": 1.749826208590604,
          "United Kingdom": 4.4039899651006715,
          "United States": 41.677852348993284,
          "Year": "2008"
         },
         {
          "Brazil": 1.6547619297419356,
          "China": 6.838709677419355,
          "Egypt": 0.25918738567741934,
          "France": 4.315098637354839,
          "India": 2.4982035091612906,
          "Japan": 3.3203327876129034,
          "Russian Federation": 3.324652696645161,
          "South Korea": 1.5855265767096776,
          "United Kingdom": 3.736427603741935,
          "United States": 43.16129032258065,
          "Year": "2009"
         },
         {
          "Brazil": 2.0860702128834356,
          "China": 7.116564417177915,
          "Egypt": 0.2703856719631902,
          "France": 3.7902912949693253,
          "India": 2.8276347028834357,
          "Japan": 3.3530951371165645,
          "Russian Federation": 3.6024679514723927,
          "South Korea": 1.7285387250920246,
          "United Kingdom": 3.563364956748466,
          "United States": 42.82208588957056,
          "Year": "2010"
         },
         {
          "Brazil": 2.1350410344508672,
          "China": 7.976878612716764,
          "Egypt": 0.25803319023121385,
          "France": 3.7341576427745666,
          "India": 2.8690066932947973,
          "Japan": 3.5122666960115607,
          "Russian Federation": 4.059972482716763,
          "South Korea": 1.7914282049710981,
          "United Kingdom": 3.483840213121387,
          "United States": 41.09826589595376,
          "Year": "2011"
         },
         {
          "Brazil": 1.9532761536781609,
          "China": 9.022988505747126,
          "Egypt": 0.2619395843103448,
          "France": 3.450296196034483,
          "India": 2.7136160947126435,
          "Japan": 3.4489385169540228,
          "Russian Federation": 4.6821494213218395,
          "South Korea": 1.8363080925287356,
          "United Kingdom": 3.3618193517816097,
          "United States": 39.367816091954026,
          "Year": "2012"
         },
         {
          "Brazil": 1.8893555879885056,
          "China": 10.344827586206895,
          "Egypt": 0.2505651864367816,
          "France": 3.5871896079310344,
          "India": 2.724340735689655,
          "Japan": 2.8174673797126437,
          "Russian Federation": 5.077752670344828,
          "South Korea": 1.971909236494253,
          "United Kingdom": 3.2679172177011493,
          "United States": 36.7816091954023,
          "Year": "2013"
         },
         {
          "Brazil": 1.876989324195402,
          "China": 11.551724137931034,
          "Egypt": 0.2922483070114943,
          "France": 3.6559522495977017,
          "India": 2.9260981805172417,
          "Japan": 2.6943243906896552,
          "Russian Federation": 4.867615209942529,
          "South Korea": 2.1581798087931032,
          "United Kingdom": 3.40131371,
          "United States": 35.05747126436782,
          "Year": "2014"
         },
         {
          "Brazil": 1.5010793709146342,
          "China": 13.048780487804878,
          "Egypt": 0.3338713922560976,
          "France": 3.3745202151829266,
          "India": 3.127773399634146,
          "Japan": 2.5674453235365853,
          "Russian Federation": 4.049921230731708,
          "South Korea": 2.2299249587195127,
          "United Kingdom": 3.284279603231707,
          "United States": 36.34146341463415,
          "Year": "2015"
         },
         {
          "Brazil": 1.4861807914723926,
          "China": 13.25153374233129,
          "Egypt": 0.27687254766871167,
          "France": 3.51892113,
          "India": 3.474700775521472,
          "Japan": 2.8509992462576683,
          "Russian Federation": 4.248178494539878,
          "South Korea": 2.26290082392638,
          "United Kingdom": 2.9520824244171777,
          "United States": 36.80981595092024,
          "Year": "2016"
         },
         {
          "Brazil": 1.7225323714117649,
          "China": 13.411764705882353,
          "Egypt": 0.1626816725882353,
          "France": 3.5539705189411763,
          "India": 3.7976138400588235,
          "Japan": 2.6698254001176474,
          "Russian Federation": 3.913370823058823,
          "South Korea": 2.3041577727058824,
          "United Kingdom": 2.731370788294118,
          "United States": 35.64705882352941,
          "Year": "2017"
         },
         {
          "Brazil": 1.5599116350561797,
          "China": 14.04494382022472,
          "Egypt": 0.17471898269662922,
          "France": 3.5842514939887637,
          "India": 3.7365330959550556,
          "Japan": 2.618986228314607,
          "Russian Federation": 3.4487385943820223,
          "South Korea": 2.4196614237640452,
          "United Kingdom": 2.808831040505618,
          "United States": 36.460674157303366,
          "Year": "2018"
         }
        ]
       },
       "encoding": {
        "color": {
         "field": "key",
         "type": "nominal"
        },
        "tooltip": [
         {
          "field": "value",
          "type": "quantitative"
         },
         {
          "field": "Year",
          "type": "nominal"
         }
        ],
        "x": {
         "field": "Year",
         "type": "nominal"
        },
        "y": {
         "field": "value",
         "type": "quantitative"
        }
       },
       "height": 450,
       "mark": {
        "point": true,
        "type": "line"
       },
       "selection": {
        "selector003": {
         "bind": "scales",
         "encodings": [
          "x",
          "y"
         ],
         "type": "interval"
        }
       },
       "title": "Top 10 Countries and Expenditures in Billion USD (Normalized for Inflation)",
       "transform": [
        {
         "fold": [
          "United States",
          "China",
          "Russian Federation",
          "India",
          "Japan",
          "South Korea",
          "France",
          "United Kingdom",
          "Egypt",
          "Brazil"
         ]
        }
       ],
       "width": 720
      },
      "image/png": "[encoded data removed]",
      "text/plain": [
       "<VegaLite 3 object>\n",
       "\n",
       "If you see this message, it means the renderer has not been properly enabled\n",
       "for the frontend that you are using. For more information, see\n",
       "https://altair-viz.github.io/user_guide/troubleshooting.html\n"
      ]
     },
     "execution_count": 12,
     "metadata": {},
     "output_type": "execute_result"
    }
   ],
   "source": [
    "points = alt.Chart(GFI_10)\\\n",
    "            .transform_fold(['United States', \n",
    "                             'China', \n",
    "                             'Russian Federation', \n",
    "                             'India', \n",
    "                             'Japan',       \n",
    "                             'South Korea', \n",
    "                             'France', \n",
    "                             'United Kingdom', \n",
    "                             'Egypt', \n",
    "                             'Brazil'])\\\n",
    "            .mark_line(point=True)\\\n",
    "            .encode(\n",
    "                        y = 'value:Q',\n",
    "                        x = 'Year',\n",
    "                        tooltip = ['value:Q',\n",
    "                                   'Year'],\n",
    "                        color='key:N',\n",
    "                    )\\\n",
    "            .properties(\n",
    "                            width = 720,\n",
    "                            height = 450,\n",
    "                            title = 'Top 10 Countries and Expenditures in Billion USD (Normalized for Inflation)'\n",
    "                     )\\\n",
    "            .interactive()  \n",
    "\n",
    "points.save('GFI.html')\n",
    "\n",
    "points \n"
   ]
  },
  {
   "cell_type": "code",
   "execution_count": 13,
   "metadata": {},
   "outputs": [
    {
     "data": {
      "application/vnd.vegalite.v3+json": {
       "$schema": "https://vega.github.io/schema/vega-lite/v3.4.0.json",
       "config": {
        "mark": {
         "tooltip": null
        },
        "view": {
         "height": 300,
         "width": 400
        }
       },
       "data": {
        "name": "data-48e39acfd78e91c49c7b0fd254899613"
       },
       "datasets": {
        "data-48e39acfd78e91c49c7b0fd254899613": [
         {
          "Brazil": 0.38272975210000004,
          "China": null,
          "Egypt": null,
          "France": 3.88121969,
          "India": 0.6817656818,
          "Japan": 0.4805555556,
          "Russian Federation": null,
          "South Korea": 0.2756435644,
          "United Kingdom": 4.587798165,
          "United States": 45.38,
          "Year": "1960"
         },
         {
          "Brazil": 0.3423397208,
          "China": null,
          "Egypt": null,
          "France": 4.131003787,
          "India": 0.7483882484,
          "Japan": 0.4923611111,
          "Russian Federation": null,
          "South Korea": 0.1570613501,
          "United Kingdom": 4.747398101,
          "United States": 47.808,
          "Year": "1961"
         },
         {
          "Brazil": 0.3874490355,
          "China": null,
          "Egypt": 0.2496977668,
          "France": 4.49332359,
          "India": 1.065436065,
          "Japan": 0.5381944444,
          "Russian Federation": null,
          "South Korea": 0.1861538462,
          "United Kingdom": 5.005697998,
          "United States": 52.381,
          "Year": "1962"
         },
         {
          "Brazil": 0.4419996062,
          "China": null,
          "Egypt": 0.3357996978,
          "France": 4.628060852,
          "India": 1.795449295,
          "Japan": 0.6298611111,
          "Russian Federation": null,
          "South Korea": 0.1853846154,
          "United Kingdom": 5.196797921,
          "United States": 52.295,
          "Year": "1963"
         },
         {
          "Brazil": 0.35422785710000004,
          "China": null,
          "Egypt": 0.4484995964,
          "France": 4.917956554,
          "India": 1.986654487,
          "Japan": 0.7180555556,
          "Russian Federation": null,
          "South Korea": 0.1374814704,
          "United Kingdom": 5.508997796,
          "United States": 51.213,
          "Year": "1964"
         },
         {
          "Brazil": 0.6328690265,
          "China": null,
          "Egypt": 0.5151995363,
          "France": 5.124506743,
          "India": 2.125989626,
          "Japan": 0.8213888889,
          "Russian Federation": null,
          "South Korea": 0.1321316361,
          "United Kingdom": 5.791097684,
          "United States": 51.827,
          "Year": "1965"
         },
         {
          "Brazil": 0.7182165746,
          "China": null,
          "Egypt": 0.48184956630000003,
          "France": 5.414601741,
          "India": 1.661154906,
          "Japan": 0.9324305556,
          "Russian Federation": null,
          "South Korea": 0.1769017863,
          "United Kingdom": 5.984997606,
          "United States": 63.572,
          "Year": "1966"
         },
         {
          "Brazil": 0.7461391636,
          "China": null,
          "Egypt": 0.5082995425,
          "France": 5.856108417,
          "India": 1.487733333,
          "Japan": 1.039027778,
          "Russian Federation": null,
          "South Korea": 0.2181008957,
          "United Kingdom": 6.200583812,
          "United States": 75.448,
          "Year": "1967"
         },
         {
          "Brazil": 0.7553075667000001,
          "China": null,
          "Egypt": 0.6485994163,
          "France": 6.129940876,
          "India": 1.586866667,
          "Japan": 1.168194444,
          "Russian Federation": null,
          "South Korea": 0.2786965244,
          "United Kingdom": 5.563195549,
          "United States": 80.732,
          "Year": "1968"
         },
         {
          "Brazil": 0.816622811,
          "China": null,
          "Egypt": 0.8889491999,
          "France": 5.909705121,
          "India": 1.691433333,
          "Japan": 1.335416667,
          "Russian Federation": null,
          "South Korea": 0.34702822380000004,
          "United Kingdom": 5.544595564,
          "United States": 81.443,
          "Year": "1969"
         },
         {
          "Brazil": 1.026234374,
          "China": null,
          "Egypt": 1.092499017,
          "France": 5.882387677,
          "India": 1.832966667,
          "Japan": 1.575347222,
          "Russian Federation": null,
          "South Korea": 0.3864037404,
          "United Kingdom": 6.07439514,
          "United States": 79.846,
          "Year": "1970"
         },
         {
          "Brazil": 1.075071453,
          "China": null,
          "Egypt": 1.26614886,
          "France": 6.300175574,
          "India": 2.255256983,
          "Japan": 1.896540416,
          "Russian Federation": null,
          "South Korea": 0.4608998493,
          "United Kingdom": 6.723936533,
          "United States": 74.862,
          "Year": "1971"
         },
         {
          "Brazil": 1.195501488,
          "China": null,
          "Egypt": 1.066049041,
          "France": 7.531246912,
          "India": 2.497244706,
          "Japan": 2.567519428,
          "Russian Federation": null,
          "South Korea": 0.5319500934,
          "United Kingdom": 7.86046105,
          "United States": 77.639,
          "Year": "1972"
         },
         {
          "Brazil": 1.512670977,
          "China": null,
          "Egypt": 1.243856105,
          "France": 9.496156577,
          "India": 2.529921054,
          "Japan": 3.3745611,
          "Russian Federation": null,
          "South Korea": 0.5447853746,
          "United Kingdom": 8.448664898,
          "United States": 78.358,
          "Year": "1973"
         },
         {
          "Brazil": 1.790114213,
          "China": null,
          "Egypt": 1.852779425,
          "France": 9.954624929,
          "India": 2.89541572,
          "Japan": 3.962157887,
          "Russian Federation": null,
          "South Korea": 0.852963864,
          "United Kingdom": 9.346449845,
          "United States": 85.906,
          "Year": "1974"
         },
         {
          "Brazil": 2.141126693,
          "China": null,
          "Egypt": 1.926890602,
          "France": 13.030408263,
          "India": 3.323646801,
          "Japan": 4.534902135,
          "Russian Federation": null,
          "South Korea": 1.030991736,
          "United Kingdom": 11.543753775,
          "United States": 88.4,
          "Year": "1975"
         },
         {
          "Brazil": 2.576476982,
          "China": null,
          "Egypt": 2.201613068,
          "France": 13.304260893,
          "India": 3.294910612,
          "Japan": 5.008396504,
          "Russian Federation": null,
          "South Korea": 1.708677686,
          "United Kingdom": 10.76665289,
          "United States": 91.013,
          "Year": "1976"
         },
         {
          "Brazil": 2.499644658,
          "China": null,
          "Egypt": 2.751058001,
          "France": 15.041676195,
          "India": 3.477080945,
          "Japan": 6.157312577,
          "Russian Federation": null,
          "South Korea": 2.237603306,
          "United Kingdom": 11.583506608,
          "United States": 101,
          "Year": "1977"
         },
         {
          "Brazil": 2.690623102,
          "China": null,
          "Egypt": 2.485279987,
          "France": 18.87305274,
          "India": 3.97581913,
          "Japan": 8.657135933,
          "Russian Federation": null,
          "South Korea": 3.190082645,
          "United Kingdom": 14.217505105,
          "United States": 109,
          "Year": "1978"
         },
         {
          "Brazil": 2.8291612,
          "China": null,
          "Egypt": 1.152855496,
          "France": 22.667912461,
          "India": 4.589738352,
          "Japan": 9.173587661,
          "Russian Federation": null,
          "South Korea": 3.54338843,
          "United Kingdom": 18.373780394,
          "United States": 122,
          "Year": "1979"
         },
         {
          "Brazil": 2.259307479,
          "China": null,
          "Egypt": 1.361426627,
          "France": 26.427190947,
          "India": 5.420809519,
          "Japan": 9.711741591,
          "Russian Federation": null,
          "South Korea": 3.980692489,
          "United Kingdom": 25.363413472,
          "United States": 138,
          "Year": "1980"
         },
         {
          "Brazil": 2.517859757,
          "China": null,
          "Egypt": 1.817140261,
          "France": 23.867080426,
          "India": 5.879007036,
          "Japan": 10.851176225,
          "Russian Federation": null,
          "South Korea": 4.46383996,
          "United Kingdom": 24.100707136,
          "United States": 170,
          "Year": "1981"
         },
         {
          "Brazil": 3.031328924,
          "China": null,
          "Egypt": 2.307139561,
          "France": 22.522681678,
          "India": 6.302107956,
          "Japan": 10.193936012,
          "Russian Federation": null,
          "South Korea": 4.646524886,
          "United Kingdom": 24.785700685,
          "United States": 214,
          "Year": "1982"
         },
         {
          "Brazil": 2.082669251,
          "China": null,
          "Egypt": 3.004281422,
          "France": 21.653641575,
          "India": 6.830768698,
          "Japan": 11.429317256,
          "Russian Federation": null,
          "South Korea": 4.714159753,
          "United Kingdom": 23.631058396,
          "United States": 214,
          "Year": "1983"
         },
         {
          "Brazil": 2.013151758,
          "China": null,
          "Egypt": 3.742137511,
          "France": 20.212344345,
          "India": 6.956682449,
          "Japan": 12.225078098,
          "Russian Federation": null,
          "South Korea": 4.759446931,
          "United Kingdom": 22.732895544,
          "United States": 231,
          "Year": "1984"
         },
         {
          "Brazil": 2.687049984,
          "China": null,
          "Egypt": 4.203565423,
          "France": 20.780557604,
          "India": 7.56702402,
          "Japan": 13.087751954,
          "Russian Federation": null,
          "South Korea": 4.883795775,
          "United Kingdom": 23.281158966,
          "United States": 258,
          "Year": "1985"
         },
         {
          "Brazil": 2.758186568,
          "China": null,
          "Egypt": 4.727136104,
          "France": 28.454938061,
          "India": 9.539363086,
          "Japan": 19.457334441,
          "Russian Federation": null,
          "South Korea": 5.325292074,
          "United Kingdom": 27.216844988,
          "United States": 281,
          "Year": "1986"
         },
         {
          "Brazil": 4.32367477,
          "China": null,
          "Egypt": 4.80570742,
          "France": 34.858734928,
          "India": 10.877406164,
          "Japan": 23.6422907,
          "Russian Federation": null,
          "South Korea": 6.040845305,
          "United Kingdom": 31.231666522,
          "United States": 288,
          "Year": "1987"
         },
         {
          "Brazil": 5.874167753,
          "China": null,
          "Egypt": 4.453565066,
          "France": 36.104962946,
          "India": 11.346419153,
          "Japan": 28.216102753,
          "Russian Federation": null,
          "South Korea": 7.732395676,
          "United Kingdom": 34.304125087,
          "United States": 293,
          "Year": "1988"
         },
         {
          "Brazil": 8.761486966,
          "China": 11.40345302,
          "Egypt": 3.516344801,
          "France": 35.31706294,
          "India": 10.589796925,
          "Japan": 27.966353542,
          "Russian Federation": null,
          "South Korea": 9.468974884,
          "United Kingdom": 33.498698405,
          "United States": 304,
          "Year": "1989"
         },
         {
          "Brazil": 9.236296955,
          "China": 10.085081567,
          "Egypt": 2.260645161,
          "France": 42.589868779,
          "India": 10.53703545,
          "Japan": 28.800451682,
          "Russian Federation": null,
          "South Korea": 10.110714871,
          "United Kingdom": 38.943795645,
          "United States": 306,
          "Year": "1990"
         },
         {
          "Brazil": 6.694665295,
          "China": 9.953641758,
          "Egypt": 1.345757343,
          "France": 42.702599011,
          "India": 8.622473881,
          "Japan": 32.785415754,
          "Russian Federation": null,
          "South Korea": 10.956524348,
          "United Kingdom": 42.074283749,
          "United States": 280,
          "Year": "1991"
         },
         {
          "Brazil": 4.993804467,
          "China": 12.420300875,
          "Egypt": 1.415819974,
          "France": 45.123086054,
          "India": 8.08323141,
          "Japan": 35.999123576,
          "Russian Federation": null,
          "South Korea": 11.614665196,
          "United Kingdom": 40.774938835,
          "United States": 305,
          "Year": "1992"
         },
         {
          "Brazil": 7.099899155,
          "China": 12.57716593,
          "Egypt": 1.526165392,
          "France": 42.590872342,
          "India": 8.253542581,
          "Japan": 41.353936222,
          "Russian Federation": 7.766720078,
          "South Korea": 12.377424873,
          "United Kingdom": 34.085881363,
          "United States": 298,
          "Year": "1993"
         },
         {
          "Brazil": 10.591499118,
          "China": 10.050586559,
          "Egypt": 1.714409786,
          "France": 44.392512323,
          "India": 8.880551226,
          "Japan": 45.285594083,
          "Russian Federation": 13.547871733,
          "South Korea": 13.519265763,
          "United Kingdom": 34.493524143,
          "United States": 288,
          "Year": "1994"
         },
         {
          "Brazil": 14.318919608,
          "China": 12.606229599,
          "Egypt": 1.948876986,
          "France": 47.76811,
          "India": 9.75446463,
          "Japan": 49.961673237,
          "Russian Federation": 12.74162947,
          "South Korea": 16.085095679,
          "United Kingdom": 34.247823782,
          "United States": 279,
          "Year": "1995"
         },
         {
          "Brazil": 14.073226545,
          "China": 14.56324039,
          "Egypt": 2.115742979,
          "France": 46.403438584,
          "India": 9.904672736,
          "Japan": 44.04710468,
          "Russian Federation": 15.826340652,
          "South Korea": 16.408665267,
          "United Kingdom": 34.490949485,
          "United States": 271,
          "Year": "1996"
         },
         {
          "Brazil": 13.934266552,
          "China": 16.104915232,
          "Egypt": 2.267650314,
          "France": 41.308251985,
          "India": 11.46488339,
          "Japan": 40.634840608,
          "Russian Federation": 17.577353181,
          "South Korea": 14.84848453,
          "United Kingdom": 35.674878363,
          "United States": 276,
          "Year": "1997"
         },
         {
          "Brazil": 14.357357047,
          "China": 17.527989869,
          "Egypt": 2.372048406,
          "France": 40.04113968,
          "India": 11.920610818,
          "Japan": 37.849012643,
          "Russian Federation": 7.955730401,
          "South Korea": 10.457957529,
          "United Kingdom": 36.866288852,
          "United States": 274,
          "Year": "1998"
         },
         {
          "Brazil": 9.866973919,
          "China": 21.027341242,
          "Egypt": 2.447978794,
          "France": 38.897240331,
          "India": 13.895562461,
          "Japan": 43.122898505,
          "Russian Federation": 6.469035211,
          "South Korea": 12.095186824,
          "United Kingdom": 36.453353008,
          "United States": 281,
          "Year": "1999"
         },
         {
          "Brazil": 11.344032535,
          "China": 22.929764607,
          "Egypt": 2.627698334,
          "France": 33.814262023,
          "India": 14.287514241,
          "Japan": 45.509673827,
          "Russian Federation": 9.228204144,
          "South Korea": 13.801107024,
          "United Kingdom": 35.254814799,
          "United States": 302,
          "Year": "2000"
         },
         {
          "Brazil": 10.930231568,
          "China": 27.875387284,
          "Egypt": 2.83425623,
          "France": 33.276659717,
          "India": 14.600642346,
          "Japan": 40.757967234,
          "Russian Federation": 11.683151345,
          "South Korea": 12.941850828,
          "United Kingdom": 35.33192736,
          "United States": 313,
          "Year": "2001"
         },
         {
          "Brazil": 9.664561903,
          "China": 32.137735649,
          "Egypt": 2.902768425,
          "France": 36.403933933,
          "India": 14.749667252,
          "Japan": 39.33370817,
          "Russian Federation": 13.943825063,
          "South Korea": 14.101703315,
          "United Kingdom": 39.659529123,
          "United States": 357,
          "Year": "2002"
         },
         {
          "Brazil": 8.392905884,
          "China": 35.126306608,
          "Egypt": 2.383914898,
          "France": 45.916973841,
          "India": 16.333986643,
          "Japan": 42.486177361,
          "Russian Federation": 16.973739085,
          "South Korea": 15.847047272,
          "United Kingdom": 46.942962291,
          "United States": 415,
          "Year": "2003"
         },
         {
          "Brazil": 9.780111585,
          "China": 40.352713136,
          "Egypt": 2.369743586,
          "France": 53.007021661,
          "India": 20.238566527,
          "Japan": 45.339809415,
          "Russian Federation": 20.955413571,
          "South Korea": 17.829864143,
          "United Kingdom": 53.970302831,
          "United States": 465,
          "Year": "2004"
         },
         {
          "Brazil": 13.588619736,
          "China": 45.918881613,
          "Egypt": 2.659439714,
          "France": 52.908769835,
          "India": 23.072312925,
          "Japan": 44.30061333,
          "Russian Federation": 27.336977274,
          "South Korea": 22.159512557,
          "United Kingdom": 55.151564188,
          "United States": 503,
          "Year": "2005"
         },
         {
          "Brazil": 16.404867307,
          "China": 55.337487669,
          "Egypt": 2.952520159,
          "France": 54.51607683,
          "India": 23.951927958,
          "Japan": 41.552592886,
          "Russian Federation": 34.517781619,
          "South Korea": 25.177237741,
          "United Kingdom": 57.482975674,
          "United States": 528,
          "Year": "2006"
         },
         {
          "Brazil": 20.485758015,
          "China": 68.011562228,
          "Egypt": 3.306908257,
          "France": 60.594986847,
          "India": 28.25477345,
          "Japan": 40.530045688,
          "Russian Federation": 43.534994996,
          "South Korea": 27.726129585,
          "United Kingdom": 65.986089657,
          "United States": 557,
          "Year": "2007"
         },
         {
          "Brazil": 24.452903036,
          "China": 86.362099113,
          "Egypt": 3.77988035,
          "France": 66.009448127,
          "India": 33.002376727,
          "Japan": 46.36146828,
          "Russian Federation": 56.183785393,
          "South Korea": 26.072410508,
          "United Kingdom": 65.61945048,
          "United States": 621,
          "Year": "2008"
         },
         {
          "Brazil": 25.648809911,
          "China": 106,
          "Egypt": 4.017404478,
          "France": 66.884028879,
          "India": 38.722154392,
          "Japan": 51.465158208,
          "Russian Federation": 51.532116798,
          "South Korea": 24.575661939,
          "United Kingdom": 57.914627858,
          "United States": 669,
          "Year": "2009"
         },
         {
          "Brazil": 34.00294447,
          "China": 116,
          "Egypt": 4.407286453,
          "France": 61.781748108,
          "India": 46.090445657,
          "Japan": 54.655450735,
          "Russian Federation": 58.720227609,
          "South Korea": 28.175181219,
          "United Kingdom": 58.082848795,
          "United States": 698,
          "Year": "2010"
         },
         {
          "Brazil": 36.936209896,
          "China": 138,
          "Egypt": 4.463974191,
          "France": 64.60092722,
          "India": 49.633815794,
          "Japan": 60.762213841,
          "Russian Federation": 70.237523951,
          "South Korea": 30.991707946,
          "United Kingdom": 60.270435687,
          "United States": 711,
          "Year": "2011"
         },
         {
          "Brazil": 33.987005074,
          "China": 157,
          "Egypt": 4.557748767,
          "France": 60.035153811,
          "India": 47.216920048,
          "Japan": 60.011530195,
          "Russian Federation": 81.469399931,
          "South Korea": 31.95176081,
          "United Kingdom": 58.495656721,
          "United States": 685,
          "Year": "2012"
         },
         {
          "Brazil": 32.874787231,
          "China": 180,
          "Egypt": 4.359834244,
          "France": 62.417099178,
          "India": 47.403528801,
          "Japan": 49.023932407,
          "Russian Federation": 88.352896464,
          "South Korea": 34.311220715,
          "United Kingdom": 56.861759588,
          "United States": 640,
          "Year": "2013"
         },
         {
          "Brazil": 32.659614241,
          "China": 201,
          "Egypt": 5.085120542,
          "France": 63.613569143,
          "India": 50.914108341,
          "Japan": 46.881244398,
          "Russian Federation": 84.696504653,
          "South Korea": 37.552328673,
          "United Kingdom": 59.182858554,
          "United States": 610,
          "Year": "2014"
         },
         {
          "Brazil": 24.617701683,
          "China": 214,
          "Egypt": 5.475490833,
          "France": 55.342131529,
          "India": 51.295483754,
          "Japan": 42.106103306,
          "Russian Federation": 66.418708184,
          "South Korea": 36.570769323,
          "United Kingdom": 53.862185493,
          "United States": 596,
          "Year": "2015"
         },
         {
          "Brazil": 24.224746901,
          "China": 216,
          "Egypt": 4.513022527,
          "France": 57.358414419,
          "India": 56.637622641,
          "Japan": 46.471287714,
          "Russian Federation": 69.245309461,
          "South Korea": 36.88528343,
          "United Kingdom": 48.118943518,
          "United States": 600,
          "Year": "2016"
         },
         {
          "Brazil": 29.283050314,
          "China": 228,
          "Egypt": 2.765588434,
          "France": 60.417498822,
          "India": 64.559435281,
          "Japan": 45.387031802,
          "Russian Federation": 66.527303992,
          "South Korea": 39.170682136,
          "United Kingdom": 46.433303401,
          "United States": 606,
          "Year": "2017"
         },
         {
          "Brazil": 27.766427104,
          "China": 250,
          "Egypt": 3.109997892,
          "France": 63.799676593,
          "India": 66.510289108,
          "Japan": 46.617954864,
          "Russian Federation": 61.38754698,
          "South Korea": 43.069973343,
          "United Kingdom": 49.997192521,
          "United States": 649,
          "Year": "2018"
         }
        ]
       },
       "encoding": {
        "color": {
         "field": "key",
         "type": "nominal"
        },
        "tooltip": [
         {
          "field": "value",
          "type": "quantitative"
         },
         {
          "field": "Year",
          "type": "nominal"
         }
        ],
        "x": {
         "field": "Year",
         "type": "nominal"
        },
        "y": {
         "field": "value",
         "type": "quantitative"
        }
       },
       "height": 450,
       "mark": {
        "point": true,
        "type": "line"
       },
       "selection": {
        "selector004": {
         "bind": "scales",
         "encodings": [
          "x",
          "y"
         ],
         "type": "interval"
        }
       },
       "title": "Top 10 Countries and Expenditures in Billion USD (Not Normalized for Inflation)",
       "transform": [
        {
         "fold": [
          "United States",
          "China",
          "Russian Federation",
          "India",
          "Japan",
          "South Korea",
          "France",
          "United Kingdom",
          "Egypt",
          "Brazil"
         ]
        }
       ],
       "width": 720
      },
      "image/png": "[encoded data removed]",
      "text/plain": [
       "<VegaLite 3 object>\n",
       "\n",
       "If you see this message, it means the renderer has not been properly enabled\n",
       "for the frontend that you are using. For more information, see\n",
       "https://altair-viz.github.io/user_guide/troubleshooting.html\n"
      ]
     },
     "execution_count": 13,
     "metadata": {},
     "output_type": "execute_result"
    }
   ],
   "source": [
    "points = alt.Chart(GFI_10_b4)\\\n",
    "            .transform_fold(['United States', \n",
    "                             'China', \n",
    "                             'Russian Federation', \n",
    "                             'India', \n",
    "                             'Japan',       \n",
    "                             'South Korea', \n",
    "                             'France', \n",
    "                             'United Kingdom', \n",
    "                             'Egypt', \n",
    "                             'Brazil'])\\\n",
    "            .mark_line(point=True)\\\n",
    "            .encode(\n",
    "                        y = 'value:Q',\n",
    "                        x = 'Year',\n",
    "                        tooltip = ['value:Q',\n",
    "                                   'Year'],\n",
    "                        color='key:N',\n",
    "                    )\\\n",
    "            .properties(\n",
    "                            width = 720,\n",
    "                            height = 450,\n",
    "                            title = 'Top 10 Countries and Expenditures in Billion USD (Not Normalized for Inflation)'\n",
    "                     )\\\n",
    "            .interactive()  \n",
    "\n",
    "points.save('GFI.html')\n",
    "\n",
    "points "
   ]
  },
  {
   "cell_type": "markdown",
   "metadata": {},
   "source": [
    "So here we can see that US is stiil way ahead of the rest of the world when it comes to its military budget. China though is catching up really fast."
   ]
  },
  {
   "cell_type": "code",
   "execution_count": 60,
   "metadata": {},
   "outputs": [
    {
     "data": {
      "text/html": [
       "<div>\n",
       "<style scoped>\n",
       "    .dataframe tbody tr th:only-of-type {\n",
       "        vertical-align: middle;\n",
       "    }\n",
       "\n",
       "    .dataframe tbody tr th {\n",
       "        vertical-align: top;\n",
       "    }\n",
       "\n",
       "    .dataframe thead th {\n",
       "        text-align: right;\n",
       "    }\n",
       "</style>\n",
       "<table border=\"1\" class=\"dataframe\">\n",
       "  <thead>\n",
       "    <tr style=\"text-align: right;\">\n",
       "      <th></th>\n",
       "      <th>Year</th>\n",
       "      <th>variable</th>\n",
       "      <th>value</th>\n",
       "    </tr>\n",
       "  </thead>\n",
       "  <tbody>\n",
       "    <tr>\n",
       "      <th>0</th>\n",
       "      <td>1980</td>\n",
       "      <td>Nigeria</td>\n",
       "      <td>832.394254</td>\n",
       "    </tr>\n",
       "    <tr>\n",
       "      <th>1</th>\n",
       "      <td>1981</td>\n",
       "      <td>Nigeria</td>\n",
       "      <td>533.868754</td>\n",
       "    </tr>\n",
       "    <tr>\n",
       "      <th>2</th>\n",
       "      <td>1984</td>\n",
       "      <td>Nigeria</td>\n",
       "      <td>270.293806</td>\n",
       "    </tr>\n",
       "    <tr>\n",
       "      <th>3</th>\n",
       "      <td>1985</td>\n",
       "      <td>Nigeria</td>\n",
       "      <td>230.308648</td>\n",
       "    </tr>\n",
       "    <tr>\n",
       "      <th>4</th>\n",
       "      <td>1986</td>\n",
       "      <td>Nigeria</td>\n",
       "      <td>99.402598</td>\n",
       "    </tr>\n",
       "    <tr>\n",
       "      <th>...</th>\n",
       "      <td>...</td>\n",
       "      <td>...</td>\n",
       "      <td>...</td>\n",
       "    </tr>\n",
       "    <tr>\n",
       "      <th>180</th>\n",
       "      <td>2014</td>\n",
       "      <td>Sudan</td>\n",
       "      <td>NaN</td>\n",
       "    </tr>\n",
       "    <tr>\n",
       "      <th>181</th>\n",
       "      <td>2015</td>\n",
       "      <td>Sudan</td>\n",
       "      <td>139.001320</td>\n",
       "    </tr>\n",
       "    <tr>\n",
       "      <th>182</th>\n",
       "      <td>2016</td>\n",
       "      <td>Sudan</td>\n",
       "      <td>168.620367</td>\n",
       "    </tr>\n",
       "    <tr>\n",
       "      <th>183</th>\n",
       "      <td>2017</td>\n",
       "      <td>Sudan</td>\n",
       "      <td>257.823460</td>\n",
       "    </tr>\n",
       "    <tr>\n",
       "      <th>184</th>\n",
       "      <td>2018</td>\n",
       "      <td>Sudan</td>\n",
       "      <td>58.869591</td>\n",
       "    </tr>\n",
       "  </tbody>\n",
       "</table>\n",
       "<p>185 rows × 3 columns</p>\n",
       "</div>"
      ],
      "text/plain": [
       "     Year variable       value\n",
       "0    1980  Nigeria  832.394254\n",
       "1    1981  Nigeria  533.868754\n",
       "2    1984  Nigeria  270.293806\n",
       "3    1985  Nigeria  230.308648\n",
       "4    1986  Nigeria   99.402598\n",
       "..    ...      ...         ...\n",
       "180  2014    Sudan         NaN\n",
       "181  2015    Sudan  139.001320\n",
       "182  2016    Sudan  168.620367\n",
       "183  2017    Sudan  257.823460\n",
       "184  2018    Sudan   58.869591\n",
       "\n",
       "[185 rows x 3 columns]"
      ]
     },
     "execution_count": 60,
     "metadata": {},
     "output_type": "execute_result"
    }
   ],
   "source": [
    "# Looking at the biggest COuntries in Africa\n",
    "# Nigeria, Ethiopia, Egypt, the Democratic Republic of the Congo, Tanzania, South Africa, Kenya, Algeria, Uganda, and Sudan.\n",
    "\n",
    "NG = Country_world_share['Nigeria']\n",
    "EGY = Country_world_share['Egypt']\n",
    "SA = Country_world_share['South Africa']\n",
    "ALG = Country_world_share['Algeria']\n",
    "SUD = Country_world_share['Sudan']\n",
    "\n",
    "AFR_10 = pd.DataFrame([NG,EGY,  SA, ALG, SUD])\n",
    "\n",
    "AFR_10 = AFR_10.T\n",
    "\n",
    "AFR_10 = AFR_10.dropna(axis=0, how='all')\n",
    "AFR_10 = AFR_10/1e6\n",
    "\n",
    "AFR_10.index = AFR_10.index.rename('Year')\n",
    "\n",
    "AFR_10['Year'] = AFR_10.index\n",
    "AFR_10['Year'] = pd.to_numeric(AFR_10['Year'])\n",
    "\n",
    "AFR_10.tail(3)\n",
    "AFR_10.melt('Year')"
   ]
  },
  {
   "cell_type": "code",
   "execution_count": 63,
   "metadata": {},
   "outputs": [
    {
     "data": {
      "application/vnd.vegalite.v3+json": {
       "$schema": "https://vega.github.io/schema/vega-lite/v3.4.0.json",
       "config": {
        "mark": {
         "tooltip": null
        },
        "view": {
         "height": 300,
         "width": 400
        }
       },
       "data": {
        "name": "data-819b5671c8536344a63152a4581bf8a4"
       },
       "datasets": {
        "data-819b5671c8536344a63152a4581bf8a4": [
         {
          "Year": 1980,
          "value": 832.394254120879,
          "variable": "Nigeria"
         },
         {
          "Year": 1981,
          "value": 533.8687535,
          "variable": "Nigeria"
         },
         {
          "Year": 1984,
          "value": 270.29380580357144,
          "variable": "Nigeria"
         },
         {
          "Year": 1985,
          "value": 230.3086483122363,
          "variable": "Nigeria"
         },
         {
          "Year": 1986,
          "value": 99.40259794230768,
          "variable": "Nigeria"
         },
         {
          "Year": 1987,
          "value": 34.301227585034006,
          "variable": "Nigeria"
         },
         {
          "Year": 1988,
          "value": 43.238603907496014,
          "variable": "Nigeria"
         },
         {
          "Year": 1989,
          "value": 26.465970744186052,
          "variable": "Nigeria"
         },
         {
          "Year": 1990,
          "value": 39.61396907142858,
          "variable": "Nigeria"
         },
         {
          "Year": 1991,
          "value": 35.577486277372266,
          "variable": "Nigeria"
         },
         {
          "Year": 1992,
          "value": 24.220038953974896,
          "variable": "Nigeria"
         },
         {
          "Year": 1993,
          "value": 42.16196849854227,
          "variable": "Nigeria"
         },
         {
          "Year": 1994,
          "value": 45.999207179856114,
          "variable": "Nigeria"
         },
         {
          "Year": 1995,
          "value": 89.17805168758717,
          "variable": "Nigeria"
         },
         {
          "Year": 1996,
          "value": 97.96269254189944,
          "variable": "Nigeria"
         },
         {
          "Year": 1997,
          "value": 114.6757038235294,
          "variable": "Nigeria"
         },
         {
          "Year": 1998,
          "value": 165.18458764367816,
          "variable": "Nigeria"
         },
         {
          "Year": 1999,
          "value": 69.34716059238366,
          "variable": "Nigeria"
         },
         {
          "Year": 2000,
          "value": 50.49919308219178,
          "variable": "Nigeria"
         },
         {
          "Year": 2001,
          "value": 76.90462099730458,
          "variable": "Nigeria"
         },
         {
          "Year": 2002,
          "value": 111.83456376558604,
          "variable": "Nigeria"
         },
         {
          "Year": 2003,
          "value": 62.6960391995731,
          "variable": "Nigeria"
         },
         {
          "Year": 2004,
          "value": 60.37642139622641,
          "variable": "Nigeria"
         },
         {
          "Year": 2005,
          "value": 58.626795200000004,
          "variable": "Nigeria"
         },
         {
          "Year": 2006,
          "value": 65.22252590756301,
          "variable": "Nigeria"
         },
         {
          "Year": 2007,
          "value": 73.58495292424244,
          "variable": "Nigeria"
         },
         {
          "Year": 2008,
          "value": 108.42504771812081,
          "variable": "Nigeria"
         },
         {
          "Year": 2009,
          "value": 97.063624,
          "variable": "Nigeria"
         },
         {
          "Year": 2010,
          "value": 122.09200423312883,
          "variable": "Nigeria"
         },
         {
          "Year": 2011,
          "value": 137.85757352601155,
          "variable": "Nigeria"
         },
         {
          "Year": 2012,
          "value": 133.13093103448276,
          "variable": "Nigeria"
         },
         {
          "Year": 2013,
          "value": 139.00920522988505,
          "variable": "Nigeria"
         },
         {
          "Year": 2014,
          "value": 135.49803971264367,
          "variable": "Nigeria"
         },
         {
          "Year": 2015,
          "value": 125.94863798780487,
          "variable": "Nigeria"
         },
         {
          "Year": 2016,
          "value": 105.71805312883437,
          "variable": "Nigeria"
         },
         {
          "Year": 2017,
          "value": 95.36577505882354,
          "variable": "Nigeria"
         },
         {
          "Year": 2018,
          "value": 114.77818646067415,
          "variable": "Nigeria"
         },
         {
          "Year": 1980,
          "value": 374.0183041208791,
          "variable": "Egypt"
         },
         {
          "Year": 1981,
          "value": 454.28506525000006,
          "variable": "Egypt"
         },
         {
          "Year": 1984,
          "value": 835.2985515625,
          "variable": "Egypt"
         },
         {
          "Year": 1985,
          "value": 886.8281483122364,
          "variable": "Egypt"
         },
         {
          "Year": 1986,
          "value": 909.0646353846154,
          "variable": "Egypt"
         },
         {
          "Year": 1987,
          "value": 817.2971802721089,
          "variable": "Egypt"
         },
         {
          "Year": 1988,
          "value": 710.297458692185,
          "variable": "Egypt"
         },
         {
          "Year": 1989,
          "value": 545.1697365891472,
          "variable": "Egypt"
         },
         {
          "Year": 1990,
          "value": 322.94930871428573,
          "variable": "Egypt"
         },
         {
          "Year": 1991,
          "value": 196.46092598540145,
          "variable": "Egypt"
         },
         {
          "Year": 1992,
          "value": 197.46443152022317,
          "variable": "Egypt"
         },
         {
          "Year": 1993,
          "value": 222.47308921282797,
          "variable": "Egypt"
         },
         {
          "Year": 1994,
          "value": 246.6776670503597,
          "variable": "Egypt"
         },
         {
          "Year": 1995,
          "value": 271.80990041841005,
          "variable": "Egypt"
         },
         {
          "Year": 1996,
          "value": 295.4948294692737,
          "variable": "Egypt"
         },
         {
          "Year": 1997,
          "value": 317.5980831932773,
          "variable": "Egypt"
         },
         {
          "Year": 1998,
          "value": 340.8115525862069,
          "variable": "Egypt"
         },
         {
          "Year": 1999,
          "value": 345.2720442877292,
          "variable": "Egypt"
         },
         {
          "Year": 2000,
          "value": 359.958675890411,
          "variable": "Egypt"
         },
         {
          "Year": 2001,
          "value": 381.97523315363884,
          "variable": "Egypt"
         },
         {
          "Year": 2002,
          "value": 361.9412001246883,
          "variable": "Egypt"
         },
         {
          "Year": 2003,
          "value": 254.41994642475987,
          "variable": "Egypt"
         },
         {
          "Year": 2004,
          "value": 223.56071566037735,
          "variable": "Egypt"
         },
         {
          "Year": 2005,
          "value": 231.25562730434785,
          "variable": "Egypt"
         },
         {
          "Year": 2006,
          "value": 248.11093773109243,
          "variable": "Egypt"
         },
         {
          "Year": 2007,
          "value": 250.52335280303032,
          "variable": "Egypt"
         },
         {
          "Year": 2008,
          "value": 253.68324496644294,
          "variable": "Egypt"
         },
         {
          "Year": 2009,
          "value": 259.18738567741934,
          "variable": "Egypt"
         },
         {
          "Year": 2010,
          "value": 270.3856719631902,
          "variable": "Egypt"
         },
         {
          "Year": 2011,
          "value": 258.0331902312139,
          "variable": "Egypt"
         },
         {
          "Year": 2012,
          "value": 261.9395843103448,
          "variable": "Egypt"
         },
         {
          "Year": 2013,
          "value": 250.5651864367816,
          "variable": "Egypt"
         },
         {
          "Year": 2014,
          "value": 292.24830701149426,
          "variable": "Egypt"
         },
         {
          "Year": 2015,
          "value": 333.8713922560976,
          "variable": "Egypt"
         },
         {
          "Year": 2016,
          "value": 276.87254766871166,
          "variable": "Egypt"
         },
         {
          "Year": 2017,
          "value": 162.6816725882353,
          "variable": "Egypt"
         },
         {
          "Year": 2018,
          "value": 174.71898269662924,
          "variable": "Egypt"
         },
         {
          "Year": 1980,
          "value": 731.2283420329671,
          "variable": "South Africa"
         },
         {
          "Year": 1981,
          "value": 752.994887,
          "variable": "South Africa"
         },
         {
          "Year": 1984,
          "value": 618.3375238839285,
          "variable": "South Africa"
         },
         {
          "Year": 1985,
          "value": 446.7101993670886,
          "variable": "South Africa"
         },
         {
          "Year": 1986,
          "value": 480.3631596153846,
          "variable": "South Africa"
         },
         {
          "Year": 1987,
          "value": 611.5592899659864,
          "variable": "South Africa"
         },
         {
          "Year": 1988,
          "value": 679.9181535885167,
          "variable": "South Africa"
         },
         {
          "Year": 1989,
          "value": 648.3544910077519,
          "variable": "South Africa"
         },
         {
          "Year": 1990,
          "value": 623.4940291428572,
          "variable": "South Africa"
         },
         {
          "Year": 1991,
          "value": 565.6080489051095,
          "variable": "South Africa"
         },
         {
          "Year": 1992,
          "value": 512.887930404463,
          "variable": "South Africa"
         },
         {
          "Year": 1993,
          "value": 474.389705393586,
          "variable": "South Africa"
         },
         {
          "Year": 1994,
          "value": 500.5154375539569,
          "variable": "South Africa"
         },
         {
          "Year": 1995,
          "value": 459.1975679218968,
          "variable": "South Africa"
         },
         {
          "Year": 1996,
          "value": 361.981442877095,
          "variable": "South Africa"
         },
         {
          "Year": 1997,
          "value": 338.1145252100841,
          "variable": "South Africa"
         },
         {
          "Year": 1998,
          "value": 273.80115071839083,
          "variable": "South Africa"
         },
         {
          "Year": 1999,
          "value": 245.13915726375174,
          "variable": "South Africa"
         },
         {
          "Year": 2000,
          "value": 259.140412739726,
          "variable": "South Africa"
         },
         {
          "Year": 2001,
          "value": 242.89248463611858,
          "variable": "South Africa"
         },
         {
          "Year": 2002,
          "value": 220.20983765586033,
          "variable": "South Africa"
         },
         {
          "Year": 2003,
          "value": 274.72532315901816,
          "variable": "South Africa"
         },
         {
          "Year": 2004,
          "value": 292.3646344339623,
          "variable": "South Africa"
         },
         {
          "Year": 2005,
          "value": 310.17076652173915,
          "variable": "South Africa"
         },
         {
          "Year": 2006,
          "value": 294.63358470588236,
          "variable": "South Africa"
         },
         {
          "Year": 2007,
          "value": 267.0972912121212,
          "variable": "South Africa"
         },
         {
          "Year": 2008,
          "value": 220.5318846308725,
          "variable": "South Africa"
         },
         {
          "Year": 2009,
          "value": 231.7863033548387,
          "variable": "South Africa"
         },
         {
          "Year": 2010,
          "value": 256.9428277300613,
          "variable": "South Africa"
         },
         {
          "Year": 2011,
          "value": 265.55803919075146,
          "variable": "South Africa"
         },
         {
          "Year": 2012,
          "value": 258.02241931034484,
          "variable": "South Africa"
         },
         {
          "Year": 2013,
          "value": 236.67864844827585,
          "variable": "South Africa"
         },
         {
          "Year": 2014,
          "value": 223.7051238505747,
          "variable": "South Africa"
         },
         {
          "Year": 2015,
          "value": 212.7358504878049,
          "variable": "South Africa"
         },
         {
          "Year": 2016,
          "value": 194.46355834355828,
          "variable": "South Africa"
         },
         {
          "Year": 2017,
          "value": 214.05509341176472,
          "variable": "South Africa"
         },
         {
          "Year": 2018,
          "value": 204.48759353932584,
          "variable": "South Africa"
         },
         {
          "Year": 1980,
          "value": 244.55342439560437,
          "variable": "Algeria"
         },
         {
          "Year": 1981,
          "value": 201.64233365,
          "variable": "Algeria"
         },
         {
          "Year": 1984,
          "value": 207.4309868973214,
          "variable": "Algeria"
         },
         {
          "Year": 1985,
          "value": 201.118070443038,
          "variable": "Algeria"
         },
         {
          "Year": 1986,
          "value": 216.75061865384615,
          "variable": "Algeria"
         },
         {
          "Year": 1987,
          "value": 203.5665619047619,
          "variable": "Algeria"
         },
         {
          "Year": 1988,
          "value": 164.05285885167464,
          "variable": "Algeria"
         },
         {
          "Year": 1989,
          "value": 132.4497589612403,
          "variable": "Algeria"
         },
         {
          "Year": 1990,
          "value": 129.1813078857143,
          "variable": "Algeria"
         },
         {
          "Year": 1991,
          "value": 82.49606753284672,
          "variable": "Algeria"
         },
         {
          "Year": 1992,
          "value": 146.90399483960948,
          "variable": "Algeria"
         },
         {
          "Year": 1993,
          "value": 186.13864183673468,
          "variable": "Algeria"
         },
         {
          "Year": 1994,
          "value": 192.0736184172662,
          "variable": "Algeria"
         },
         {
          "Year": 1995,
          "value": 172.1973768479777,
          "variable": "Algeria"
         },
         {
          "Year": 1996,
          "value": 202.85349273743017,
          "variable": "Algeria"
         },
         {
          "Year": 1997,
          "value": 245.43351232492998,
          "variable": "Algeria"
         },
         {
          "Year": 1998,
          "value": 274.5635132183908,
          "variable": "Algeria"
         },
         {
          "Year": 1999,
          "value": 257.6158772919605,
          "variable": "Algeria"
         },
         {
          "Year": 2000,
          "value": 257.6936505479452,
          "variable": "Algeria"
         },
         {
          "Year": 2001,
          "value": 281.89046819407,
          "variable": "Algeria"
         },
         {
          "Year": 2002,
          "value": 261.920513840399,
          "variable": "Algeria"
         },
         {
          "Year": 2003,
          "value": 235.47446766275345,
          "variable": "Algeria"
         },
         {
          "Year": 2004,
          "value": 264.3608296226415,
          "variable": "Algeria"
         },
         {
          "Year": 2005,
          "value": 254.33218843478264,
          "variable": "Algeria"
         },
         {
          "Year": 2006,
          "value": 259.9981718487395,
          "variable": "Algeria"
         },
         {
          "Year": 2007,
          "value": 298.9253882575758,
          "variable": "Algeria"
         },
         {
          "Year": 2008,
          "value": 347.13670516778524,
          "variable": "Algeria"
         },
         {
          "Year": 2009,
          "value": 340.68310683870965,
          "variable": "Algeria"
         },
         {
          "Year": 2010,
          "value": 347.9330746625767,
          "variable": "Algeria"
         },
         {
          "Year": 2011,
          "value": 500.12930867052023,
          "variable": "Algeria"
         },
         {
          "Year": 2012,
          "value": 535.9935140229885,
          "variable": "Algeria"
         },
         {
          "Year": 2013,
          "value": 583.9993240804597,
          "variable": "Algeria"
         },
         {
          "Year": 2014,
          "value": 558.872412183908,
          "variable": "Algeria"
         },
         {
          "Year": 2015,
          "value": 634.9215855487804,
          "variable": "Algeria"
         },
         {
          "Year": 2016,
          "value": 626.8148282208589,
          "variable": "Algeria"
         },
         {
          "Year": 2017,
          "value": 592.5508247647059,
          "variable": "Algeria"
         },
         {
          "Year": 2018,
          "value": 538.4114768539326,
          "variable": "Algeria"
         },
         {
          "Year": 1980,
          "value": 62.63736263736264,
          "variable": "Sudan"
         },
         {
          "Year": 1981,
          "value": 50.996854299999995,
          "variable": "Sudan"
         },
         {
          "Year": 1984,
          "value": 79.32692308035713,
          "variable": "Sudan"
         },
         {
          "Year": 1985,
          "value": 43.31083476793249,
          "variable": "Sudan"
         },
         {
          "Year": 1986,
          "value": 50,
          "variable": "Sudan"
         },
         {
          "Year": 1987,
          "value": 52.77777777210885,
          "variable": "Sudan"
         },
         {
          "Year": 1988,
          "value": 58.904837846889954,
          "variable": "Sudan"
         },
         {
          "Year": 1989,
          "value": null,
          "variable": "Sudan"
         },
         {
          "Year": 1990,
          "value": 168.25396828571428,
          "variable": "Sudan"
         },
         {
          "Year": 1991,
          "value": 199.38658613138688,
          "variable": "Sudan"
         },
         {
          "Year": 1992,
          "value": 25.623213486750345,
          "variable": "Sudan"
         },
         {
          "Year": 1993,
          "value": 37.6065734548105,
          "variable": "Sudan"
         },
         {
          "Year": 1994,
          "value": 32.542015035971225,
          "variable": "Sudan"
         },
         {
          "Year": 1995,
          "value": 19.35236062761506,
          "variable": "Sudan"
         },
         {
          "Year": 1996,
          "value": 14.850949399441342,
          "variable": "Sudan"
         },
         {
          "Year": 1997,
          "value": 13.687935478991596,
          "variable": "Sudan"
         },
         {
          "Year": 1998,
          "value": 37.35022558908046,
          "variable": "Sudan"
         },
         {
          "Year": 1999,
          "value": 60.594907954866,
          "variable": "Sudan"
         },
         {
          "Year": 2000,
          "value": 80.44761264383563,
          "variable": "Sudan"
         },
         {
          "Year": 2001,
          "value": 52.30341204851751,
          "variable": "Sudan"
         },
         {
          "Year": 2002,
          "value": 60.4248457605985,
          "variable": "Sudan"
         },
         {
          "Year": 2003,
          "value": 42.487750448239055,
          "variable": "Sudan"
         },
         {
          "Year": 2004,
          "value": 117.05348575471697,
          "variable": "Sudan"
         },
         {
          "Year": 2005,
          "value": 101.30399443478261,
          "variable": "Sudan"
         },
         {
          "Year": 2006,
          "value": 138.4738818487395,
          "variable": "Sudan"
         },
         {
          "Year": 2007,
          "value": 183.8691359848485,
          "variable": "Sudan"
         },
         {
          "Year": 2008,
          "value": 216.64429530201343,
          "variable": "Sudan"
         },
         {
          "Year": 2009,
          "value": 205.19245225806452,
          "variable": "Sudan"
         },
         {
          "Year": 2010,
          "value": null,
          "variable": "Sudan"
         },
         {
          "Year": 2011,
          "value": null,
          "variable": "Sudan"
         },
         {
          "Year": 2012,
          "value": null,
          "variable": "Sudan"
         },
         {
          "Year": 2013,
          "value": null,
          "variable": "Sudan"
         },
         {
          "Year": 2014,
          "value": null,
          "variable": "Sudan"
         },
         {
          "Year": 2015,
          "value": 139.00131951219512,
          "variable": "Sudan"
         },
         {
          "Year": 2016,
          "value": 168.62036662576688,
          "variable": "Sudan"
         },
         {
          "Year": 2017,
          "value": 257.82345982352945,
          "variable": "Sudan"
         },
         {
          "Year": 2018,
          "value": 58.86959101123596,
          "variable": "Sudan"
         }
        ]
       },
       "encoding": {
        "color": {
         "field": "variable",
         "type": "nominal"
        },
        "tooltip": [
         {
          "field": "value",
          "type": "quantitative"
         },
         {
          "field": "variable",
          "type": "nominal"
         },
         {
          "field": "Year",
          "type": "quantitative"
         }
        ],
        "x": {
         "field": "Year",
         "type": "ordinal"
        },
        "y": {
         "field": "value",
         "type": "quantitative"
        }
       },
       "height": 450,
       "mark": "bar",
       "selection": {
        "selector034": {
         "bind": "scales",
         "encodings": [
          "x",
          "y"
         ],
         "type": "interval"
        }
       },
       "title": "Some African Countries and Expenditures in Million USD",
       "width": 720
      },
      "image/png": "[encoded data removed]",
      "text/plain": [
       "<VegaLite 3 object>\n",
       "\n",
       "If you see this message, it means the renderer has not been properly enabled\n",
       "for the frontend that you are using. For more information, see\n",
       "https://altair-viz.github.io/user_guide/troubleshooting.html\n"
      ]
     },
     "execution_count": 63,
     "metadata": {},
     "output_type": "execute_result"
    }
   ],
   "source": [
    "AFR = AFR_10.melt('Year')\n",
    "\n",
    "point = alt.Chart(AFR)\\\n",
    "           .mark_bar()\\\n",
    "           .encode(\n",
    "                    x = alt.X('Year:O'),\n",
    "                    y = 'value',\n",
    "                    tooltip = ['value:Q',\n",
    "                               'variable',\n",
    "                               'Year'],\n",
    "                    color = alt.Color('variable')\n",
    "                   )\\\n",
    "           .properties(\n",
    "                            width = 720,\n",
    "                            height = 450,\n",
    "                            title = 'Some African Countries and Expenditures in Million USD'\n",
    "                     )\\\n",
    "           .interactive()  \n",
    "\n",
    "point.save('AFR.html')\n",
    "\n",
    "point "
   ]
  },
  {
   "cell_type": "code",
   "execution_count": null,
   "metadata": {},
   "outputs": [],
   "source": []
  }
 ],
 "metadata": {
  "kernelspec": {
   "display_name": "Python 3",
   "language": "python",
   "name": "python3"
  },
  "language_info": {
   "codemirror_mode": {
    "name": "ipython",
    "version": 3
   },
   "file_extension": ".py",
   "mimetype": "text/x-python",
   "name": "python",
   "nbconvert_exporter": "python",
   "pygments_lexer": "ipython3",
   "version": "3.7.6"
  }
 },
 "nbformat": 4,
 "nbformat_minor": 4
}
