{
 "cells": [
  {
   "cell_type": "markdown",
   "metadata": {
    "_cell_guid": "b1076dfc-b9ad-4769-8c92-a6c4dae69d19",
    "_uuid": "8f2839f25d086af736a60e9eeb907d3b93b6e0e5",
    "slideshow": {
     "slide_type": "slide"
    }
   },
   "source": [
    "## Military Expenditure Dataset from kaggle  \n"
   ]
  },
  {
   "cell_type": "code",
   "execution_count": 1,
   "metadata": {
    "slideshow": {
     "slide_type": "skip"
    }
   },
   "outputs": [],
   "source": [
    "import numpy as np # linear algebra\n",
    "import pandas as pd # data processing\n",
    "\n",
    "import altair as alt"
   ]
  },
  {
   "cell_type": "code",
   "execution_count": 2,
   "metadata": {
    "_cell_guid": "79c7e3d0-c299-4dcb-8224-4455121ee9b0",
    "_uuid": "d629ff2d2480ee46fbb7e2d37f6b5fab8052498a",
    "slideshow": {
     "slide_type": "skip"
    }
   },
   "outputs": [],
   "source": [
    "# Loading the dataset\n",
    "data = pd.read_csv(r'Military Expenditure.csv')"
   ]
  },
  {
   "cell_type": "code",
   "execution_count": 3,
   "metadata": {
    "slideshow": {
     "slide_type": "skip"
    }
   },
   "outputs": [],
   "source": [
    "# Indicator Name is of no importance \n",
    "\n",
    "data = data.drop(['Indicator Name'], \n",
    "                 axis=1)"
   ]
  },
  {
   "cell_type": "code",
   "execution_count": 4,
   "metadata": {
    "slideshow": {
     "slide_type": "subslide"
    }
   },
   "outputs": [],
   "source": [
    "# One of the instances in the dataset contained the Military Expenditure date for all countries combined.\n",
    "\n",
    "World = data[data['Name'] == 'World']\n",
    "World = World.drop(['Code', 'Type'],\n",
    "                  axis = 1)\n",
    "\n",
    "World = World.set_index('Name')\n",
    "World.index = World.index.rename('Year')\n",
    "World = World.T\n",
    "World = World.dropna()\n",
    "\n",
    "World['Year'] = World.index\n",
    "World[\"Year\"] = pd.to_numeric(World[\"Year\"])\n",
    "\n",
    "World['World'] = World['World']/1e9\n"
   ]
  },
  {
   "cell_type": "code",
   "execution_count": 5,
   "metadata": {
    "slideshow": {
     "slide_type": "skip"
    }
   },
   "outputs": [
    {
     "data": {
      "text/html": [
       "<div>\n",
       "<style scoped>\n",
       "    .dataframe tbody tr th:only-of-type {\n",
       "        vertical-align: middle;\n",
       "    }\n",
       "\n",
       "    .dataframe tbody tr th {\n",
       "        vertical-align: top;\n",
       "    }\n",
       "\n",
       "    .dataframe thead th {\n",
       "        text-align: right;\n",
       "    }\n",
       "</style>\n",
       "<table border=\"1\" class=\"dataframe\">\n",
       "  <thead>\n",
       "    <tr style=\"text-align: right;\">\n",
       "      <th>Year</th>\n",
       "      <th>World</th>\n",
       "      <th>Year</th>\n",
       "    </tr>\n",
       "  </thead>\n",
       "  <tbody>\n",
       "    <tr>\n",
       "      <th>2014</th>\n",
       "      <td>1740.0</td>\n",
       "      <td>2014</td>\n",
       "    </tr>\n",
       "    <tr>\n",
       "      <th>2015</th>\n",
       "      <td>1640.0</td>\n",
       "      <td>2015</td>\n",
       "    </tr>\n",
       "    <tr>\n",
       "      <th>2016</th>\n",
       "      <td>1630.0</td>\n",
       "      <td>2016</td>\n",
       "    </tr>\n",
       "    <tr>\n",
       "      <th>2017</th>\n",
       "      <td>1700.0</td>\n",
       "      <td>2017</td>\n",
       "    </tr>\n",
       "    <tr>\n",
       "      <th>2018</th>\n",
       "      <td>1780.0</td>\n",
       "      <td>2018</td>\n",
       "    </tr>\n",
       "  </tbody>\n",
       "</table>\n",
       "</div>"
      ],
      "text/plain": [
       "Year   World  Year\n",
       "2014  1740.0  2014\n",
       "2015  1640.0  2015\n",
       "2016  1630.0  2016\n",
       "2017  1700.0  2017\n",
       "2018  1780.0  2018"
      ]
     },
     "execution_count": 5,
     "metadata": {},
     "output_type": "execute_result"
    }
   ],
   "source": [
    "World.tail()"
   ]
  },
  {
   "cell_type": "code",
   "execution_count": 6,
   "metadata": {
    "slideshow": {
     "slide_type": "skip"
    }
   },
   "outputs": [
    {
     "data": {
      "text/plain": [
       "DataTransformerRegistry.enable('default')"
      ]
     },
     "execution_count": 6,
     "metadata": {},
     "output_type": "execute_result"
    }
   ],
   "source": [
    "alt.data_transformers.disable_max_rows()"
   ]
  },
  {
   "cell_type": "code",
   "execution_count": 7,
   "metadata": {
    "slideshow": {
     "slide_type": "slide"
    }
   },
   "outputs": [
    {
     "data": {
      "application/vnd.vegalite.v3+json": {
       "$schema": "https://vega.github.io/schema/vega-lite/v3.4.0.json",
       "config": {
        "mark": {
         "tooltip": null
        },
        "view": {
         "height": 300,
         "width": 400
        }
       },
       "data": {
        "name": "data-cebca42b34399c58714ec2565084ce2f"
       },
       "datasets": {
        "data-cebca42b34399c58714ec2565084ce2f": [
         {
          "World": 364,
          "Year": 1980
         },
         {
          "World": 400,
          "Year": 1981
         },
         {
          "World": 448,
          "Year": 1984
         },
         {
          "World": 474,
          "Year": 1985
         },
         {
          "World": 520,
          "Year": 1986
         },
         {
          "World": 588,
          "Year": 1987
         },
         {
          "World": 627,
          "Year": 1988
         },
         {
          "World": 645,
          "Year": 1989
         },
         {
          "World": 700,
          "Year": 1990
         },
         {
          "World": 685,
          "Year": 1991
         },
         {
          "World": 717,
          "Year": 1992
         },
         {
          "World": 686,
          "Year": 1993
         },
         {
          "World": 695,
          "Year": 1994
         },
         {
          "World": 717,
          "Year": 1995
         },
         {
          "World": 716,
          "Year": 1996
         },
         {
          "World": 714,
          "Year": 1997
         },
         {
          "World": 696,
          "Year": 1998
         },
         {
          "World": 709,
          "Year": 1999
         },
         {
          "World": 730,
          "Year": 2000
         },
         {
          "World": 742,
          "Year": 2001
         },
         {
          "World": 802,
          "Year": 2002
         },
         {
          "World": 937,
          "Year": 2003
         },
         {
          "World": 1060,
          "Year": 2004
         },
         {
          "World": 1150,
          "Year": 2005
         },
         {
          "World": 1190,
          "Year": 2006
         },
         {
          "World": 1320,
          "Year": 2007
         },
         {
          "World": 1490,
          "Year": 2008
         },
         {
          "World": 1550,
          "Year": 2009
         },
         {
          "World": 1630,
          "Year": 2010
         },
         {
          "World": 1730,
          "Year": 2011
         },
         {
          "World": 1740,
          "Year": 2012
         },
         {
          "World": 1740,
          "Year": 2013
         },
         {
          "World": 1740,
          "Year": 2014
         },
         {
          "World": 1640,
          "Year": 2015
         },
         {
          "World": 1630,
          "Year": 2016
         },
         {
          "World": 1700,
          "Year": 2017
         },
         {
          "World": 1780,
          "Year": 2018
         }
        ]
       },
       "encoding": {
        "color": {
         "value": "red"
        },
        "size": {
         "field": "World",
         "type": "quantitative"
        },
        "tooltip": [
         {
          "field": "Year",
          "type": "quantitative"
         },
         {
          "field": "World",
          "type": "quantitative"
         }
        ],
        "x": {
         "field": "Year",
         "type": "nominal"
        },
        "y": {
         "axis": {
          "title": "Amount US Billions $"
         },
         "field": "World",
         "type": "quantitative"
        }
       },
       "height": 450,
       "mark": "trail",
       "selection": {
        "selector001": {
         "bind": "scales",
         "encodings": [
          "x",
          "y"
         ],
         "type": "interval"
        }
       },
       "title": "Annual Global Military Spending",
       "width": 720
      },
      "image/png": "[encoded data removed]",
      "text/plain": [
       "<VegaLite 3 object>\n",
       "\n",
       "If you see this message, it means the renderer has not been properly enabled\n",
       "for the frontend that you are using. For more information, see\n",
       "https://altair-viz.github.io/user_guide/troubleshooting.html\n"
      ]
     },
     "execution_count": 7,
     "metadata": {},
     "output_type": "execute_result"
    }
   ],
   "source": [
    "points = alt.Chart(World)\\\n",
    "            .mark_trail()\\\n",
    "            .encode(\n",
    "                        x = 'Year:N',\n",
    "                        y = alt.Y(\n",
    "                                    'World:Q',\n",
    "                                    axis = alt.Axis(title = 'Amount US Billions $')\n",
    "                                 ),\n",
    "                        size = 'World:Q',\n",
    "                        color = alt.value(\"red\"),\n",
    "                        tooltip = ['Year',\n",
    "                                   'World']\n",
    "                    )\\\n",
    "            .properties(\n",
    "                            width = 720,\n",
    "                            height = 450,\n",
    "                            title = 'Annual Global Military Spending'\n",
    "                     )\\\n",
    "            .interactive()  \n",
    "\n",
    "\n",
    "points.save('world.html')\n",
    "points "
   ]
  },
  {
   "cell_type": "code",
   "execution_count": 8,
   "metadata": {
    "slideshow": {
     "slide_type": "skip"
    }
   },
   "outputs": [
    {
     "data": {
      "text/html": [
       "<div>\n",
       "<style scoped>\n",
       "    .dataframe tbody tr th:only-of-type {\n",
       "        vertical-align: middle;\n",
       "    }\n",
       "\n",
       "    .dataframe tbody tr th {\n",
       "        vertical-align: top;\n",
       "    }\n",
       "\n",
       "    .dataframe thead th {\n",
       "        text-align: right;\n",
       "    }\n",
       "</style>\n",
       "<table border=\"1\" class=\"dataframe\">\n",
       "  <thead>\n",
       "    <tr style=\"text-align: right;\">\n",
       "      <th>Year</th>\n",
       "      <th>Afghanistan</th>\n",
       "      <th>Angola</th>\n",
       "      <th>Albania</th>\n",
       "      <th>United Arab Emirates</th>\n",
       "      <th>Argentina</th>\n",
       "      <th>Armenia</th>\n",
       "      <th>Australia</th>\n",
       "      <th>Austria</th>\n",
       "      <th>Azerbaijan</th>\n",
       "      <th>Burundi</th>\n",
       "      <th>...</th>\n",
       "      <th>Uruguay</th>\n",
       "      <th>United States</th>\n",
       "      <th>Uzbekistan</th>\n",
       "      <th>Venezuela</th>\n",
       "      <th>Vietnam</th>\n",
       "      <th>Kosovo</th>\n",
       "      <th>Yemen, Rep.</th>\n",
       "      <th>South Africa</th>\n",
       "      <th>Zambia</th>\n",
       "      <th>Zimbabwe</th>\n",
       "    </tr>\n",
       "  </thead>\n",
       "  <tbody>\n",
       "    <tr>\n",
       "      <th>2014</th>\n",
       "      <td>268227074.2</td>\n",
       "      <td>6.841864e+09</td>\n",
       "      <td>178120368.0</td>\n",
       "      <td>2.275507e+10</td>\n",
       "      <td>4.979443e+09</td>\n",
       "      <td>457807021.8</td>\n",
       "      <td>2.578371e+10</td>\n",
       "      <td>3.305159e+09</td>\n",
       "      <td>3.427180e+09</td>\n",
       "      <td>62177294.74</td>\n",
       "      <td>...</td>\n",
       "      <td>1.034501e+09</td>\n",
       "      <td>6.100000e+11</td>\n",
       "      <td>NaN</td>\n",
       "      <td>1.554727e+09</td>\n",
       "      <td>4.255722e+09</td>\n",
       "      <td>53575787.74</td>\n",
       "      <td>1.714831e+09</td>\n",
       "      <td>3.892469e+09</td>\n",
       "      <td>443604396.0</td>\n",
       "      <td>368100000.0</td>\n",
       "    </tr>\n",
       "    <tr>\n",
       "      <th>2015</th>\n",
       "      <td>199518614.8</td>\n",
       "      <td>3.608299e+09</td>\n",
       "      <td>132350667.6</td>\n",
       "      <td>NaN</td>\n",
       "      <td>5.482617e+09</td>\n",
       "      <td>447379807.5</td>\n",
       "      <td>2.404557e+10</td>\n",
       "      <td>2.665410e+09</td>\n",
       "      <td>2.943397e+09</td>\n",
       "      <td>66164584.44</td>\n",
       "      <td>...</td>\n",
       "      <td>9.699068e+08</td>\n",
       "      <td>5.960000e+11</td>\n",
       "      <td>NaN</td>\n",
       "      <td>3.205392e+08</td>\n",
       "      <td>4.562633e+09</td>\n",
       "      <td>49984164.36</td>\n",
       "      <td>NaN</td>\n",
       "      <td>3.488868e+09</td>\n",
       "      <td>372447569.8</td>\n",
       "      <td>376677000.0</td>\n",
       "    </tr>\n",
       "    <tr>\n",
       "      <th>2016</th>\n",
       "      <td>185878310.1</td>\n",
       "      <td>2.764055e+09</td>\n",
       "      <td>130853162.6</td>\n",
       "      <td>NaN</td>\n",
       "      <td>4.509648e+09</td>\n",
       "      <td>431396218.6</td>\n",
       "      <td>2.638295e+10</td>\n",
       "      <td>2.885947e+09</td>\n",
       "      <td>1.396969e+09</td>\n",
       "      <td>66462843.08</td>\n",
       "      <td>...</td>\n",
       "      <td>9.882236e+08</td>\n",
       "      <td>6.000000e+11</td>\n",
       "      <td>NaN</td>\n",
       "      <td>2.181549e+08</td>\n",
       "      <td>5.017402e+09</td>\n",
       "      <td>51937624.42</td>\n",
       "      <td>NaN</td>\n",
       "      <td>3.169756e+09</td>\n",
       "      <td>299504759.9</td>\n",
       "      <td>358065000.0</td>\n",
       "    </tr>\n",
       "    <tr>\n",
       "      <th>2017</th>\n",
       "      <td>191407113.2</td>\n",
       "      <td>3.062873e+09</td>\n",
       "      <td>144382688.7</td>\n",
       "      <td>NaN</td>\n",
       "      <td>5.459644e+09</td>\n",
       "      <td>443610413.3</td>\n",
       "      <td>2.769111e+10</td>\n",
       "      <td>3.138359e+09</td>\n",
       "      <td>1.528860e+09</td>\n",
       "      <td>63908678.43</td>\n",
       "      <td>...</td>\n",
       "      <td>1.165710e+09</td>\n",
       "      <td>6.060000e+11</td>\n",
       "      <td>NaN</td>\n",
       "      <td>4.648218e+08</td>\n",
       "      <td>5.073854e+09</td>\n",
       "      <td>57262629.27</td>\n",
       "      <td>NaN</td>\n",
       "      <td>3.638937e+09</td>\n",
       "      <td>339664531.4</td>\n",
       "      <td>340522000.0</td>\n",
       "    </tr>\n",
       "    <tr>\n",
       "      <th>2018</th>\n",
       "      <td>198086263.3</td>\n",
       "      <td>1.983614e+09</td>\n",
       "      <td>180488725.1</td>\n",
       "      <td>NaN</td>\n",
       "      <td>4.144992e+09</td>\n",
       "      <td>608854649.9</td>\n",
       "      <td>2.671183e+10</td>\n",
       "      <td>3.367460e+09</td>\n",
       "      <td>1.708941e+09</td>\n",
       "      <td>65436595.26</td>\n",
       "      <td>...</td>\n",
       "      <td>1.168131e+09</td>\n",
       "      <td>6.490000e+11</td>\n",
       "      <td>NaN</td>\n",
       "      <td>NaN</td>\n",
       "      <td>5.500000e+09</td>\n",
       "      <td>63344074.22</td>\n",
       "      <td>NaN</td>\n",
       "      <td>3.639879e+09</td>\n",
       "      <td>378025431.0</td>\n",
       "      <td>420364000.0</td>\n",
       "    </tr>\n",
       "  </tbody>\n",
       "</table>\n",
       "<p>5 rows × 166 columns</p>\n",
       "</div>"
      ],
      "text/plain": [
       "Year  Afghanistan        Angola      Albania  United Arab Emirates  \\\n",
       "2014  268227074.2  6.841864e+09  178120368.0          2.275507e+10   \n",
       "2015  199518614.8  3.608299e+09  132350667.6                   NaN   \n",
       "2016  185878310.1  2.764055e+09  130853162.6                   NaN   \n",
       "2017  191407113.2  3.062873e+09  144382688.7                   NaN   \n",
       "2018  198086263.3  1.983614e+09  180488725.1                   NaN   \n",
       "\n",
       "Year     Argentina      Armenia     Australia       Austria    Azerbaijan  \\\n",
       "2014  4.979443e+09  457807021.8  2.578371e+10  3.305159e+09  3.427180e+09   \n",
       "2015  5.482617e+09  447379807.5  2.404557e+10  2.665410e+09  2.943397e+09   \n",
       "2016  4.509648e+09  431396218.6  2.638295e+10  2.885947e+09  1.396969e+09   \n",
       "2017  5.459644e+09  443610413.3  2.769111e+10  3.138359e+09  1.528860e+09   \n",
       "2018  4.144992e+09  608854649.9  2.671183e+10  3.367460e+09  1.708941e+09   \n",
       "\n",
       "Year      Burundi  ...       Uruguay  United States  Uzbekistan     Venezuela  \\\n",
       "2014  62177294.74  ...  1.034501e+09   6.100000e+11         NaN  1.554727e+09   \n",
       "2015  66164584.44  ...  9.699068e+08   5.960000e+11         NaN  3.205392e+08   \n",
       "2016  66462843.08  ...  9.882236e+08   6.000000e+11         NaN  2.181549e+08   \n",
       "2017  63908678.43  ...  1.165710e+09   6.060000e+11         NaN  4.648218e+08   \n",
       "2018  65436595.26  ...  1.168131e+09   6.490000e+11         NaN           NaN   \n",
       "\n",
       "Year       Vietnam       Kosovo   Yemen, Rep.  South Africa       Zambia  \\\n",
       "2014  4.255722e+09  53575787.74  1.714831e+09  3.892469e+09  443604396.0   \n",
       "2015  4.562633e+09  49984164.36           NaN  3.488868e+09  372447569.8   \n",
       "2016  5.017402e+09  51937624.42           NaN  3.169756e+09  299504759.9   \n",
       "2017  5.073854e+09  57262629.27           NaN  3.638937e+09  339664531.4   \n",
       "2018  5.500000e+09  63344074.22           NaN  3.639879e+09  378025431.0   \n",
       "\n",
       "Year     Zimbabwe  \n",
       "2014  368100000.0  \n",
       "2015  376677000.0  \n",
       "2016  358065000.0  \n",
       "2017  340522000.0  \n",
       "2018  420364000.0  \n",
       "\n",
       "[5 rows x 166 columns]"
      ]
     },
     "execution_count": 8,
     "metadata": {},
     "output_type": "execute_result"
    }
   ],
   "source": [
    "# Filter to get Country data\n",
    "\n",
    "Countries = data[data['Type']=='Country']\n",
    "Countries = Countries.drop(['Code', 'Type'], axis=1)\n",
    "Countries = Countries.set_index('Name')\n",
    "Countries.index = Countries.index.rename('Year')\n",
    "Countries = Countries.dropna(axis=0, how='all')\n",
    "Countries = Countries.T\n",
    "\n",
    "Countries.tail()"
   ]
  },
  {
   "cell_type": "code",
   "execution_count": 9,
   "metadata": {
    "slideshow": {
     "slide_type": "skip"
    }
   },
   "outputs": [
    {
     "data": {
      "text/html": [
       "<div>\n",
       "<style scoped>\n",
       "    .dataframe tbody tr th:only-of-type {\n",
       "        vertical-align: middle;\n",
       "    }\n",
       "\n",
       "    .dataframe tbody tr th {\n",
       "        vertical-align: top;\n",
       "    }\n",
       "\n",
       "    .dataframe thead th {\n",
       "        text-align: right;\n",
       "    }\n",
       "</style>\n",
       "<table border=\"1\" class=\"dataframe\">\n",
       "  <thead>\n",
       "    <tr style=\"text-align: right;\">\n",
       "      <th></th>\n",
       "      <th>2018 Billion $</th>\n",
       "      <th>Country</th>\n",
       "    </tr>\n",
       "    <tr>\n",
       "      <th>Country</th>\n",
       "      <th></th>\n",
       "      <th></th>\n",
       "    </tr>\n",
       "  </thead>\n",
       "  <tbody>\n",
       "    <tr>\n",
       "      <th>Iran</th>\n",
       "      <td>13.194151</td>\n",
       "      <td>Iran</td>\n",
       "    </tr>\n",
       "    <tr>\n",
       "      <th>Poland</th>\n",
       "      <td>11.596155</td>\n",
       "      <td>Poland</td>\n",
       "    </tr>\n",
       "    <tr>\n",
       "      <th>Pakistan</th>\n",
       "      <td>11.375526</td>\n",
       "      <td>Pakistan</td>\n",
       "    </tr>\n",
       "  </tbody>\n",
       "</table>\n",
       "</div>"
      ],
      "text/plain": [
       "          2018 Billion $   Country\n",
       "Country                           \n",
       "Iran           13.194151      Iran\n",
       "Poland         11.596155    Poland\n",
       "Pakistan       11.375526  Pakistan"
      ]
     },
     "execution_count": 9,
     "metadata": {},
     "output_type": "execute_result"
    }
   ],
   "source": [
    "# Get top 20 Spending Countries\n",
    "\n",
    "Top_20 = pd.DataFrame((Countries.T['2018']).sort_values(ascending=False)[:20])\n",
    "Top_20 = Top_20/1e9\n",
    "Top_20.index = Top_20.index.rename('Country')\n",
    "Top_20 = Top_20.rename(columns={'2018':'2018 Billion $'})\n",
    "\n",
    "\n",
    "Top_20['Country'] = Top_20.index\n",
    "Top_20['Country'] = Top_20.Country.apply(lambda x: str(x))\n",
    "\n",
    "Top_20.tail(3)"
   ]
  },
  {
   "cell_type": "markdown",
   "metadata": {
    "slideshow": {
     "slide_type": "slide"
    }
   },
   "source": [
    "What are the 20 top countries investing in their military?"
   ]
  },
  {
   "cell_type": "code",
   "execution_count": 10,
   "metadata": {
    "slideshow": {
     "slide_type": "slide"
    }
   },
   "outputs": [
    {
     "data": {
      "application/vnd.vegalite.v3+json": {
       "$schema": "https://vega.github.io/schema/vega-lite/v3.4.0.json",
       "config": {
        "mark": {
         "tooltip": null
        },
        "view": {
         "height": 300,
         "width": 400
        }
       },
       "data": {
        "name": "data-03d286dd760b7df00cf7c22fb7d89877"
       },
       "datasets": {
        "data-03d286dd760b7df00cf7c22fb7d89877": [
         {
          "2018 Billion $": 649,
          "Country": "United States"
         },
         {
          "2018 Billion $": 250,
          "Country": "China"
         },
         {
          "2018 Billion $": 67.554666667,
          "Country": "Saudi Arabia"
         },
         {
          "2018 Billion $": 66.510289108,
          "Country": "India"
         },
         {
          "2018 Billion $": 63.799676593,
          "Country": "France"
         },
         {
          "2018 Billion $": 61.38754698,
          "Country": "Russian Federation"
         },
         {
          "2018 Billion $": 49.997192521,
          "Country": "United Kingdom"
         },
         {
          "2018 Billion $": 49.470627811,
          "Country": "Germany"
         },
         {
          "2018 Billion $": 46.617954864,
          "Country": "Japan"
         },
         {
          "2018 Billion $": 43.069973343,
          "Country": "South Korea"
         },
         {
          "2018 Billion $": 27.807513898,
          "Country": "Italy"
         },
         {
          "2018 Billion $": 27.766427104,
          "Country": "Brazil"
         },
         {
          "2018 Billion $": 26.711834225,
          "Country": "Australia"
         },
         {
          "2018 Billion $": 21.620598712,
          "Country": "Canada"
         },
         {
          "2018 Billion $": 18.967113031,
          "Country": "Turkey"
         },
         {
          "2018 Billion $": 18.248291491,
          "Country": "Spain"
         },
         {
          "2018 Billion $": 15.946788601,
          "Country": "Israel"
         },
         {
          "2018 Billion $": 13.194151137,
          "Country": "Iran"
         },
         {
          "2018 Billion $": 11.596155291,
          "Country": "Poland"
         },
         {
          "2018 Billion $": 11.375525626,
          "Country": "Pakistan"
         }
        ]
       },
       "encoding": {
        "color": {
         "field": "Country",
         "type": "nominal"
        },
        "tooltip": [
         {
          "field": "Country",
          "type": "nominal"
         },
         {
          "field": "2018 Billion $",
          "type": "quantitative"
         }
        ],
        "x": {
         "field": "Country",
         "type": "nominal"
        },
        "y": {
         "field": "2018 Billion $",
         "type": "quantitative"
        }
       },
       "height": 450,
       "mark": "bar",
       "selection": {
        "selector002": {
         "bind": "scales",
         "encodings": [
          "x",
          "y"
         ],
         "type": "interval"
        }
       },
       "title": "Top 20 Countries and Spendings in 2018",
       "width": 720
      },
      "image/png": "[encoded data removed]",
      "text/plain": [
       "<VegaLite 3 object>\n",
       "\n",
       "If you see this message, it means the renderer has not been properly enabled\n",
       "for the frontend that you are using. For more information, see\n",
       "https://altair-viz.github.io/user_guide/troubleshooting.html\n"
      ]
     },
     "execution_count": 10,
     "metadata": {},
     "output_type": "execute_result"
    }
   ],
   "source": [
    "points = alt.Chart(Top_20)\\\n",
    "            .mark_bar()\\\n",
    "            .encode(\n",
    "                        x = 'Country',\n",
    "                        y = '2018 Billion $',\n",
    "                        tooltip = ['Country',\n",
    "                                   '2018 Billion $'],\n",
    "                        color='Country',\n",
    "                    )\\\n",
    "            .properties(\n",
    "                            width = 720,\n",
    "                            height = 450,\n",
    "                            title = 'Top 20 Countries and Spendings in 2018'\n",
    "                     )\\\n",
    "            .interactive()  \n",
    "\n",
    "points.save('countries.html')\n",
    "\n",
    "points "
   ]
  },
  {
   "cell_type": "markdown",
   "metadata": {
    "slideshow": {
     "slide_type": "subslide"
    }
   },
   "source": [
    "So we see that America takes the cake with China coming up for a piece too"
   ]
  },
  {
   "cell_type": "code",
   "execution_count": 11,
   "metadata": {
    "slideshow": {
     "slide_type": "skip"
    }
   },
   "outputs": [],
   "source": [
    "# Adjust for inflation\n",
    "Country_world_share = Countries.copy()\n",
    "cols = Country_world_share.columns\n",
    "\n",
    "for col in cols:\n",
    "    Country_world_share[col] = (Country_world_share[col]/ World['World'])*1e11"
   ]
  },
  {
   "cell_type": "markdown",
   "metadata": {
    "slideshow": {
     "slide_type": "subslide"
    }
   },
   "source": [
    "~~~\n",
    "Country_world_share = Countries.copy()\n",
    "cols = Country_world_share.columns\n",
    "\n",
    "for col in cols:\n",
    "    Country_world_share[col] = (Country_world_share[col]/ World['World'])*1e11\n",
    "~~~\n",
    "  \n",
    "  \n",
    "  \n",
    "_I adjusted the amounts for inflation_"
   ]
  },
  {
   "cell_type": "code",
   "execution_count": 12,
   "metadata": {
    "slideshow": {
     "slide_type": "skip"
    }
   },
   "outputs": [
    {
     "data": {
      "text/html": [
       "<div>\n",
       "<style scoped>\n",
       "    .dataframe tbody tr th:only-of-type {\n",
       "        vertical-align: middle;\n",
       "    }\n",
       "\n",
       "    .dataframe tbody tr th {\n",
       "        vertical-align: top;\n",
       "    }\n",
       "\n",
       "    .dataframe thead th {\n",
       "        text-align: right;\n",
       "    }\n",
       "</style>\n",
       "<table border=\"1\" class=\"dataframe\">\n",
       "  <thead>\n",
       "    <tr style=\"text-align: right;\">\n",
       "      <th></th>\n",
       "      <th>United States</th>\n",
       "      <th>China</th>\n",
       "      <th>Russian Federation</th>\n",
       "      <th>India</th>\n",
       "      <th>Japan</th>\n",
       "      <th>South Korea</th>\n",
       "      <th>France</th>\n",
       "      <th>United Kingdom</th>\n",
       "      <th>Egypt</th>\n",
       "      <th>Brazil</th>\n",
       "      <th>Year</th>\n",
       "    </tr>\n",
       "    <tr>\n",
       "      <th>Year</th>\n",
       "      <th></th>\n",
       "      <th></th>\n",
       "      <th></th>\n",
       "      <th></th>\n",
       "      <th></th>\n",
       "      <th></th>\n",
       "      <th></th>\n",
       "      <th></th>\n",
       "      <th></th>\n",
       "      <th></th>\n",
       "      <th></th>\n",
       "    </tr>\n",
       "  </thead>\n",
       "  <tbody>\n",
       "    <tr>\n",
       "      <th>2014</th>\n",
       "      <td>350.574713</td>\n",
       "      <td>115.517241</td>\n",
       "      <td>48.676152</td>\n",
       "      <td>29.260982</td>\n",
       "      <td>26.943244</td>\n",
       "      <td>21.581798</td>\n",
       "      <td>36.559522</td>\n",
       "      <td>34.013137</td>\n",
       "      <td>2.922483</td>\n",
       "      <td>18.769893</td>\n",
       "      <td>2014</td>\n",
       "    </tr>\n",
       "    <tr>\n",
       "      <th>2015</th>\n",
       "      <td>363.414634</td>\n",
       "      <td>130.487805</td>\n",
       "      <td>40.499212</td>\n",
       "      <td>31.277734</td>\n",
       "      <td>25.674453</td>\n",
       "      <td>22.299250</td>\n",
       "      <td>33.745202</td>\n",
       "      <td>32.842796</td>\n",
       "      <td>3.338714</td>\n",
       "      <td>15.010794</td>\n",
       "      <td>2015</td>\n",
       "    </tr>\n",
       "    <tr>\n",
       "      <th>2016</th>\n",
       "      <td>368.098160</td>\n",
       "      <td>132.515337</td>\n",
       "      <td>42.481785</td>\n",
       "      <td>34.747008</td>\n",
       "      <td>28.509992</td>\n",
       "      <td>22.629008</td>\n",
       "      <td>35.189211</td>\n",
       "      <td>29.520824</td>\n",
       "      <td>2.768725</td>\n",
       "      <td>14.861808</td>\n",
       "      <td>2016</td>\n",
       "    </tr>\n",
       "    <tr>\n",
       "      <th>2017</th>\n",
       "      <td>356.470588</td>\n",
       "      <td>134.117647</td>\n",
       "      <td>39.133708</td>\n",
       "      <td>37.976138</td>\n",
       "      <td>26.698254</td>\n",
       "      <td>23.041578</td>\n",
       "      <td>35.539705</td>\n",
       "      <td>27.313708</td>\n",
       "      <td>1.626817</td>\n",
       "      <td>17.225324</td>\n",
       "      <td>2017</td>\n",
       "    </tr>\n",
       "    <tr>\n",
       "      <th>2018</th>\n",
       "      <td>364.606742</td>\n",
       "      <td>140.449438</td>\n",
       "      <td>34.487386</td>\n",
       "      <td>37.365331</td>\n",
       "      <td>26.189862</td>\n",
       "      <td>24.196614</td>\n",
       "      <td>35.842515</td>\n",
       "      <td>28.088310</td>\n",
       "      <td>1.747190</td>\n",
       "      <td>15.599116</td>\n",
       "      <td>2018</td>\n",
       "    </tr>\n",
       "  </tbody>\n",
       "</table>\n",
       "</div>"
      ],
      "text/plain": [
       "      United States       China  Russian Federation      India      Japan  \\\n",
       "Year                                                                        \n",
       "2014     350.574713  115.517241           48.676152  29.260982  26.943244   \n",
       "2015     363.414634  130.487805           40.499212  31.277734  25.674453   \n",
       "2016     368.098160  132.515337           42.481785  34.747008  28.509992   \n",
       "2017     356.470588  134.117647           39.133708  37.976138  26.698254   \n",
       "2018     364.606742  140.449438           34.487386  37.365331  26.189862   \n",
       "\n",
       "      South Korea     France  United Kingdom     Egypt     Brazil  Year  \n",
       "Year                                                                     \n",
       "2014    21.581798  36.559522       34.013137  2.922483  18.769893  2014  \n",
       "2015    22.299250  33.745202       32.842796  3.338714  15.010794  2015  \n",
       "2016    22.629008  35.189211       29.520824  2.768725  14.861808  2016  \n",
       "2017    23.041578  35.539705       27.313708  1.626817  17.225324  2017  \n",
       "2018    24.196614  35.842515       28.088310  1.747190  15.599116  2018  "
      ]
     },
     "execution_count": 12,
     "metadata": {},
     "output_type": "execute_result"
    }
   ],
   "source": [
    "# According to the Global Firepower Index, these 10 countries are the top 10 strongest firepowers. \n",
    "# Let's judge their military expenses in the last 3 decades.\n",
    "\n",
    "USA1 = Country_world_share['United States']\n",
    "CHN1 = Country_world_share['China']\n",
    "RUS1 = Country_world_share['Russian Federation']\n",
    "IND1 = Country_world_share['India']\n",
    "JPN1 = Country_world_share['Japan']\n",
    "SK1 = Country_world_share['South Korea']\n",
    "FRNC1 = Country_world_share['France']\n",
    "UK1 = Country_world_share['United Kingdom']\n",
    "EGY1 = Country_world_share['Egypt']\n",
    "BRA1 = Country_world_share['Brazil']\n",
    "\n",
    "GFI_10 = pd.DataFrame([USA1, CHN1, RUS1, IND1, JPN1, SK1, FRNC1, UK1, EGY1,BRA1])\n",
    "\n",
    "GFI_10 = GFI_10.T\n",
    "GFI_10 = GFI_10.dropna(axis=0, how='all')\n",
    "GFI_10 = GFI_10/1e17\n",
    "\n",
    "GFI_10.index = GFI_10.index.rename('Year')\n",
    "\n",
    "GFI_10['Year'] = GFI_10.index\n",
    "\n",
    "########################################\n",
    "\n",
    "USA = Countries['United States']\n",
    "CHN = Countries['China']\n",
    "RUS = Countries['Russian Federation']\n",
    "IND = Countries['India']\n",
    "JPN = Countries['Japan']\n",
    "SK = Countries['South Korea']\n",
    "FRNC = Countries['France']\n",
    "UK = Countries['United Kingdom']\n",
    "EGY = Countries['Egypt']\n",
    "BRA = Countries['Brazil']\n",
    "\n",
    "GFI_10_b4 = pd.DataFrame([USA, CHN, RUS, IND, JPN, SK, FRNC, UK, EGY,BRA])\n",
    "\n",
    "GFI_10_b4 = GFI_10_b4.T\n",
    "GFI_10_b4 = GFI_10_b4.dropna(axis=0, how='all')\n",
    "GFI_10_b4 = GFI_10_b4/1e9\n",
    "\n",
    "GFI_10_b4.index = GFI_10_b4.index.rename('Year')\n",
    "\n",
    "GFI_10_b4['Year'] = GFI_10_b4.index\n",
    "\n",
    "GFI_10.tail()"
   ]
  },
  {
   "cell_type": "code",
   "execution_count": 13,
   "metadata": {
    "slideshow": {
     "slide_type": "slide"
    }
   },
   "outputs": [
    {
     "data": {
      "application/vnd.vegalite.v3+json": {
       "$schema": "https://vega.github.io/schema/vega-lite/v3.4.0.json",
       "config": {
        "mark": {
         "tooltip": null
        },
        "view": {
         "height": 300,
         "width": 400
        }
       },
       "data": {
        "name": "data-48e39acfd78e91c49c7b0fd254899613"
       },
       "datasets": {
        "data-48e39acfd78e91c49c7b0fd254899613": [
         {
          "Brazil": 0.38272975210000004,
          "China": null,
          "Egypt": null,
          "France": 3.88121969,
          "India": 0.6817656818,
          "Japan": 0.4805555556,
          "Russian Federation": null,
          "South Korea": 0.2756435644,
          "United Kingdom": 4.587798165,
          "United States": 45.38,
          "Year": "1960"
         },
         {
          "Brazil": 0.3423397208,
          "China": null,
          "Egypt": null,
          "France": 4.131003787,
          "India": 0.7483882484,
          "Japan": 0.4923611111,
          "Russian Federation": null,
          "South Korea": 0.1570613501,
          "United Kingdom": 4.747398101,
          "United States": 47.808,
          "Year": "1961"
         },
         {
          "Brazil": 0.3874490355,
          "China": null,
          "Egypt": 0.2496977668,
          "France": 4.49332359,
          "India": 1.065436065,
          "Japan": 0.5381944444,
          "Russian Federation": null,
          "South Korea": 0.1861538462,
          "United Kingdom": 5.005697998,
          "United States": 52.381,
          "Year": "1962"
         },
         {
          "Brazil": 0.4419996062,
          "China": null,
          "Egypt": 0.3357996978,
          "France": 4.628060852,
          "India": 1.795449295,
          "Japan": 0.6298611111,
          "Russian Federation": null,
          "South Korea": 0.1853846154,
          "United Kingdom": 5.196797921,
          "United States": 52.295,
          "Year": "1963"
         },
         {
          "Brazil": 0.35422785710000004,
          "China": null,
          "Egypt": 0.4484995964,
          "France": 4.917956554,
          "India": 1.986654487,
          "Japan": 0.7180555556,
          "Russian Federation": null,
          "South Korea": 0.1374814704,
          "United Kingdom": 5.508997796,
          "United States": 51.213,
          "Year": "1964"
         },
         {
          "Brazil": 0.6328690265,
          "China": null,
          "Egypt": 0.5151995363,
          "France": 5.124506743,
          "India": 2.125989626,
          "Japan": 0.8213888889,
          "Russian Federation": null,
          "South Korea": 0.1321316361,
          "United Kingdom": 5.791097684,
          "United States": 51.827,
          "Year": "1965"
         },
         {
          "Brazil": 0.7182165746,
          "China": null,
          "Egypt": 0.48184956630000003,
          "France": 5.414601741,
          "India": 1.661154906,
          "Japan": 0.9324305556,
          "Russian Federation": null,
          "South Korea": 0.1769017863,
          "United Kingdom": 5.984997606,
          "United States": 63.572,
          "Year": "1966"
         },
         {
          "Brazil": 0.7461391636,
          "China": null,
          "Egypt": 0.5082995425,
          "France": 5.856108417,
          "India": 1.487733333,
          "Japan": 1.039027778,
          "Russian Federation": null,
          "South Korea": 0.2181008957,
          "United Kingdom": 6.200583812,
          "United States": 75.448,
          "Year": "1967"
         },
         {
          "Brazil": 0.7553075667000001,
          "China": null,
          "Egypt": 0.6485994163,
          "France": 6.129940876,
          "India": 1.586866667,
          "Japan": 1.168194444,
          "Russian Federation": null,
          "South Korea": 0.2786965244,
          "United Kingdom": 5.563195549,
          "United States": 80.732,
          "Year": "1968"
         },
         {
          "Brazil": 0.816622811,
          "China": null,
          "Egypt": 0.8889491999,
          "France": 5.909705121,
          "India": 1.691433333,
          "Japan": 1.335416667,
          "Russian Federation": null,
          "South Korea": 0.34702822380000004,
          "United Kingdom": 5.544595564,
          "United States": 81.443,
          "Year": "1969"
         },
         {
          "Brazil": 1.026234374,
          "China": null,
          "Egypt": 1.092499017,
          "France": 5.882387677,
          "India": 1.832966667,
          "Japan": 1.575347222,
          "Russian Federation": null,
          "South Korea": 0.3864037404,
          "United Kingdom": 6.07439514,
          "United States": 79.846,
          "Year": "1970"
         },
         {
          "Brazil": 1.075071453,
          "China": null,
          "Egypt": 1.26614886,
          "France": 6.300175574,
          "India": 2.255256983,
          "Japan": 1.896540416,
          "Russian Federation": null,
          "South Korea": 0.4608998493,
          "United Kingdom": 6.723936533,
          "United States": 74.862,
          "Year": "1971"
         },
         {
          "Brazil": 1.195501488,
          "China": null,
          "Egypt": 1.066049041,
          "France": 7.531246912,
          "India": 2.497244706,
          "Japan": 2.567519428,
          "Russian Federation": null,
          "South Korea": 0.5319500934,
          "United Kingdom": 7.86046105,
          "United States": 77.639,
          "Year": "1972"
         },
         {
          "Brazil": 1.512670977,
          "China": null,
          "Egypt": 1.243856105,
          "France": 9.496156577,
          "India": 2.529921054,
          "Japan": 3.3745611,
          "Russian Federation": null,
          "South Korea": 0.5447853746,
          "United Kingdom": 8.448664898,
          "United States": 78.358,
          "Year": "1973"
         },
         {
          "Brazil": 1.790114213,
          "China": null,
          "Egypt": 1.852779425,
          "France": 9.954624929,
          "India": 2.89541572,
          "Japan": 3.962157887,
          "Russian Federation": null,
          "South Korea": 0.852963864,
          "United Kingdom": 9.346449845,
          "United States": 85.906,
          "Year": "1974"
         },
         {
          "Brazil": 2.141126693,
          "China": null,
          "Egypt": 1.926890602,
          "France": 13.030408263,
          "India": 3.323646801,
          "Japan": 4.534902135,
          "Russian Federation": null,
          "South Korea": 1.030991736,
          "United Kingdom": 11.543753775,
          "United States": 88.4,
          "Year": "1975"
         },
         {
          "Brazil": 2.576476982,
          "China": null,
          "Egypt": 2.201613068,
          "France": 13.304260893,
          "India": 3.294910612,
          "Japan": 5.008396504,
          "Russian Federation": null,
          "South Korea": 1.708677686,
          "United Kingdom": 10.76665289,
          "United States": 91.013,
          "Year": "1976"
         },
         {
          "Brazil": 2.499644658,
          "China": null,
          "Egypt": 2.751058001,
          "France": 15.041676195,
          "India": 3.477080945,
          "Japan": 6.157312577,
          "Russian Federation": null,
          "South Korea": 2.237603306,
          "United Kingdom": 11.583506608,
          "United States": 101,
          "Year": "1977"
         },
         {
          "Brazil": 2.690623102,
          "China": null,
          "Egypt": 2.485279987,
          "France": 18.87305274,
          "India": 3.97581913,
          "Japan": 8.657135933,
          "Russian Federation": null,
          "South Korea": 3.190082645,
          "United Kingdom": 14.217505105,
          "United States": 109,
          "Year": "1978"
         },
         {
          "Brazil": 2.8291612,
          "China": null,
          "Egypt": 1.152855496,
          "France": 22.667912461,
          "India": 4.589738352,
          "Japan": 9.173587661,
          "Russian Federation": null,
          "South Korea": 3.54338843,
          "United Kingdom": 18.373780394,
          "United States": 122,
          "Year": "1979"
         },
         {
          "Brazil": 2.259307479,
          "China": null,
          "Egypt": 1.361426627,
          "France": 26.427190947,
          "India": 5.420809519,
          "Japan": 9.711741591,
          "Russian Federation": null,
          "South Korea": 3.980692489,
          "United Kingdom": 25.363413472,
          "United States": 138,
          "Year": "1980"
         },
         {
          "Brazil": 2.517859757,
          "China": null,
          "Egypt": 1.817140261,
          "France": 23.867080426,
          "India": 5.879007036,
          "Japan": 10.851176225,
          "Russian Federation": null,
          "South Korea": 4.46383996,
          "United Kingdom": 24.100707136,
          "United States": 170,
          "Year": "1981"
         },
         {
          "Brazil": 3.031328924,
          "China": null,
          "Egypt": 2.307139561,
          "France": 22.522681678,
          "India": 6.302107956,
          "Japan": 10.193936012,
          "Russian Federation": null,
          "South Korea": 4.646524886,
          "United Kingdom": 24.785700685,
          "United States": 214,
          "Year": "1982"
         },
         {
          "Brazil": 2.082669251,
          "China": null,
          "Egypt": 3.004281422,
          "France": 21.653641575,
          "India": 6.830768698,
          "Japan": 11.429317256,
          "Russian Federation": null,
          "South Korea": 4.714159753,
          "United Kingdom": 23.631058396,
          "United States": 214,
          "Year": "1983"
         },
         {
          "Brazil": 2.013151758,
          "China": null,
          "Egypt": 3.742137511,
          "France": 20.212344345,
          "India": 6.956682449,
          "Japan": 12.225078098,
          "Russian Federation": null,
          "South Korea": 4.759446931,
          "United Kingdom": 22.732895544,
          "United States": 231,
          "Year": "1984"
         },
         {
          "Brazil": 2.687049984,
          "China": null,
          "Egypt": 4.203565423,
          "France": 20.780557604,
          "India": 7.56702402,
          "Japan": 13.087751954,
          "Russian Federation": null,
          "South Korea": 4.883795775,
          "United Kingdom": 23.281158966,
          "United States": 258,
          "Year": "1985"
         },
         {
          "Brazil": 2.758186568,
          "China": null,
          "Egypt": 4.727136104,
          "France": 28.454938061,
          "India": 9.539363086,
          "Japan": 19.457334441,
          "Russian Federation": null,
          "South Korea": 5.325292074,
          "United Kingdom": 27.216844988,
          "United States": 281,
          "Year": "1986"
         },
         {
          "Brazil": 4.32367477,
          "China": null,
          "Egypt": 4.80570742,
          "France": 34.858734928,
          "India": 10.877406164,
          "Japan": 23.6422907,
          "Russian Federation": null,
          "South Korea": 6.040845305,
          "United Kingdom": 31.231666522,
          "United States": 288,
          "Year": "1987"
         },
         {
          "Brazil": 5.874167753,
          "China": null,
          "Egypt": 4.453565066,
          "France": 36.104962946,
          "India": 11.346419153,
          "Japan": 28.216102753,
          "Russian Federation": null,
          "South Korea": 7.732395676,
          "United Kingdom": 34.304125087,
          "United States": 293,
          "Year": "1988"
         },
         {
          "Brazil": 8.761486966,
          "China": 11.40345302,
          "Egypt": 3.516344801,
          "France": 35.31706294,
          "India": 10.589796925,
          "Japan": 27.966353542,
          "Russian Federation": null,
          "South Korea": 9.468974884,
          "United Kingdom": 33.498698405,
          "United States": 304,
          "Year": "1989"
         },
         {
          "Brazil": 9.236296955,
          "China": 10.085081567,
          "Egypt": 2.260645161,
          "France": 42.589868779,
          "India": 10.53703545,
          "Japan": 28.800451682,
          "Russian Federation": null,
          "South Korea": 10.110714871,
          "United Kingdom": 38.943795645,
          "United States": 306,
          "Year": "1990"
         },
         {
          "Brazil": 6.694665295,
          "China": 9.953641758,
          "Egypt": 1.345757343,
          "France": 42.702599011,
          "India": 8.622473881,
          "Japan": 32.785415754,
          "Russian Federation": null,
          "South Korea": 10.956524348,
          "United Kingdom": 42.074283749,
          "United States": 280,
          "Year": "1991"
         },
         {
          "Brazil": 4.993804467,
          "China": 12.420300875,
          "Egypt": 1.415819974,
          "France": 45.123086054,
          "India": 8.08323141,
          "Japan": 35.999123576,
          "Russian Federation": null,
          "South Korea": 11.614665196,
          "United Kingdom": 40.774938835,
          "United States": 305,
          "Year": "1992"
         },
         {
          "Brazil": 7.099899155,
          "China": 12.57716593,
          "Egypt": 1.526165392,
          "France": 42.590872342,
          "India": 8.253542581,
          "Japan": 41.353936222,
          "Russian Federation": 7.766720078,
          "South Korea": 12.377424873,
          "United Kingdom": 34.085881363,
          "United States": 298,
          "Year": "1993"
         },
         {
          "Brazil": 10.591499118,
          "China": 10.050586559,
          "Egypt": 1.714409786,
          "France": 44.392512323,
          "India": 8.880551226,
          "Japan": 45.285594083,
          "Russian Federation": 13.547871733,
          "South Korea": 13.519265763,
          "United Kingdom": 34.493524143,
          "United States": 288,
          "Year": "1994"
         },
         {
          "Brazil": 14.318919608,
          "China": 12.606229599,
          "Egypt": 1.948876986,
          "France": 47.76811,
          "India": 9.75446463,
          "Japan": 49.961673237,
          "Russian Federation": 12.74162947,
          "South Korea": 16.085095679,
          "United Kingdom": 34.247823782,
          "United States": 279,
          "Year": "1995"
         },
         {
          "Brazil": 14.073226545,
          "China": 14.56324039,
          "Egypt": 2.115742979,
          "France": 46.403438584,
          "India": 9.904672736,
          "Japan": 44.04710468,
          "Russian Federation": 15.826340652,
          "South Korea": 16.408665267,
          "United Kingdom": 34.490949485,
          "United States": 271,
          "Year": "1996"
         },
         {
          "Brazil": 13.934266552,
          "China": 16.104915232,
          "Egypt": 2.267650314,
          "France": 41.308251985,
          "India": 11.46488339,
          "Japan": 40.634840608,
          "Russian Federation": 17.577353181,
          "South Korea": 14.84848453,
          "United Kingdom": 35.674878363,
          "United States": 276,
          "Year": "1997"
         },
         {
          "Brazil": 14.357357047,
          "China": 17.527989869,
          "Egypt": 2.372048406,
          "France": 40.04113968,
          "India": 11.920610818,
          "Japan": 37.849012643,
          "Russian Federation": 7.955730401,
          "South Korea": 10.457957529,
          "United Kingdom": 36.866288852,
          "United States": 274,
          "Year": "1998"
         },
         {
          "Brazil": 9.866973919,
          "China": 21.027341242,
          "Egypt": 2.447978794,
          "France": 38.897240331,
          "India": 13.895562461,
          "Japan": 43.122898505,
          "Russian Federation": 6.469035211,
          "South Korea": 12.095186824,
          "United Kingdom": 36.453353008,
          "United States": 281,
          "Year": "1999"
         },
         {
          "Brazil": 11.344032535,
          "China": 22.929764607,
          "Egypt": 2.627698334,
          "France": 33.814262023,
          "India": 14.287514241,
          "Japan": 45.509673827,
          "Russian Federation": 9.228204144,
          "South Korea": 13.801107024,
          "United Kingdom": 35.254814799,
          "United States": 302,
          "Year": "2000"
         },
         {
          "Brazil": 10.930231568,
          "China": 27.875387284,
          "Egypt": 2.83425623,
          "France": 33.276659717,
          "India": 14.600642346,
          "Japan": 40.757967234,
          "Russian Federation": 11.683151345,
          "South Korea": 12.941850828,
          "United Kingdom": 35.33192736,
          "United States": 313,
          "Year": "2001"
         },
         {
          "Brazil": 9.664561903,
          "China": 32.137735649,
          "Egypt": 2.902768425,
          "France": 36.403933933,
          "India": 14.749667252,
          "Japan": 39.33370817,
          "Russian Federation": 13.943825063,
          "South Korea": 14.101703315,
          "United Kingdom": 39.659529123,
          "United States": 357,
          "Year": "2002"
         },
         {
          "Brazil": 8.392905884,
          "China": 35.126306608,
          "Egypt": 2.383914898,
          "France": 45.916973841,
          "India": 16.333986643,
          "Japan": 42.486177361,
          "Russian Federation": 16.973739085,
          "South Korea": 15.847047272,
          "United Kingdom": 46.942962291,
          "United States": 415,
          "Year": "2003"
         },
         {
          "Brazil": 9.780111585,
          "China": 40.352713136,
          "Egypt": 2.369743586,
          "France": 53.007021661,
          "India": 20.238566527,
          "Japan": 45.339809415,
          "Russian Federation": 20.955413571,
          "South Korea": 17.829864143,
          "United Kingdom": 53.970302831,
          "United States": 465,
          "Year": "2004"
         },
         {
          "Brazil": 13.588619736,
          "China": 45.918881613,
          "Egypt": 2.659439714,
          "France": 52.908769835,
          "India": 23.072312925,
          "Japan": 44.30061333,
          "Russian Federation": 27.336977274,
          "South Korea": 22.159512557,
          "United Kingdom": 55.151564188,
          "United States": 503,
          "Year": "2005"
         },
         {
          "Brazil": 16.404867307,
          "China": 55.337487669,
          "Egypt": 2.952520159,
          "France": 54.51607683,
          "India": 23.951927958,
          "Japan": 41.552592886,
          "Russian Federation": 34.517781619,
          "South Korea": 25.177237741,
          "United Kingdom": 57.482975674,
          "United States": 528,
          "Year": "2006"
         },
         {
          "Brazil": 20.485758015,
          "China": 68.011562228,
          "Egypt": 3.306908257,
          "France": 60.594986847,
          "India": 28.25477345,
          "Japan": 40.530045688,
          "Russian Federation": 43.534994996,
          "South Korea": 27.726129585,
          "United Kingdom": 65.986089657,
          "United States": 557,
          "Year": "2007"
         },
         {
          "Brazil": 24.452903036,
          "China": 86.362099113,
          "Egypt": 3.77988035,
          "France": 66.009448127,
          "India": 33.002376727,
          "Japan": 46.36146828,
          "Russian Federation": 56.183785393,
          "South Korea": 26.072410508,
          "United Kingdom": 65.61945048,
          "United States": 621,
          "Year": "2008"
         },
         {
          "Brazil": 25.648809911,
          "China": 106,
          "Egypt": 4.017404478,
          "France": 66.884028879,
          "India": 38.722154392,
          "Japan": 51.465158208,
          "Russian Federation": 51.532116798,
          "South Korea": 24.575661939,
          "United Kingdom": 57.914627858,
          "United States": 669,
          "Year": "2009"
         },
         {
          "Brazil": 34.00294447,
          "China": 116,
          "Egypt": 4.407286453,
          "France": 61.781748108,
          "India": 46.090445657,
          "Japan": 54.655450735,
          "Russian Federation": 58.720227609,
          "South Korea": 28.175181219,
          "United Kingdom": 58.082848795,
          "United States": 698,
          "Year": "2010"
         },
         {
          "Brazil": 36.936209896,
          "China": 138,
          "Egypt": 4.463974191,
          "France": 64.60092722,
          "India": 49.633815794,
          "Japan": 60.762213841,
          "Russian Federation": 70.237523951,
          "South Korea": 30.991707946,
          "United Kingdom": 60.270435687,
          "United States": 711,
          "Year": "2011"
         },
         {
          "Brazil": 33.987005074,
          "China": 157,
          "Egypt": 4.557748767,
          "France": 60.035153811,
          "India": 47.216920048,
          "Japan": 60.011530195,
          "Russian Federation": 81.469399931,
          "South Korea": 31.95176081,
          "United Kingdom": 58.495656721,
          "United States": 685,
          "Year": "2012"
         },
         {
          "Brazil": 32.874787231,
          "China": 180,
          "Egypt": 4.359834244,
          "France": 62.417099178,
          "India": 47.403528801,
          "Japan": 49.023932407,
          "Russian Federation": 88.352896464,
          "South Korea": 34.311220715,
          "United Kingdom": 56.861759588,
          "United States": 640,
          "Year": "2013"
         },
         {
          "Brazil": 32.659614241,
          "China": 201,
          "Egypt": 5.085120542,
          "France": 63.613569143,
          "India": 50.914108341,
          "Japan": 46.881244398,
          "Russian Federation": 84.696504653,
          "South Korea": 37.552328673,
          "United Kingdom": 59.182858554,
          "United States": 610,
          "Year": "2014"
         },
         {
          "Brazil": 24.617701683,
          "China": 214,
          "Egypt": 5.475490833,
          "France": 55.342131529,
          "India": 51.295483754,
          "Japan": 42.106103306,
          "Russian Federation": 66.418708184,
          "South Korea": 36.570769323,
          "United Kingdom": 53.862185493,
          "United States": 596,
          "Year": "2015"
         },
         {
          "Brazil": 24.224746901,
          "China": 216,
          "Egypt": 4.513022527,
          "France": 57.358414419,
          "India": 56.637622641,
          "Japan": 46.471287714,
          "Russian Federation": 69.245309461,
          "South Korea": 36.88528343,
          "United Kingdom": 48.118943518,
          "United States": 600,
          "Year": "2016"
         },
         {
          "Brazil": 29.283050314,
          "China": 228,
          "Egypt": 2.765588434,
          "France": 60.417498822,
          "India": 64.559435281,
          "Japan": 45.387031802,
          "Russian Federation": 66.527303992,
          "South Korea": 39.170682136,
          "United Kingdom": 46.433303401,
          "United States": 606,
          "Year": "2017"
         },
         {
          "Brazil": 27.766427104,
          "China": 250,
          "Egypt": 3.109997892,
          "France": 63.799676593,
          "India": 66.510289108,
          "Japan": 46.617954864,
          "Russian Federation": 61.38754698,
          "South Korea": 43.069973343,
          "United Kingdom": 49.997192521,
          "United States": 649,
          "Year": "2018"
         }
        ]
       },
       "encoding": {
        "color": {
         "field": "key",
         "title": "Countries",
         "type": "nominal"
        },
        "tooltip": [
         {
          "field": "value",
          "type": "quantitative"
         },
         {
          "field": "Year",
          "type": "nominal"
         }
        ],
        "x": {
         "field": "Year",
         "type": "nominal"
        },
        "y": {
         "field": "value",
         "title": "Amount in US Billions",
         "type": "quantitative"
        }
       },
       "height": 450,
       "mark": {
        "point": true,
        "type": "line"
       },
       "selection": {
        "selector003": {
         "bind": "scales",
         "encodings": [
          "x",
          "y"
         ],
         "type": "interval"
        }
       },
       "title": "Top 10 Countries and Expenditures in Billion USD (Not Normalized for Inflation)",
       "transform": [
        {
         "fold": [
          "United States",
          "China",
          "Russian Federation",
          "India",
          "Japan",
          "South Korea",
          "France",
          "United Kingdom",
          "Egypt",
          "Brazil"
         ]
        }
       ],
       "width": 720
      },
      "image/png": "[encoded data removed]",
      "text/plain": [
       "<VegaLite 3 object>\n",
       "\n",
       "If you see this message, it means the renderer has not been properly enabled\n",
       "for the frontend that you are using. For more information, see\n",
       "https://altair-viz.github.io/user_guide/troubleshooting.html\n"
      ]
     },
     "execution_count": 13,
     "metadata": {},
     "output_type": "execute_result"
    }
   ],
   "source": [
    "points = alt.Chart(GFI_10_b4)\\\n",
    "            .transform_fold(['United States', \n",
    "                             'China', \n",
    "                             'Russian Federation', \n",
    "                             'India', \n",
    "                             'Japan',       \n",
    "                             'South Korea', \n",
    "                             'France', \n",
    "                             'United Kingdom', \n",
    "                             'Egypt', \n",
    "                             'Brazil'])\\\n",
    "            .mark_line(point=True)\\\n",
    "            .encode(\n",
    "                        y = alt.Y('value:Q', title = 'Amount in US Billions'),\n",
    "                        x = 'Year',\n",
    "                        tooltip = ['value:Q',\n",
    "                                   'Year'],\n",
    "                        color= alt.Color('key:N', title= 'Countries'),\n",
    "                    )\\\n",
    "            .properties(\n",
    "                            width = 720,\n",
    "                            height = 450,\n",
    "                            title = 'Top 10 Countries and Expenditures in Billion USD (Not Normalized for Inflation)'\n",
    "                     )\\\n",
    "            .interactive()  \n",
    "\n",
    "points.save('GFI_.html')\n",
    "\n",
    "points "
   ]
  },
  {
   "cell_type": "code",
   "execution_count": 14,
   "metadata": {
    "slideshow": {
     "slide_type": "subslide"
    }
   },
   "outputs": [
    {
     "data": {
      "application/vnd.vegalite.v3+json": {
       "$schema": "https://vega.github.io/schema/vega-lite/v3.4.0.json",
       "config": {
        "mark": {
         "tooltip": null
        },
        "view": {
         "height": 300,
         "width": 400
        }
       },
       "data": {
        "name": "data-60d2b60c5c23aded81a8e77433bfdcc1"
       },
       "datasets": {
        "data-60d2b60c5c23aded81a8e77433bfdcc1": [
         {
          "Brazil": 6.206888678571428,
          "China": null,
          "Egypt": 3.740183041208791,
          "France": 72.60217293131868,
          "India": 14.892333843406595,
          "Japan": 26.680608766483516,
          "Russian Federation": null,
          "South Korea": 10.935968376373626,
          "United Kingdom": 69.67970734065933,
          "United States": 379.1208791208791,
          "Year": "1980"
         },
         {
          "Brazil": 6.2946493925,
          "China": null,
          "Egypt": 4.5428506525,
          "France": 59.667701064999996,
          "India": 14.69751759,
          "Japan": 27.127940562499997,
          "Russian Federation": null,
          "South Korea": 11.1595999,
          "United Kingdom": 60.25176784,
          "United States": 425,
          "Year": "1981"
         },
         {
          "Brazil": 4.493642316964285,
          "China": null,
          "Egypt": 8.352985515624999,
          "France": 45.11684005580358,
          "India": 15.52830903794643,
          "Japan": 27.288120754464288,
          "Russian Federation": null,
          "South Korea": 10.623765470982145,
          "United Kingdom": 50.74307041071429,
          "United States": 515.625,
          "Year": "1984"
         },
         {
          "Brazil": 5.66888182278481,
          "China": null,
          "Egypt": 8.868281483122365,
          "France": 43.84083882700422,
          "India": 15.964185696202533,
          "Japan": 27.611291042194093,
          "Russian Federation": null,
          "South Korea": 10.303366613924052,
          "United Kingdom": 49.116369126582285,
          "United States": 544.3037974683544,
          "Year": "1985"
         },
         {
          "Brazil": 5.304204938461538,
          "China": null,
          "Egypt": 9.090646353846154,
          "France": 54.7210347326923,
          "India": 18.34492901153846,
          "Japan": 37.41795084807692,
          "Russian Federation": null,
          "South Korea": 10.240946296153846,
          "United Kingdom": 52.34008651538462,
          "United States": 540.3846153846154,
          "Year": "1986"
         },
         {
          "Brazil": 7.353188384353741,
          "China": null,
          "Egypt": 8.17297180272109,
          "France": 59.28356280272109,
          "India": 18.49899007482993,
          "Japan": 40.20797738095238,
          "Russian Federation": null,
          "South Korea": 10.273546437074831,
          "United Kingdom": 53.11507911904762,
          "United States": 489.7959183673469,
          "Year": "1987"
         },
         {
          "Brazil": 9.368688601275917,
          "China": null,
          "Egypt": 7.1029745869218495,
          "France": 57.58367296012759,
          "India": 18.096362285486446,
          "Japan": 45.00175877671451,
          "Russian Federation": null,
          "South Korea": 12.332369499202553,
          "United Kingdom": 54.71152326475279,
          "United States": 467.304625199362,
          "Year": "1988"
         },
         {
          "Brazil": 13.58370072248062,
          "China": 17.679772124031008,
          "Egypt": 5.451697365891473,
          "France": 54.75513634108527,
          "India": 16.41828980620155,
          "Japan": 43.358687662015505,
          "Russian Federation": null,
          "South Korea": 14.680581215503874,
          "United Kingdom": 51.935966519379846,
          "United States": 471.3178294573643,
          "Year": "1989"
         },
         {
          "Brazil": 13.194709935714286,
          "China": 14.407259381428572,
          "Egypt": 3.229493087142857,
          "France": 60.84266968428572,
          "India": 15.052907785714286,
          "Japan": 41.14350240285714,
          "Russian Federation": null,
          "South Korea": 14.443878387142858,
          "United Kingdom": 55.63399377857143,
          "United States": 437.14285714285717,
          "Year": "1990"
         },
         {
          "Brazil": 9.773234007299271,
          "China": 14.530863880291971,
          "Egypt": 1.9646092598540144,
          "France": 62.3395606,
          "India": 12.587553110948905,
          "Japan": 47.86192080875912,
          "Russian Federation": null,
          "South Korea": 15.994926055474453,
          "United Kingdom": 61.42231204233576,
          "United States": 408.75912408759126,
          "Year": "1991"
         },
         {
          "Brazil": 6.964859786610878,
          "China": 17.322595362622035,
          "Egypt": 1.9746443152022313,
          "France": 62.93317441283124,
          "India": 11.273683974895397,
          "Japan": 50.207982672245464,
          "Russian Federation": null,
          "South Korea": 16.198975168758718,
          "United Kingdom": 56.868812880055785,
          "United States": 425.3835425383543,
          "Year": "1992"
         },
         {
          "Brazil": 10.34970722303207,
          "China": 18.33406112244898,
          "Egypt": 2.22473089212828,
          "France": 62.08581974052478,
          "India": 12.031403179300291,
          "Japan": 60.28270586297377,
          "Russian Federation": 11.32174938483965,
          "South Korea": 18.042893400874636,
          "United Kingdom": 49.68787370699708,
          "United States": 434.4023323615161,
          "Year": "1993"
         },
         {
          "Brazil": 15.239567076258993,
          "China": 14.46127562446043,
          "Egypt": 2.466776670503597,
          "France": 63.8741184503597,
          "India": 12.77777154820144,
          "Japan": 65.15912817697843,
          "Russian Federation": 19.493340623021584,
          "South Korea": 19.452180953956837,
          "United Kingdom": 49.63096998992806,
          "United States": 414.3884892086331,
          "Year": "1994"
         },
         {
          "Brazil": 19.97059917433752,
          "China": 17.581910179916317,
          "Egypt": 2.7180990041841,
          "France": 66.62218967921898,
          "India": 13.60455317991632,
          "Japan": 69.68155263179916,
          "Russian Federation": 17.77075239888424,
          "South Korea": 22.43388518688982,
          "United Kingdom": 47.765444605299855,
          "United States": 389.12133891213387,
          "Year": "1995"
         },
         {
          "Brazil": 19.65534433659218,
          "China": 20.3397212150838,
          "Egypt": 2.9549482946927372,
          "France": 64.80927176536314,
          "India": 13.833341810055867,
          "Japan": 61.518302625698325,
          "Russian Federation": 22.10382772625698,
          "South Korea": 22.917130261173185,
          "United Kingdom": 48.171717157821234,
          "United States": 378.49162011173183,
          "Year": "1996"
         },
         {
          "Brazil": 19.51577948459384,
          "China": 22.555903686274508,
          "Egypt": 3.175980831932773,
          "France": 57.85469465686274,
          "India": 16.057259649859944,
          "Japan": 56.91154146778712,
          "Russian Federation": 24.618141710084036,
          "South Korea": 20.79619682072829,
          "United Kingdom": 49.96481563445378,
          "United States": 386.5546218487395,
          "Year": "1997"
         },
         {
          "Brazil": 20.628386561781607,
          "China": 25.183893489942527,
          "Egypt": 3.408115525862069,
          "France": 57.53037310344828,
          "India": 17.127314393678162,
          "Japan": 54.38076529166667,
          "Russian Federation": 11.430647127873565,
          "South Korea": 15.025801047413793,
          "United Kingdom": 52.968805821839084,
          "United States": 393.6781609195402,
          "Year": "1998"
         },
         {
          "Brazil": 13.916747417489423,
          "China": 29.65774505218618,
          "Egypt": 3.452720442877292,
          "France": 54.86211612270804,
          "India": 19.59881870380818,
          "Japan": 60.82214175599436,
          "Russian Federation": 9.124168139633287,
          "South Korea": 17.059501867418902,
          "United Kingdom": 51.41516644287729,
          "United States": 396.33286318758815,
          "Year": "1999"
         },
         {
          "Brazil": 15.539770595890412,
          "China": 31.410636447945205,
          "Egypt": 3.5995867589041093,
          "France": 46.32090688082192,
          "India": 19.571937316438355,
          "Japan": 62.34201894109589,
          "Russian Federation": 12.64137553972603,
          "South Korea": 18.90562606027397,
          "United Kingdom": 48.2942668479452,
          "United States": 413.6986301369863,
          "Year": "2000"
         },
         {
          "Brazil": 14.730770307277627,
          "China": 37.567907390835586,
          "Egypt": 3.819752331536388,
          "France": 44.84725029245283,
          "India": 19.6774155606469,
          "Japan": 54.92987497843666,
          "Russian Federation": 15.74548698787062,
          "South Korea": 17.44184747708895,
          "United Kingdom": 47.61715277628032,
          "United States": 421.83288409703505,
          "Year": "2001"
         },
         {
          "Brazil": 12.050575938902742,
          "China": 40.07198958728179,
          "Egypt": 3.6194120012468827,
          "France": 45.391438819201994,
          "India": 18.391106299251867,
          "Japan": 49.044523902743144,
          "Russian Federation": 17.38631553990025,
          "South Korea": 17.583171215710724,
          "United Kingdom": 49.45078444264338,
          "United States": 445.1371571072319,
          "Year": "2002"
         },
         {
          "Brazil": 8.957210121664888,
          "China": 37.48805401067236,
          "Egypt": 2.544199464247599,
          "France": 49.00424102561366,
          "India": 17.4322162678762,
          "Japan": 45.34277199679829,
          "Russian Federation": 18.114983014941302,
          "South Korea": 16.912537109925292,
          "United Kingdom": 50.0992126905016,
          "United States": 442.9028815368196,
          "Year": "2003"
         },
         {
          "Brazil": 9.226520363207547,
          "China": 38.068597298113204,
          "Egypt": 2.2356071566037734,
          "France": 50.00662420849057,
          "India": 19.092987289622645,
          "Japan": 42.773405108490564,
          "Russian Federation": 19.769258085849057,
          "South Korea": 16.82062655,
          "United Kingdom": 50.91538002924528,
          "United States": 438.67924528301893,
          "Year": "2004"
         },
         {
          "Brazil": 11.816191074782607,
          "China": 39.929462272173915,
          "Egypt": 2.3125562730434783,
          "France": 46.00762594347826,
          "India": 20.062880804347824,
          "Japan": 38.522272460869566,
          "Russian Federation": 23.771284586086953,
          "South Korea": 19.269141353913042,
          "United Kingdom": 47.95788190260869,
          "United States": 437.3913043478261,
          "Year": "2005"
         },
         {
          "Brazil": 13.785602778991596,
          "China": 46.50209047815126,
          "Egypt": 2.4811093773109243,
          "France": 45.81182926890756,
          "India": 20.127670552941176,
          "Japan": 34.91814528235294,
          "Russian Federation": 29.006539175630255,
          "South Korea": 21.1573426394958,
          "United Kingdom": 48.30502157478992,
          "United States": 443.69747899159665,
          "Year": "2006"
         },
         {
          "Brazil": 15.519513647727273,
          "China": 51.52391077878788,
          "Egypt": 2.5052335280303026,
          "France": 45.90529306590909,
          "India": 21.405131401515153,
          "Japan": 30.704580066666665,
          "Russian Federation": 32.98105681515152,
          "South Korea": 21.004643625,
          "United Kingdom": 49.98946186136363,
          "United States": 421.96969696969705,
          "Year": "2007"
         },
         {
          "Brazil": 16.411344319463087,
          "China": 57.9611403442953,
          "Egypt": 2.5368324496644297,
          "France": 44.30164303825504,
          "India": 22.149246125503357,
          "Japan": 31.115079382550338,
          "Russian Federation": 37.70723851879195,
          "South Korea": 17.498262085906042,
          "United Kingdom": 44.039899651006714,
          "United States": 416.7785234899329,
          "Year": "2008"
         },
         {
          "Brazil": 16.547619297419352,
          "China": 68.38709677419355,
          "Egypt": 2.5918738567741935,
          "France": 43.15098637354839,
          "India": 24.982035091612904,
          "Japan": 33.20332787612903,
          "Russian Federation": 33.24652696645161,
          "South Korea": 15.855265767096776,
          "United Kingdom": 37.36427603741936,
          "United States": 431.61290322580646,
          "Year": "2009"
         },
         {
          "Brazil": 20.860702128834355,
          "China": 71.16564417177915,
          "Egypt": 2.703856719631902,
          "France": 37.90291294969325,
          "India": 28.276347028834355,
          "Japan": 33.53095137116564,
          "Russian Federation": 36.02467951472393,
          "South Korea": 17.285387250920245,
          "United Kingdom": 35.63364956748466,
          "United States": 428.22085889570553,
          "Year": "2010"
         },
         {
          "Brazil": 21.35041034450867,
          "China": 79.76878612716763,
          "Egypt": 2.5803319023121385,
          "France": 37.341576427745665,
          "India": 28.69006693294798,
          "Japan": 35.1226669601156,
          "Russian Federation": 40.599724827167634,
          "South Korea": 17.91428204971098,
          "United Kingdom": 34.838402131213876,
          "United States": 410.9826589595376,
          "Year": "2011"
         },
         {
          "Brazil": 19.53276153678161,
          "China": 90.22988505747126,
          "Egypt": 2.6193958431034483,
          "France": 34.50296196034483,
          "India": 27.136160947126434,
          "Japan": 34.48938516954022,
          "Russian Federation": 46.82149421321839,
          "South Korea": 18.363080925287356,
          "United Kingdom": 33.61819351781609,
          "United States": 393.6781609195402,
          "Year": "2012"
         },
         {
          "Brazil": 18.89355587988506,
          "China": 103.44827586206897,
          "Egypt": 2.505651864367816,
          "France": 35.87189607931034,
          "India": 27.243407356896554,
          "Japan": 28.17467379712644,
          "Russian Federation": 50.77752670344827,
          "South Korea": 19.71909236494253,
          "United Kingdom": 32.679172177011495,
          "United States": 367.816091954023,
          "Year": "2013"
         },
         {
          "Brazil": 18.769893241954023,
          "China": 115.51724137931035,
          "Egypt": 2.922483070114943,
          "France": 36.55952249597701,
          "India": 29.260981805172413,
          "Japan": 26.943243906896548,
          "Russian Federation": 48.67615209942529,
          "South Korea": 21.581798087931034,
          "United Kingdom": 34.0131371,
          "United States": 350.5747126436782,
          "Year": "2014"
         },
         {
          "Brazil": 15.010793709146343,
          "China": 130.48780487804876,
          "Egypt": 3.3387139225609754,
          "France": 33.74520215182926,
          "India": 31.277733996341464,
          "Japan": 25.674453235365853,
          "Russian Federation": 40.499212307317066,
          "South Korea": 22.29924958719512,
          "United Kingdom": 32.84279603231707,
          "United States": 363.4146341463414,
          "Year": "2015"
         },
         {
          "Brazil": 14.861807914723927,
          "China": 132.5153374233129,
          "Egypt": 2.7687254766871163,
          "France": 35.1892113,
          "India": 34.74700775521472,
          "Japan": 28.509992462576687,
          "Russian Federation": 42.48178494539877,
          "South Korea": 22.629008239263804,
          "United Kingdom": 29.52082424417178,
          "United States": 368.0981595092025,
          "Year": "2016"
         },
         {
          "Brazil": 17.225323714117646,
          "China": 134.1176470588235,
          "Egypt": 1.626816725882353,
          "France": 35.53970518941177,
          "India": 37.97613840058823,
          "Japan": 26.69825400117647,
          "Russian Federation": 39.13370823058823,
          "South Korea": 23.041577727058822,
          "United Kingdom": 27.313707882941173,
          "United States": 356.4705882352941,
          "Year": "2017"
         },
         {
          "Brazil": 15.599116350561797,
          "China": 140.44943820224722,
          "Egypt": 1.7471898269662922,
          "France": 35.84251493988764,
          "India": 37.36533095955056,
          "Japan": 26.189862283146066,
          "Russian Federation": 34.48738594382022,
          "South Korea": 24.196614237640446,
          "United Kingdom": 28.08831040505618,
          "United States": 364.6067415730337,
          "Year": "2018"
         }
        ]
       },
       "encoding": {
        "color": {
         "field": "key",
         "title": "Countries",
         "type": "nominal"
        },
        "tooltip": [
         {
          "field": "value",
          "type": "quantitative"
         },
         {
          "field": "Year",
          "type": "nominal"
         }
        ],
        "x": {
         "field": "Year",
         "type": "nominal"
        },
        "y": {
         "field": "value",
         "title": "Amount in US Billions",
         "type": "quantitative"
        }
       },
       "height": 450,
       "mark": {
        "point": true,
        "type": "line"
       },
       "selection": {
        "selector004": {
         "bind": "scales",
         "encodings": [
          "x",
          "y"
         ],
         "type": "interval"
        }
       },
       "title": "Top 10 Countries and Expenditures in Billion USD (Normalized for Inflation)",
       "transform": [
        {
         "fold": [
          "United States",
          "China",
          "Russian Federation",
          "India",
          "Japan",
          "South Korea",
          "France",
          "United Kingdom",
          "Egypt",
          "Brazil"
         ]
        }
       ],
       "width": 720
      },
      "image/png": "[encoded data removed]",
      "text/plain": [
       "<VegaLite 3 object>\n",
       "\n",
       "If you see this message, it means the renderer has not been properly enabled\n",
       "for the frontend that you are using. For more information, see\n",
       "https://altair-viz.github.io/user_guide/troubleshooting.html\n"
      ]
     },
     "execution_count": 14,
     "metadata": {},
     "output_type": "execute_result"
    }
   ],
   "source": [
    "points = alt.Chart(GFI_10)\\\n",
    "            .transform_fold(['United States', \n",
    "                             'China', \n",
    "                             'Russian Federation', \n",
    "                             'India', \n",
    "                             'Japan',       \n",
    "                             'South Korea', \n",
    "                             'France', \n",
    "                             'United Kingdom', \n",
    "                             'Egypt', \n",
    "                             'Brazil'])\\\n",
    "            .mark_line(point=True)\\\n",
    "            .encode(\n",
    "                        y = alt.Y('value:Q', title = 'Amount in US Billions'),\n",
    "                        x = 'Year',\n",
    "                        tooltip = ['value:Q',\n",
    "                                   'Year'],\n",
    "                        color= alt.Color('key:N', title = 'Countries'),\n",
    "                    )\\\n",
    "            .properties(\n",
    "                            width = 720,\n",
    "                            height = 450,\n",
    "                            title = 'Top 10 Countries and Expenditures in Billion USD (Normalized for Inflation)'\n",
    "                     )\\\n",
    "            .interactive()  \n",
    "\n",
    "points.save('GFI.html')\n",
    "\n",
    "points "
   ]
  },
  {
   "cell_type": "markdown",
   "metadata": {
    "slideshow": {
     "slide_type": "slide"
    }
   },
   "source": [
    "Okay we can see a difference in the types of graphs from before and after inflation  \n",
    "Common thing is right from the begining we see the US poised to fight 🙄 and the other countries pulling their feet till 1975."
   ]
  },
  {
   "cell_type": "code",
   "execution_count": 15,
   "metadata": {
    "slideshow": {
     "slide_type": "skip"
    }
   },
   "outputs": [],
   "source": [
    "# Looking at some countries in Africa\n",
    "\n",
    "NG = Country_world_share['Nigeria']\n",
    "EGY = Country_world_share['Egypt']\n",
    "SA = Country_world_share['South Africa']\n",
    "ALG = Country_world_share['Algeria']\n",
    "SUD = Country_world_share['Sudan']\n",
    "EQG = Country_world_share['Equatorial Guinea']\n",
    "\n",
    "AFR_10 = pd.DataFrame([NG,EGY,  SA, ALG, SUD, EQG])\n",
    "\n",
    "AFR_10 = AFR_10.T\n",
    "\n",
    "AFR_10 = AFR_10.dropna(axis=0, how='all')\n",
    "AFR_10 = AFR_10/1e15\n",
    "\n",
    "AFR_10.index = AFR_10.index.rename('Year')\n",
    "\n",
    "AFR_10['Year'] = AFR_10.index\n",
    "AFR_10['Year'] = pd.to_numeric(AFR_10['Year'])"
   ]
  },
  {
   "cell_type": "markdown",
   "metadata": {
    "slideshow": {
     "slide_type": "slide"
    }
   },
   "source": [
    "Finally look at some countries in africa."
   ]
  },
  {
   "cell_type": "code",
   "execution_count": 16,
   "metadata": {
    "slideshow": {
     "slide_type": "slide"
    }
   },
   "outputs": [
    {
     "data": {
      "application/vnd.vegalite.v3+json": {
       "$schema": "https://vega.github.io/schema/vega-lite/v3.4.0.json",
       "config": {
        "mark": {
         "tooltip": null
        },
        "view": {
         "height": 300,
         "width": 400
        }
       },
       "data": {
        "name": "data-e39cc450471ad4cdc385b2ad6047275c"
       },
       "datasets": {
        "data-e39cc450471ad4cdc385b2ad6047275c": [
         {
          "Year": 1980,
          "value": 832.394254120879,
          "variable": "Nigeria"
         },
         {
          "Year": 1981,
          "value": 533.8687535,
          "variable": "Nigeria"
         },
         {
          "Year": 1984,
          "value": 270.29380580357144,
          "variable": "Nigeria"
         },
         {
          "Year": 1985,
          "value": 230.3086483122363,
          "variable": "Nigeria"
         },
         {
          "Year": 1986,
          "value": 99.4025979423077,
          "variable": "Nigeria"
         },
         {
          "Year": 1987,
          "value": 34.30122758503401,
          "variable": "Nigeria"
         },
         {
          "Year": 1988,
          "value": 43.23860390749601,
          "variable": "Nigeria"
         },
         {
          "Year": 1989,
          "value": 26.46597074418605,
          "variable": "Nigeria"
         },
         {
          "Year": 1990,
          "value": 39.61396907142857,
          "variable": "Nigeria"
         },
         {
          "Year": 1991,
          "value": 35.57748627737226,
          "variable": "Nigeria"
         },
         {
          "Year": 1992,
          "value": 24.2200389539749,
          "variable": "Nigeria"
         },
         {
          "Year": 1993,
          "value": 42.16196849854227,
          "variable": "Nigeria"
         },
         {
          "Year": 1994,
          "value": 45.999207179856114,
          "variable": "Nigeria"
         },
         {
          "Year": 1995,
          "value": 89.17805168758717,
          "variable": "Nigeria"
         },
         {
          "Year": 1996,
          "value": 97.96269254189944,
          "variable": "Nigeria"
         },
         {
          "Year": 1997,
          "value": 114.67570382352942,
          "variable": "Nigeria"
         },
         {
          "Year": 1998,
          "value": 165.18458764367819,
          "variable": "Nigeria"
         },
         {
          "Year": 1999,
          "value": 69.34716059238364,
          "variable": "Nigeria"
         },
         {
          "Year": 2000,
          "value": 50.49919308219178,
          "variable": "Nigeria"
         },
         {
          "Year": 2001,
          "value": 76.90462099730458,
          "variable": "Nigeria"
         },
         {
          "Year": 2002,
          "value": 111.83456376558603,
          "variable": "Nigeria"
         },
         {
          "Year": 2003,
          "value": 62.69603919957311,
          "variable": "Nigeria"
         },
         {
          "Year": 2004,
          "value": 60.37642139622642,
          "variable": "Nigeria"
         },
         {
          "Year": 2005,
          "value": 58.62679519999999,
          "variable": "Nigeria"
         },
         {
          "Year": 2006,
          "value": 65.22252590756302,
          "variable": "Nigeria"
         },
         {
          "Year": 2007,
          "value": 73.58495292424243,
          "variable": "Nigeria"
         },
         {
          "Year": 2008,
          "value": 108.42504771812082,
          "variable": "Nigeria"
         },
         {
          "Year": 2009,
          "value": 97.063624,
          "variable": "Nigeria"
         },
         {
          "Year": 2010,
          "value": 122.09200423312883,
          "variable": "Nigeria"
         },
         {
          "Year": 2011,
          "value": 137.85757352601158,
          "variable": "Nigeria"
         },
         {
          "Year": 2012,
          "value": 133.13093103448276,
          "variable": "Nigeria"
         },
         {
          "Year": 2013,
          "value": 139.00920522988505,
          "variable": "Nigeria"
         },
         {
          "Year": 2014,
          "value": 135.49803971264367,
          "variable": "Nigeria"
         },
         {
          "Year": 2015,
          "value": 125.94863798780489,
          "variable": "Nigeria"
         },
         {
          "Year": 2016,
          "value": 105.71805312883436,
          "variable": "Nigeria"
         },
         {
          "Year": 2017,
          "value": 95.36577505882353,
          "variable": "Nigeria"
         },
         {
          "Year": 2018,
          "value": 114.77818646067416,
          "variable": "Nigeria"
         },
         {
          "Year": 1980,
          "value": 374.0183041208791,
          "variable": "Egypt"
         },
         {
          "Year": 1981,
          "value": 454.28506525,
          "variable": "Egypt"
         },
         {
          "Year": 1984,
          "value": 835.2985515624999,
          "variable": "Egypt"
         },
         {
          "Year": 1985,
          "value": 886.8281483122364,
          "variable": "Egypt"
         },
         {
          "Year": 1986,
          "value": 909.0646353846153,
          "variable": "Egypt"
         },
         {
          "Year": 1987,
          "value": 817.2971802721089,
          "variable": "Egypt"
         },
         {
          "Year": 1988,
          "value": 710.2974586921849,
          "variable": "Egypt"
         },
         {
          "Year": 1989,
          "value": 545.1697365891473,
          "variable": "Egypt"
         },
         {
          "Year": 1990,
          "value": 322.9493087142857,
          "variable": "Egypt"
         },
         {
          "Year": 1991,
          "value": 196.46092598540145,
          "variable": "Egypt"
         },
         {
          "Year": 1992,
          "value": 197.46443152022314,
          "variable": "Egypt"
         },
         {
          "Year": 1993,
          "value": 222.473089212828,
          "variable": "Egypt"
         },
         {
          "Year": 1994,
          "value": 246.6776670503597,
          "variable": "Egypt"
         },
         {
          "Year": 1995,
          "value": 271.80990041841,
          "variable": "Egypt"
         },
         {
          "Year": 1996,
          "value": 295.4948294692737,
          "variable": "Egypt"
         },
         {
          "Year": 1997,
          "value": 317.5980831932773,
          "variable": "Egypt"
         },
         {
          "Year": 1998,
          "value": 340.8115525862069,
          "variable": "Egypt"
         },
         {
          "Year": 1999,
          "value": 345.2720442877292,
          "variable": "Egypt"
         },
         {
          "Year": 2000,
          "value": 359.9586758904109,
          "variable": "Egypt"
         },
         {
          "Year": 2001,
          "value": 381.9752331536388,
          "variable": "Egypt"
         },
         {
          "Year": 2002,
          "value": 361.94120012468824,
          "variable": "Egypt"
         },
         {
          "Year": 2003,
          "value": 254.41994642475987,
          "variable": "Egypt"
         },
         {
          "Year": 2004,
          "value": 223.56071566037735,
          "variable": "Egypt"
         },
         {
          "Year": 2005,
          "value": 231.25562730434785,
          "variable": "Egypt"
         },
         {
          "Year": 2006,
          "value": 248.1109377310924,
          "variable": "Egypt"
         },
         {
          "Year": 2007,
          "value": 250.52335280303026,
          "variable": "Egypt"
         },
         {
          "Year": 2008,
          "value": 253.68324496644297,
          "variable": "Egypt"
         },
         {
          "Year": 2009,
          "value": 259.18738567741934,
          "variable": "Egypt"
         },
         {
          "Year": 2010,
          "value": 270.3856719631902,
          "variable": "Egypt"
         },
         {
          "Year": 2011,
          "value": 258.03319023121384,
          "variable": "Egypt"
         },
         {
          "Year": 2012,
          "value": 261.93958431034486,
          "variable": "Egypt"
         },
         {
          "Year": 2013,
          "value": 250.5651864367816,
          "variable": "Egypt"
         },
         {
          "Year": 2014,
          "value": 292.24830701149426,
          "variable": "Egypt"
         },
         {
          "Year": 2015,
          "value": 333.8713922560975,
          "variable": "Egypt"
         },
         {
          "Year": 2016,
          "value": 276.87254766871166,
          "variable": "Egypt"
         },
         {
          "Year": 2017,
          "value": 162.6816725882353,
          "variable": "Egypt"
         },
         {
          "Year": 2018,
          "value": 174.7189826966292,
          "variable": "Egypt"
         },
         {
          "Year": 1980,
          "value": 731.228342032967,
          "variable": "South Africa"
         },
         {
          "Year": 1981,
          "value": 752.994887,
          "variable": "South Africa"
         },
         {
          "Year": 1984,
          "value": 618.3375238839286,
          "variable": "South Africa"
         },
         {
          "Year": 1985,
          "value": 446.71019936708865,
          "variable": "South Africa"
         },
         {
          "Year": 1986,
          "value": 480.3631596153846,
          "variable": "South Africa"
         },
         {
          "Year": 1987,
          "value": 611.5592899659863,
          "variable": "South Africa"
         },
         {
          "Year": 1988,
          "value": 679.9181535885167,
          "variable": "South Africa"
         },
         {
          "Year": 1989,
          "value": 648.3544910077519,
          "variable": "South Africa"
         },
         {
          "Year": 1990,
          "value": 623.4940291428572,
          "variable": "South Africa"
         },
         {
          "Year": 1991,
          "value": 565.6080489051095,
          "variable": "South Africa"
         },
         {
          "Year": 1992,
          "value": 512.8879304044631,
          "variable": "South Africa"
         },
         {
          "Year": 1993,
          "value": 474.38970539358604,
          "variable": "South Africa"
         },
         {
          "Year": 1994,
          "value": 500.5154375539568,
          "variable": "South Africa"
         },
         {
          "Year": 1995,
          "value": 459.19756792189685,
          "variable": "South Africa"
         },
         {
          "Year": 1996,
          "value": 361.981442877095,
          "variable": "South Africa"
         },
         {
          "Year": 1997,
          "value": 338.114525210084,
          "variable": "South Africa"
         },
         {
          "Year": 1998,
          "value": 273.80115071839083,
          "variable": "South Africa"
         },
         {
          "Year": 1999,
          "value": 245.13915726375174,
          "variable": "South Africa"
         },
         {
          "Year": 2000,
          "value": 259.140412739726,
          "variable": "South Africa"
         },
         {
          "Year": 2001,
          "value": 242.89248463611858,
          "variable": "South Africa"
         },
         {
          "Year": 2002,
          "value": 220.20983765586038,
          "variable": "South Africa"
         },
         {
          "Year": 2003,
          "value": 274.72532315901816,
          "variable": "South Africa"
         },
         {
          "Year": 2004,
          "value": 292.36463443396224,
          "variable": "South Africa"
         },
         {
          "Year": 2005,
          "value": 310.17076652173915,
          "variable": "South Africa"
         },
         {
          "Year": 2006,
          "value": 294.6335847058823,
          "variable": "South Africa"
         },
         {
          "Year": 2007,
          "value": 267.0972912121212,
          "variable": "South Africa"
         },
         {
          "Year": 2008,
          "value": 220.53188463087247,
          "variable": "South Africa"
         },
         {
          "Year": 2009,
          "value": 231.7863033548387,
          "variable": "South Africa"
         },
         {
          "Year": 2010,
          "value": 256.94282773006137,
          "variable": "South Africa"
         },
         {
          "Year": 2011,
          "value": 265.55803919075146,
          "variable": "South Africa"
         },
         {
          "Year": 2012,
          "value": 258.02241931034484,
          "variable": "South Africa"
         },
         {
          "Year": 2013,
          "value": 236.67864844827588,
          "variable": "South Africa"
         },
         {
          "Year": 2014,
          "value": 223.70512385057472,
          "variable": "South Africa"
         },
         {
          "Year": 2015,
          "value": 212.73585048780487,
          "variable": "South Africa"
         },
         {
          "Year": 2016,
          "value": 194.4635583435583,
          "variable": "South Africa"
         },
         {
          "Year": 2017,
          "value": 214.05509341176472,
          "variable": "South Africa"
         },
         {
          "Year": 2018,
          "value": 204.48759353932584,
          "variable": "South Africa"
         },
         {
          "Year": 1980,
          "value": 244.5534243956044,
          "variable": "Algeria"
         },
         {
          "Year": 1981,
          "value": 201.64233365,
          "variable": "Algeria"
         },
         {
          "Year": 1984,
          "value": 207.43098689732142,
          "variable": "Algeria"
         },
         {
          "Year": 1985,
          "value": 201.11807044303796,
          "variable": "Algeria"
         },
         {
          "Year": 1986,
          "value": 216.75061865384615,
          "variable": "Algeria"
         },
         {
          "Year": 1987,
          "value": 203.5665619047619,
          "variable": "Algeria"
         },
         {
          "Year": 1988,
          "value": 164.05285885167464,
          "variable": "Algeria"
         },
         {
          "Year": 1989,
          "value": 132.4497589612403,
          "variable": "Algeria"
         },
         {
          "Year": 1990,
          "value": 129.1813078857143,
          "variable": "Algeria"
         },
         {
          "Year": 1991,
          "value": 82.49606753284672,
          "variable": "Algeria"
         },
         {
          "Year": 1992,
          "value": 146.90399483960948,
          "variable": "Algeria"
         },
         {
          "Year": 1993,
          "value": 186.13864183673468,
          "variable": "Algeria"
         },
         {
          "Year": 1994,
          "value": 192.0736184172662,
          "variable": "Algeria"
         },
         {
          "Year": 1995,
          "value": 172.1973768479777,
          "variable": "Algeria"
         },
         {
          "Year": 1996,
          "value": 202.85349273743017,
          "variable": "Algeria"
         },
         {
          "Year": 1997,
          "value": 245.43351232492998,
          "variable": "Algeria"
         },
         {
          "Year": 1998,
          "value": 274.5635132183908,
          "variable": "Algeria"
         },
         {
          "Year": 1999,
          "value": 257.6158772919605,
          "variable": "Algeria"
         },
         {
          "Year": 2000,
          "value": 257.6936505479452,
          "variable": "Algeria"
         },
         {
          "Year": 2001,
          "value": 281.8904681940701,
          "variable": "Algeria"
         },
         {
          "Year": 2002,
          "value": 261.920513840399,
          "variable": "Algeria"
         },
         {
          "Year": 2003,
          "value": 235.4744676627535,
          "variable": "Algeria"
         },
         {
          "Year": 2004,
          "value": 264.3608296226415,
          "variable": "Algeria"
         },
         {
          "Year": 2005,
          "value": 254.33218843478264,
          "variable": "Algeria"
         },
         {
          "Year": 2006,
          "value": 259.9981718487395,
          "variable": "Algeria"
         },
         {
          "Year": 2007,
          "value": 298.92538825757583,
          "variable": "Algeria"
         },
         {
          "Year": 2008,
          "value": 347.13670516778524,
          "variable": "Algeria"
         },
         {
          "Year": 2009,
          "value": 340.6831068387097,
          "variable": "Algeria"
         },
         {
          "Year": 2010,
          "value": 347.9330746625767,
          "variable": "Algeria"
         },
         {
          "Year": 2011,
          "value": 500.1293086705202,
          "variable": "Algeria"
         },
         {
          "Year": 2012,
          "value": 535.9935140229885,
          "variable": "Algeria"
         },
         {
          "Year": 2013,
          "value": 583.9993240804598,
          "variable": "Algeria"
         },
         {
          "Year": 2014,
          "value": 558.8724121839081,
          "variable": "Algeria"
         },
         {
          "Year": 2015,
          "value": 634.9215855487805,
          "variable": "Algeria"
         },
         {
          "Year": 2016,
          "value": 626.8148282208589,
          "variable": "Algeria"
         },
         {
          "Year": 2017,
          "value": 592.5508247647059,
          "variable": "Algeria"
         },
         {
          "Year": 2018,
          "value": 538.4114768539326,
          "variable": "Algeria"
         },
         {
          "Year": 1980,
          "value": 62.63736263736264,
          "variable": "Sudan"
         },
         {
          "Year": 1981,
          "value": 50.996854299999995,
          "variable": "Sudan"
         },
         {
          "Year": 1984,
          "value": 79.32692308035713,
          "variable": "Sudan"
         },
         {
          "Year": 1985,
          "value": 43.31083476793249,
          "variable": "Sudan"
         },
         {
          "Year": 1986,
          "value": 50,
          "variable": "Sudan"
         },
         {
          "Year": 1987,
          "value": 52.77777777210885,
          "variable": "Sudan"
         },
         {
          "Year": 1988,
          "value": 58.904837846889954,
          "variable": "Sudan"
         },
         {
          "Year": 1989,
          "value": null,
          "variable": "Sudan"
         },
         {
          "Year": 1990,
          "value": 168.25396828571428,
          "variable": "Sudan"
         },
         {
          "Year": 1991,
          "value": 199.38658613138685,
          "variable": "Sudan"
         },
         {
          "Year": 1992,
          "value": 25.62321348675035,
          "variable": "Sudan"
         },
         {
          "Year": 1993,
          "value": 37.606573454810494,
          "variable": "Sudan"
         },
         {
          "Year": 1994,
          "value": 32.542015035971225,
          "variable": "Sudan"
         },
         {
          "Year": 1995,
          "value": 19.35236062761506,
          "variable": "Sudan"
         },
         {
          "Year": 1996,
          "value": 14.85094939944134,
          "variable": "Sudan"
         },
         {
          "Year": 1997,
          "value": 13.687935478991596,
          "variable": "Sudan"
         },
         {
          "Year": 1998,
          "value": 37.35022558908046,
          "variable": "Sudan"
         },
         {
          "Year": 1999,
          "value": 60.59490795486601,
          "variable": "Sudan"
         },
         {
          "Year": 2000,
          "value": 80.44761264383561,
          "variable": "Sudan"
         },
         {
          "Year": 2001,
          "value": 52.30341204851752,
          "variable": "Sudan"
         },
         {
          "Year": 2002,
          "value": 60.424845760598494,
          "variable": "Sudan"
         },
         {
          "Year": 2003,
          "value": 42.487750448239055,
          "variable": "Sudan"
         },
         {
          "Year": 2004,
          "value": 117.05348575471697,
          "variable": "Sudan"
         },
         {
          "Year": 2005,
          "value": 101.30399443478261,
          "variable": "Sudan"
         },
         {
          "Year": 2006,
          "value": 138.4738818487395,
          "variable": "Sudan"
         },
         {
          "Year": 2007,
          "value": 183.86913598484847,
          "variable": "Sudan"
         },
         {
          "Year": 2008,
          "value": 216.6442953020134,
          "variable": "Sudan"
         },
         {
          "Year": 2009,
          "value": 205.19245225806452,
          "variable": "Sudan"
         },
         {
          "Year": 2010,
          "value": null,
          "variable": "Sudan"
         },
         {
          "Year": 2011,
          "value": null,
          "variable": "Sudan"
         },
         {
          "Year": 2012,
          "value": null,
          "variable": "Sudan"
         },
         {
          "Year": 2013,
          "value": null,
          "variable": "Sudan"
         },
         {
          "Year": 2014,
          "value": null,
          "variable": "Sudan"
         },
         {
          "Year": 2015,
          "value": 139.00131951219512,
          "variable": "Sudan"
         },
         {
          "Year": 2016,
          "value": 168.62036662576688,
          "variable": "Sudan"
         },
         {
          "Year": 2017,
          "value": 257.8234598235294,
          "variable": "Sudan"
         },
         {
          "Year": 2018,
          "value": 58.86959101123596,
          "variable": "Sudan"
         },
         {
          "Year": 1980,
          "value": null,
          "variable": "Equatorial Guinea"
         },
         {
          "Year": 1981,
          "value": null,
          "variable": "Equatorial Guinea"
         },
         {
          "Year": 1984,
          "value": null,
          "variable": "Equatorial Guinea"
         },
         {
          "Year": 1985,
          "value": null,
          "variable": "Equatorial Guinea"
         },
         {
          "Year": 1986,
          "value": null,
          "variable": "Equatorial Guinea"
         },
         {
          "Year": 1987,
          "value": null,
          "variable": "Equatorial Guinea"
         },
         {
          "Year": 1988,
          "value": null,
          "variable": "Equatorial Guinea"
         },
         {
          "Year": 1989,
          "value": null,
          "variable": "Equatorial Guinea"
         },
         {
          "Year": 1990,
          "value": null,
          "variable": "Equatorial Guinea"
         },
         {
          "Year": 1991,
          "value": null,
          "variable": "Equatorial Guinea"
         },
         {
          "Year": 1992,
          "value": null,
          "variable": "Equatorial Guinea"
         },
         {
          "Year": 1993,
          "value": null,
          "variable": "Equatorial Guinea"
         },
         {
          "Year": 1994,
          "value": 0.34234551640287775,
          "variable": "Equatorial Guinea"
         },
         {
          "Year": 1995,
          "value": 0.4808751993026499,
          "variable": "Equatorial Guinea"
         },
         {
          "Year": 1996,
          "value": null,
          "variable": "Equatorial Guinea"
         },
         {
          "Year": 1997,
          "value": null,
          "variable": "Equatorial Guinea"
         },
         {
          "Year": 1998,
          "value": null,
          "variable": "Equatorial Guinea"
         },
         {
          "Year": 1999,
          "value": null,
          "variable": "Equatorial Guinea"
         },
         {
          "Year": 2000,
          "value": null,
          "variable": "Equatorial Guinea"
         },
         {
          "Year": 2001,
          "value": null,
          "variable": "Equatorial Guinea"
         },
         {
          "Year": 2002,
          "value": null,
          "variable": "Equatorial Guinea"
         },
         {
          "Year": 2003,
          "value": null,
          "variable": "Equatorial Guinea"
         },
         {
          "Year": 2004,
          "value": null,
          "variable": "Equatorial Guinea"
         },
         {
          "Year": 2005,
          "value": null,
          "variable": "Equatorial Guinea"
         },
         {
          "Year": 2006,
          "value": null,
          "variable": "Equatorial Guinea"
         },
         {
          "Year": 2007,
          "value": 14.872300886363636,
          "variable": "Equatorial Guinea"
         },
         {
          "Year": 2008,
          "value": 19.647963677852353,
          "variable": "Equatorial Guinea"
         },
         {
          "Year": 2009,
          "value": 23.995328251612904,
          "variable": "Equatorial Guinea"
         },
         {
          "Year": 2010,
          "value": null,
          "variable": "Equatorial Guinea"
         },
         {
          "Year": 2011,
          "value": null,
          "variable": "Equatorial Guinea"
         },
         {
          "Year": 2012,
          "value": null,
          "variable": "Equatorial Guinea"
         },
         {
          "Year": 2013,
          "value": null,
          "variable": "Equatorial Guinea"
         },
         {
          "Year": 2014,
          "value": 9.571279,
          "variable": "Equatorial Guinea"
         },
         {
          "Year": 2015,
          "value": null,
          "variable": "Equatorial Guinea"
         },
         {
          "Year": 2016,
          "value": 1.118598417177914,
          "variable": "Equatorial Guinea"
         },
         {
          "Year": 2017,
          "value": null,
          "variable": "Equatorial Guinea"
         },
         {
          "Year": 2018,
          "value": null,
          "variable": "Equatorial Guinea"
         }
        ]
       },
       "encoding": {
        "color": {
         "field": "variable",
         "title": "Countries",
         "type": "nominal"
        },
        "size": {
         "field": "value",
         "type": "quantitative"
        },
        "tooltip": [
         {
          "field": "value",
          "type": "quantitative"
         },
         {
          "field": "variable",
          "type": "nominal"
         },
         {
          "field": "Year",
          "type": "quantitative"
         }
        ],
        "x": {
         "field": "Year",
         "type": "ordinal"
        },
        "y": {
         "field": "value",
         "stack": null,
         "title": "Amount in US Billions",
         "type": "quantitative"
        }
       },
       "height": 450,
       "mark": {
        "size": 2,
        "type": "trail"
       },
       "selection": {
        "selector005": {
         "bind": "scales",
         "encodings": [
          "x",
          "y"
         ],
         "type": "interval"
        }
       },
       "title": "Some African Countries and Expenditures in Million USD",
       "width": 720
      },
      "image/png": "[encoded data removed]",
      "text/plain": [
       "<VegaLite 3 object>\n",
       "\n",
       "If you see this message, it means the renderer has not been properly enabled\n",
       "for the frontend that you are using. For more information, see\n",
       "https://altair-viz.github.io/user_guide/troubleshooting.html\n"
      ]
     },
     "execution_count": 16,
     "metadata": {},
     "output_type": "execute_result"
    }
   ],
   "source": [
    "AFR = AFR_10.melt('Year')\n",
    "\n",
    "point = alt.Chart(AFR)\\\n",
    "           .mark_trail(size=2)\\\n",
    "           .encode(\n",
    "                    x = alt.X('Year:O'),\n",
    "                    y = alt.Y('value', stack=None, title = 'Amount in US Billions'),\n",
    "                    tooltip = ['value:Q',\n",
    "                               'variable',\n",
    "                               'Year'],\n",
    "                    color = alt.Color('variable:N', title = 'Countries'),\n",
    "                    size = 'value:Q'\n",
    "                   )\\\n",
    "           .properties(\n",
    "                            width = 720,\n",
    "                            height = 450,\n",
    "                            title = 'Some African Countries and Expenditures in Million USD'\n",
    "                     )\\\n",
    "           .interactive()  \n",
    "\n",
    "point.save('AFR.html')\n",
    "\n",
    "point \n"
   ]
  },
  {
   "cell_type": "markdown",
   "metadata": {
    "slideshow": {
     "slide_type": "slide"
    }
   },
   "source": [
    "__I wanted to look at some countries in Africa  \n",
    "\n",
    "_Egypt (1986)_ : Riots by the paramilitary force in and around Cairo due to a rumour about prolonged compulsory service, targeting tourist areas.  \n",
    "And the Mubarak regime crushed the riot with the Egyptian Army."
   ]
  },
  {
   "cell_type": "code",
   "execution_count": 17,
   "metadata": {},
   "outputs": [],
   "source": [
    "# !jupyter nbconvert index.ipynb --to slides --post serve  --SlidesExporter.reveal_scroll=True"
   ]
  },
  {
   "cell_type": "code",
   "execution_count": null,
   "metadata": {},
   "outputs": [],
   "source": []
  }
 ],
 "metadata": {
  "celltoolbar": "Slideshow",
  "kernelspec": {
   "display_name": "Python 3",
   "language": "python",
   "name": "python3"
  },
  "language_info": {
   "codemirror_mode": {
    "name": "ipython",
    "version": 3
   },
   "file_extension": ".py",
   "mimetype": "text/x-python",
   "name": "python",
   "nbconvert_exporter": "python",
   "pygments_lexer": "ipython3",
   "version": "3.7.6"
  }
 },
 "nbformat": 4,
 "nbformat_minor": 4
}
